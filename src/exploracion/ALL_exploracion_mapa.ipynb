{
 "cells": [
  {
   "cell_type": "code",
   "execution_count": 10,
   "metadata": {},
   "outputs": [],
   "source": [
    "import pandas as pd\n",
    "\n",
    "df = pd.read_csv('../../data/ex2/preprocess_mapa.csv')"
   ]
  },
  {
   "cell_type": "code",
   "execution_count": 13,
   "metadata": {},
   "outputs": [
    {
     "data": {
      "text/plain": [
       "icao\n",
       "0701a1    2\n",
       "34124f    2\n",
       "342344    2\n",
       "342345    2\n",
       "342346    2\n",
       "342347    2\n",
       "342348    2\n",
       "342349    2\n",
       "34234a    2\n",
       "34234b    2\n",
       "34234d    2\n",
       "34234e    2\n",
       "34234f    2\n",
       "342350    2\n",
       "342352    2\n",
       "342353    2\n",
       "342354    2\n",
       "342355    2\n",
       "343409    2\n",
       "343408    2\n",
       "344115    2\n",
       "3440d7    2\n",
       "344205    2\n",
       "3455d5    2\n",
       "346419    2\n",
       "34628d    2\n",
       "e06588    2\n",
       "aa5f41    2\n",
       "34754d    2\n",
       "34810b    2\n",
       "3c5433    2\n",
       "396443    2\n",
       "4b18f5    2\n",
       "40762c    2\n",
       "abd336    2\n",
       "342358    1\n",
       "343404    1\n",
       "34564a    1\n",
       "39c958    1\n",
       "4cac56    1\n",
       "a3f579    1\n",
       "a560f3    1\n",
       "Name: count, dtype: int64"
      ]
     },
     "execution_count": 13,
     "metadata": {},
     "output_type": "execute_result"
    }
   ],
   "source": [
    "df.icao.value_counts().sort_values(ascending=False)"
   ]
  },
  {
   "cell_type": "code",
   "execution_count": null,
   "metadata": {},
   "outputs": [],
   "source": []
  }
 ],
 "metadata": {
  "kernelspec": {
   "display_name": ".venv",
   "language": "python",
   "name": "python3"
  },
  "language_info": {
   "codemirror_mode": {
    "name": "ipython",
    "version": 3
   },
   "file_extension": ".py",
   "mimetype": "text/x-python",
   "name": "python",
   "nbconvert_exporter": "python",
   "pygments_lexer": "ipython3",
   "version": "3.12.7"
  },
  "orig_nbformat": 4
 },
 "nbformat": 4,
 "nbformat_minor": 2
}
