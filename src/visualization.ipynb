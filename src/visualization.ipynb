{
 "cells": [
  {
   "cell_type": "code",
   "execution_count": 1,
   "metadata": {},
   "outputs": [
    {
     "data": {
      "text/html": [
       "<div>\n",
       "<style scoped>\n",
       "    .dataframe tbody tr th:only-of-type {\n",
       "        vertical-align: middle;\n",
       "    }\n",
       "\n",
       "    .dataframe tbody tr th {\n",
       "        vertical-align: top;\n",
       "    }\n",
       "\n",
       "    .dataframe thead th {\n",
       "        text-align: right;\n",
       "    }\n",
       "</style>\n",
       "<table border=\"1\" class=\"dataframe\">\n",
       "  <thead>\n",
       "    <tr style=\"text-align: right;\">\n",
       "      <th></th>\n",
       "      <th>ts_kafka</th>\n",
       "      <th>message</th>\n",
       "    </tr>\n",
       "  </thead>\n",
       "  <tbody>\n",
       "    <tr>\n",
       "      <th>0</th>\n",
       "      <td>1733011203260</td>\n",
       "      <td>jUoZIupCiFgBPAjykJ4=</td>\n",
       "    </tr>\n",
       "    <tr>\n",
       "      <th>1</th>\n",
       "      <td>1733011203260</td>\n",
       "      <td>oAAUllilYmBIYPDDtec=</td>\n",
       "    </tr>\n",
       "    <tr>\n",
       "      <th>2</th>\n",
       "      <td>1733011203260</td>\n",
       "      <td>oAAZEMMJ5TEgP//kyUg=</td>\n",
       "    </tr>\n",
       "    <tr>\n",
       "      <th>3</th>\n",
       "      <td>1733011203260</td>\n",
       "      <td>jQIBK/gjAAIASbh2gt8=</td>\n",
       "    </tr>\n",
       "    <tr>\n",
       "      <th>4</th>\n",
       "      <td>1733011203260</td>\n",
       "      <td>XTRCE1QV9w==</td>\n",
       "    </tr>\n",
       "    <tr>\n",
       "      <th>...</th>\n",
       "      <td>...</td>\n",
       "      <td>...</td>\n",
       "    </tr>\n",
       "    <tr>\n",
       "      <th>5299995</th>\n",
       "      <td>1733125070354</td>\n",
       "      <td>qAAcMM9Z3y+/N+Jqk5Q=</td>\n",
       "    </tr>\n",
       "    <tr>\n",
       "      <th>5299996</th>\n",
       "      <td>1733125070363</td>\n",
       "      <td>oAAYv8zp2TA/9/9zeYc=</td>\n",
       "    </tr>\n",
       "    <tr>\n",
       "      <th>5299997</th>\n",
       "      <td>1733125070364</td>\n",
       "      <td>XUyvtCzrfw==</td>\n",
       "    </tr>\n",
       "    <tr>\n",
       "      <th>5299998</th>\n",
       "      <td>1733125070364</td>\n",
       "      <td>jTRDRFhD9lnm+bTyEwQ=</td>\n",
       "    </tr>\n",
       "    <tr>\n",
       "      <th>5299999</th>\n",
       "      <td>1733125070364</td>\n",
       "      <td>jTRkWFg7Eus3O5h+ruk=</td>\n",
       "    </tr>\n",
       "  </tbody>\n",
       "</table>\n",
       "<p>5300000 rows × 2 columns</p>\n",
       "</div>"
      ],
      "text/plain": [
       "              ts_kafka               message\n",
       "0        1733011203260  jUoZIupCiFgBPAjykJ4=\n",
       "1        1733011203260  oAAUllilYmBIYPDDtec=\n",
       "2        1733011203260  oAAZEMMJ5TEgP//kyUg=\n",
       "3        1733011203260  jQIBK/gjAAIASbh2gt8=\n",
       "4        1733011203260          XTRCE1QV9w==\n",
       "...                ...                   ...\n",
       "5299995  1733125070354  qAAcMM9Z3y+/N+Jqk5Q=\n",
       "5299996  1733125070363  oAAYv8zp2TA/9/9zeYc=\n",
       "5299997  1733125070364          XUyvtCzrfw==\n",
       "5299998  1733125070364  jTRDRFhD9lnm+bTyEwQ=\n",
       "5299999  1733125070364  jTRkWFg7Eus3O5h+ruk=\n",
       "\n",
       "[5300000 rows x 2 columns]"
      ]
     },
     "execution_count": 1,
     "metadata": {},
     "output_type": "execute_result"
    }
   ],
   "source": [
    "import pandas as pd \n",
    "import base64\n",
    "import pyModeS as pms\n",
    "df = pd.read_csv(\"/Users/hamzatriki/3ºProyectoDeDatos2/proyecto/1090_riddle/output.csv\",sep = \";\")\n",
    "df = df.drop(columns=\"Unnamed: 2\")\n",
    "df"
   ]
  },
  {
   "cell_type": "code",
   "execution_count": 2,
   "metadata": {},
   "outputs": [],
   "source": [
    "def encodeHex(b64):\n",
    "    return base64.b64decode(b64).hex()"
   ]
  },
  {
   "cell_type": "code",
   "execution_count": 4,
   "metadata": {},
   "outputs": [],
   "source": [
    "def getDownlink(hex):\n",
    "    return pms.df(hex)"
   ]
  },
  {
   "cell_type": "code",
   "execution_count": 5,
   "metadata": {},
   "outputs": [],
   "source": [
    "def msgIsCorrupted(hex):\n",
    "    return (pms.crc(hex) != 0)"
   ]
  },
  {
   "cell_type": "code",
   "execution_count": 6,
   "metadata": {},
   "outputs": [],
   "source": [
    "def getICAO(hex):\n",
    "    return str(pms.common.icao(hex))"
   ]
  },
  {
   "cell_type": "code",
   "execution_count": 7,
   "metadata": {},
   "outputs": [],
   "source": [
    "def getOnGround(hex):\n",
    "    decimal_value =  pms.bin2int(pms.hex2bin(hex)[5:8]) \n",
    "    if decimal_value == 4:\n",
    "        return 1\n",
    "    elif decimal_value == 5:\n",
    "        return 0\n",
    "    else:\n",
    "        return None\n",
    "    "
   ]
  },
  {
   "cell_type": "code",
   "execution_count": 8,
   "metadata": {},
   "outputs": [],
   "source": [
    "df[\"messageHex\"] = df[\"message\"].apply(encodeHex)\n",
    "df[\"DL\"] = df[\"messageHex\"].apply(getDownlink)\n",
    "df_11 = df[df[\"DL\"] == 11]\n",
    "df_11 =df_11.reset_index()\n"
   ]
  },
  {
   "cell_type": "code",
   "execution_count": 9,
   "metadata": {},
   "outputs": [
    {
     "data": {
      "text/html": [
       "<div>\n",
       "<style scoped>\n",
       "    .dataframe tbody tr th:only-of-type {\n",
       "        vertical-align: middle;\n",
       "    }\n",
       "\n",
       "    .dataframe tbody tr th {\n",
       "        vertical-align: top;\n",
       "    }\n",
       "\n",
       "    .dataframe thead th {\n",
       "        text-align: right;\n",
       "    }\n",
       "</style>\n",
       "<table border=\"1\" class=\"dataframe\">\n",
       "  <thead>\n",
       "    <tr style=\"text-align: right;\">\n",
       "      <th></th>\n",
       "      <th>index</th>\n",
       "      <th>ts_kafka</th>\n",
       "      <th>message</th>\n",
       "      <th>messageHex</th>\n",
       "      <th>DL</th>\n",
       "    </tr>\n",
       "  </thead>\n",
       "  <tbody>\n",
       "    <tr>\n",
       "      <th>0</th>\n",
       "      <td>4</td>\n",
       "      <td>1733011203260</td>\n",
       "      <td>XTRCE1QV9w==</td>\n",
       "      <td>5d3442135415f7</td>\n",
       "      <td>11</td>\n",
       "    </tr>\n",
       "    <tr>\n",
       "      <th>1</th>\n",
       "      <td>28</td>\n",
       "      <td>1733011203261</td>\n",
       "      <td>XVAtXkh/IA==</td>\n",
       "      <td>5d502d5e487f20</td>\n",
       "      <td>11</td>\n",
       "    </tr>\n",
       "    <tr>\n",
       "      <th>2</th>\n",
       "      <td>54</td>\n",
       "      <td>1733011206603</td>\n",
       "      <td>XjQjVWd01A==</td>\n",
       "      <td>5e3423556774d4</td>\n",
       "      <td>11</td>\n",
       "    </tr>\n",
       "    <tr>\n",
       "      <th>3</th>\n",
       "      <td>56</td>\n",
       "      <td>1733011206603</td>\n",
       "      <td>XUytpDAQpw==</td>\n",
       "      <td>5d4cada43010a7</td>\n",
       "      <td>11</td>\n",
       "    </tr>\n",
       "    <tr>\n",
       "      <th>4</th>\n",
       "      <td>64</td>\n",
       "      <td>1733011206603</td>\n",
       "      <td>XUnS7vEibg==</td>\n",
       "      <td>5d49d2eef1226e</td>\n",
       "      <td>11</td>\n",
       "    </tr>\n",
       "  </tbody>\n",
       "</table>\n",
       "</div>"
      ],
      "text/plain": [
       "   index       ts_kafka       message      messageHex  DL\n",
       "0      4  1733011203260  XTRCE1QV9w==  5d3442135415f7  11\n",
       "1     28  1733011203261  XVAtXkh/IA==  5d502d5e487f20  11\n",
       "2     54  1733011206603  XjQjVWd01A==  5e3423556774d4  11\n",
       "3     56  1733011206603  XUytpDAQpw==  5d4cada43010a7  11\n",
       "4     64  1733011206603  XUnS7vEibg==  5d49d2eef1226e  11"
      ]
     },
     "execution_count": 9,
     "metadata": {},
     "output_type": "execute_result"
    }
   ],
   "source": [
    "df_11.head()"
   ]
  },
  {
   "cell_type": "code",
   "execution_count": 11,
   "metadata": {},
   "outputs": [
    {
     "data": {
      "text/html": [
       "<div>\n",
       "<style scoped>\n",
       "    .dataframe tbody tr th:only-of-type {\n",
       "        vertical-align: middle;\n",
       "    }\n",
       "\n",
       "    .dataframe tbody tr th {\n",
       "        vertical-align: top;\n",
       "    }\n",
       "\n",
       "    .dataframe thead th {\n",
       "        text-align: right;\n",
       "    }\n",
       "</style>\n",
       "<table border=\"1\" class=\"dataframe\">\n",
       "  <thead>\n",
       "    <tr style=\"text-align: right;\">\n",
       "      <th></th>\n",
       "      <th>index</th>\n",
       "      <th>ts_kafka</th>\n",
       "      <th>message</th>\n",
       "      <th>messageHex</th>\n",
       "      <th>DL</th>\n",
       "      <th>ICAO</th>\n",
       "    </tr>\n",
       "  </thead>\n",
       "  <tbody>\n",
       "    <tr>\n",
       "      <th>0</th>\n",
       "      <td>0</td>\n",
       "      <td>1733011203260</td>\n",
       "      <td>jUoZIupCiFgBPAjykJ4=</td>\n",
       "      <td>8d4a1922ea428858013c08f2909e</td>\n",
       "      <td>17</td>\n",
       "      <td>4a1922</td>\n",
       "    </tr>\n",
       "    <tr>\n",
       "      <th>1</th>\n",
       "      <td>3</td>\n",
       "      <td>1733011203260</td>\n",
       "      <td>jQIBK/gjAAIASbh2gt8=</td>\n",
       "      <td>8d02012bf82300020049b87682df</td>\n",
       "      <td>17</td>\n",
       "      <td>02012b</td>\n",
       "    </tr>\n",
       "    <tr>\n",
       "      <th>2</th>\n",
       "      <td>8</td>\n",
       "      <td>1733011203260</td>\n",
       "      <td>jTRCE5kJwZAgDCQK1nA=</td>\n",
       "      <td>8d3442139909c190200c240ad670</td>\n",
       "      <td>17</td>\n",
       "      <td>344213</td>\n",
       "    </tr>\n",
       "    <tr>\n",
       "      <th>3</th>\n",
       "      <td>9</td>\n",
       "      <td>1733011203260</td>\n",
       "      <td>jTRCE5kJwZAgDCQK1nA=</td>\n",
       "      <td>8d3442139909c190200c240ad670</td>\n",
       "      <td>17</td>\n",
       "      <td>344213</td>\n",
       "    </tr>\n",
       "    <tr>\n",
       "      <th>4</th>\n",
       "      <td>10</td>\n",
       "      <td>1733011203260</td>\n",
       "      <td>jUytpOEHCQAAAAAJsfk=</td>\n",
       "      <td>8d4cada4e107090000000009b1f9</td>\n",
       "      <td>17</td>\n",
       "      <td>4cada4</td>\n",
       "    </tr>\n",
       "    <tr>\n",
       "      <th>...</th>\n",
       "      <td>...</td>\n",
       "      <td>...</td>\n",
       "      <td>...</td>\n",
       "      <td>...</td>\n",
       "      <td>...</td>\n",
       "      <td>...</td>\n",
       "    </tr>\n",
       "    <tr>\n",
       "      <th>1987117</th>\n",
       "      <td>5299984</td>\n",
       "      <td>1733125070354</td>\n",
       "      <td>kDQjRigABki4f7DpsFQ=</td>\n",
       "      <td>9034234628000648b87fb0e9b054</td>\n",
       "      <td>18</td>\n",
       "      <td>342346</td>\n",
       "    </tr>\n",
       "    <tr>\n",
       "      <th>1987118</th>\n",
       "      <td>5299988</td>\n",
       "      <td>1733125070354</td>\n",
       "      <td>jUlSEepOOGABX4gy+go=</td>\n",
       "      <td>8d495211ea4e3860015f8832fa0a</td>\n",
       "      <td>17</td>\n",
       "      <td>495211</td>\n",
       "    </tr>\n",
       "    <tr>\n",
       "      <th>1987119</th>\n",
       "      <td>5299993</td>\n",
       "      <td>1733125070354</td>\n",
       "      <td>jTRkWJkMcaFYMBsLGiM=</td>\n",
       "      <td>8d346458990c71a158301b0b1a23</td>\n",
       "      <td>17</td>\n",
       "      <td>346458</td>\n",
       "    </tr>\n",
       "    <tr>\n",
       "      <th>1987120</th>\n",
       "      <td>5299998</td>\n",
       "      <td>1733125070364</td>\n",
       "      <td>jTRDRFhD9lnm+bTyEwQ=</td>\n",
       "      <td>8d3443445843f659e6f9b4f21304</td>\n",
       "      <td>17</td>\n",
       "      <td>344344</td>\n",
       "    </tr>\n",
       "    <tr>\n",
       "      <th>1987121</th>\n",
       "      <td>5299999</td>\n",
       "      <td>1733125070364</td>\n",
       "      <td>jTRkWFg7Eus3O5h+ruk=</td>\n",
       "      <td>8d346458583b12eb373b987eaee9</td>\n",
       "      <td>17</td>\n",
       "      <td>346458</td>\n",
       "    </tr>\n",
       "  </tbody>\n",
       "</table>\n",
       "<p>1987122 rows × 6 columns</p>\n",
       "</div>"
      ],
      "text/plain": [
       "           index       ts_kafka               message  \\\n",
       "0              0  1733011203260  jUoZIupCiFgBPAjykJ4=   \n",
       "1              3  1733011203260  jQIBK/gjAAIASbh2gt8=   \n",
       "2              8  1733011203260  jTRCE5kJwZAgDCQK1nA=   \n",
       "3              9  1733011203260  jTRCE5kJwZAgDCQK1nA=   \n",
       "4             10  1733011203260  jUytpOEHCQAAAAAJsfk=   \n",
       "...          ...            ...                   ...   \n",
       "1987117  5299984  1733125070354  kDQjRigABki4f7DpsFQ=   \n",
       "1987118  5299988  1733125070354  jUlSEepOOGABX4gy+go=   \n",
       "1987119  5299993  1733125070354  jTRkWJkMcaFYMBsLGiM=   \n",
       "1987120  5299998  1733125070364  jTRDRFhD9lnm+bTyEwQ=   \n",
       "1987121  5299999  1733125070364  jTRkWFg7Eus3O5h+ruk=   \n",
       "\n",
       "                           messageHex  DL    ICAO  \n",
       "0        8d4a1922ea428858013c08f2909e  17  4a1922  \n",
       "1        8d02012bf82300020049b87682df  17  02012b  \n",
       "2        8d3442139909c190200c240ad670  17  344213  \n",
       "3        8d3442139909c190200c240ad670  17  344213  \n",
       "4        8d4cada4e107090000000009b1f9  17  4cada4  \n",
       "...                               ...  ..     ...  \n",
       "1987117  9034234628000648b87fb0e9b054  18  342346  \n",
       "1987118  8d495211ea4e3860015f8832fa0a  17  495211  \n",
       "1987119  8d346458990c71a158301b0b1a23  17  346458  \n",
       "1987120  8d3443445843f659e6f9b4f21304  17  344344  \n",
       "1987121  8d346458583b12eb373b987eaee9  17  346458  \n",
       "\n",
       "[1987122 rows x 6 columns]"
      ]
     },
     "execution_count": 11,
     "metadata": {},
     "output_type": "execute_result"
    }
   ],
   "source": [
    "df[\"ICAO\"] = df[\"messageHex\"].apply(getICAO)\n",
    "df_17_18 =  df[(df[\"DL\"] == 17) |((df[\"DL\"] == 18))]\n",
    "df_17_18 = df_17_18.reset_index()\n",
    "df_17_18"
   ]
  },
  {
   "cell_type": "code",
   "execution_count": 12,
   "metadata": {},
   "outputs": [],
   "source": [
    "def getTypeCode(hex):\n",
    "    return pms.common.typecode(hex)"
   ]
  },
  {
   "cell_type": "code",
   "execution_count": 13,
   "metadata": {},
   "outputs": [],
   "source": [
    "def getCallSign(hex,typecode):\n",
    "    if typecode >= 1 and typecode <= 4:\n",
    "        return pms.decoder.adsb.callsign(hex)\n",
    "    return None"
   ]
  },
  {
   "cell_type": "code",
   "execution_count": 14,
   "metadata": {},
   "outputs": [
    {
     "data": {
      "text/html": [
       "<div>\n",
       "<style scoped>\n",
       "    .dataframe tbody tr th:only-of-type {\n",
       "        vertical-align: middle;\n",
       "    }\n",
       "\n",
       "    .dataframe tbody tr th {\n",
       "        vertical-align: top;\n",
       "    }\n",
       "\n",
       "    .dataframe thead th {\n",
       "        text-align: right;\n",
       "    }\n",
       "</style>\n",
       "<table border=\"1\" class=\"dataframe\">\n",
       "  <thead>\n",
       "    <tr style=\"text-align: right;\">\n",
       "      <th></th>\n",
       "      <th>index</th>\n",
       "      <th>ts_kafka</th>\n",
       "      <th>message</th>\n",
       "      <th>messageHex</th>\n",
       "      <th>DL</th>\n",
       "      <th>ICAO</th>\n",
       "      <th>TC</th>\n",
       "    </tr>\n",
       "  </thead>\n",
       "  <tbody>\n",
       "    <tr>\n",
       "      <th>0</th>\n",
       "      <td>0</td>\n",
       "      <td>1733011203260</td>\n",
       "      <td>jUoZIupCiFgBPAjykJ4=</td>\n",
       "      <td>8d4a1922ea428858013c08f2909e</td>\n",
       "      <td>17</td>\n",
       "      <td>4a1922</td>\n",
       "      <td>29</td>\n",
       "    </tr>\n",
       "    <tr>\n",
       "      <th>1</th>\n",
       "      <td>3</td>\n",
       "      <td>1733011203260</td>\n",
       "      <td>jQIBK/gjAAIASbh2gt8=</td>\n",
       "      <td>8d02012bf82300020049b87682df</td>\n",
       "      <td>17</td>\n",
       "      <td>02012b</td>\n",
       "      <td>31</td>\n",
       "    </tr>\n",
       "    <tr>\n",
       "      <th>2</th>\n",
       "      <td>8</td>\n",
       "      <td>1733011203260</td>\n",
       "      <td>jTRCE5kJwZAgDCQK1nA=</td>\n",
       "      <td>8d3442139909c190200c240ad670</td>\n",
       "      <td>17</td>\n",
       "      <td>344213</td>\n",
       "      <td>19</td>\n",
       "    </tr>\n",
       "    <tr>\n",
       "      <th>3</th>\n",
       "      <td>9</td>\n",
       "      <td>1733011203260</td>\n",
       "      <td>jTRCE5kJwZAgDCQK1nA=</td>\n",
       "      <td>8d3442139909c190200c240ad670</td>\n",
       "      <td>17</td>\n",
       "      <td>344213</td>\n",
       "      <td>19</td>\n",
       "    </tr>\n",
       "    <tr>\n",
       "      <th>4</th>\n",
       "      <td>10</td>\n",
       "      <td>1733011203260</td>\n",
       "      <td>jUytpOEHCQAAAAAJsfk=</td>\n",
       "      <td>8d4cada4e107090000000009b1f9</td>\n",
       "      <td>17</td>\n",
       "      <td>4cada4</td>\n",
       "      <td>28</td>\n",
       "    </tr>\n",
       "  </tbody>\n",
       "</table>\n",
       "</div>"
      ],
      "text/plain": [
       "   index       ts_kafka               message                    messageHex  \\\n",
       "0      0  1733011203260  jUoZIupCiFgBPAjykJ4=  8d4a1922ea428858013c08f2909e   \n",
       "1      3  1733011203260  jQIBK/gjAAIASbh2gt8=  8d02012bf82300020049b87682df   \n",
       "2      8  1733011203260  jTRCE5kJwZAgDCQK1nA=  8d3442139909c190200c240ad670   \n",
       "3      9  1733011203260  jTRCE5kJwZAgDCQK1nA=  8d3442139909c190200c240ad670   \n",
       "4     10  1733011203260  jUytpOEHCQAAAAAJsfk=  8d4cada4e107090000000009b1f9   \n",
       "\n",
       "   DL    ICAO  TC  \n",
       "0  17  4a1922  29  \n",
       "1  17  02012b  31  \n",
       "2  17  344213  19  \n",
       "3  17  344213  19  \n",
       "4  17  4cada4  28  "
      ]
     },
     "execution_count": 14,
     "metadata": {},
     "output_type": "execute_result"
    }
   ],
   "source": [
    "df_17_18[\"TC\"] = df_17_18[\"messageHex\"].apply(getTypeCode)\n",
    "df_17_18.head()"
   ]
  },
  {
   "cell_type": "code",
   "execution_count": 15,
   "metadata": {},
   "outputs": [
    {
     "name": "stderr",
     "output_type": "stream",
     "text": [
      "/Users/hamzatriki/opt/anaconda3/lib/python3.9/site-packages/pandas/core/dtypes/cast.py:1841: DeprecationWarning: np.find_common_type is deprecated.  Please use `np.result_type` or `np.promote_types`.\n",
      "See https://numpy.org/devdocs/release/1.25.0-notes.html and the docs for more information.  (Deprecated NumPy 1.25)\n",
      "  return np.find_common_type(types, [])\n"
     ]
    },
    {
     "data": {
      "text/html": [
       "<div>\n",
       "<style scoped>\n",
       "    .dataframe tbody tr th:only-of-type {\n",
       "        vertical-align: middle;\n",
       "    }\n",
       "\n",
       "    .dataframe tbody tr th {\n",
       "        vertical-align: top;\n",
       "    }\n",
       "\n",
       "    .dataframe thead th {\n",
       "        text-align: right;\n",
       "    }\n",
       "</style>\n",
       "<table border=\"1\" class=\"dataframe\">\n",
       "  <thead>\n",
       "    <tr style=\"text-align: right;\">\n",
       "      <th></th>\n",
       "      <th>index</th>\n",
       "      <th>ts_kafka</th>\n",
       "      <th>message</th>\n",
       "      <th>messageHex</th>\n",
       "      <th>DL</th>\n",
       "      <th>ICAO</th>\n",
       "      <th>TC</th>\n",
       "      <th>CS</th>\n",
       "    </tr>\n",
       "  </thead>\n",
       "  <tbody>\n",
       "    <tr>\n",
       "      <th>7</th>\n",
       "      <td>17</td>\n",
       "      <td>1733011203261</td>\n",
       "      <td>kDQjRBBRgxXDCCCkpe8=</td>\n",
       "      <td>9034234410518315c30820a4a5ef</td>\n",
       "      <td>18</td>\n",
       "      <td>342344</td>\n",
       "      <td>2</td>\n",
       "      <td>TXLU00__</td>\n",
       "    </tr>\n",
       "    <tr>\n",
       "      <th>11</th>\n",
       "      <td>31</td>\n",
       "      <td>1733011203261</td>\n",
       "      <td>kDQjRhBRgxXDKCBnVaI=</td>\n",
       "      <td>9034234610518315c328206755a2</td>\n",
       "      <td>18</td>\n",
       "      <td>342346</td>\n",
       "      <td>2</td>\n",
       "      <td>TXLU02__</td>\n",
       "    </tr>\n",
       "    <tr>\n",
       "      <th>19</th>\n",
       "      <td>44</td>\n",
       "      <td>1733011206603</td>\n",
       "      <td>kDQjSRBRgxXDWCBLilw=</td>\n",
       "      <td>9034234910518315c358204b8a5c</td>\n",
       "      <td>18</td>\n",
       "      <td>342349</td>\n",
       "      <td>2</td>\n",
       "      <td>TXLU05__</td>\n",
       "    </tr>\n",
       "    <tr>\n",
       "      <th>23</th>\n",
       "      <td>58</td>\n",
       "      <td>1733011206603</td>\n",
       "      <td>jDRBFRLfffdhAHFvW/Q=</td>\n",
       "      <td>8c34411512df7df76100716f5bf4</td>\n",
       "      <td>17</td>\n",
       "      <td>344115</td>\n",
       "      <td>2</td>\n",
       "      <td>7777XPA1</td>\n",
       "    </tr>\n",
       "    <tr>\n",
       "      <th>33</th>\n",
       "      <td>97</td>\n",
       "      <td>1733011207316</td>\n",
       "      <td>kDQjRRBRgxXDGCA6p80=</td>\n",
       "      <td>9034234510518315c318203aa7cd</td>\n",
       "      <td>18</td>\n",
       "      <td>342345</td>\n",
       "      <td>2</td>\n",
       "      <td>TXLU01__</td>\n",
       "    </tr>\n",
       "    <tr>\n",
       "      <th>...</th>\n",
       "      <td>...</td>\n",
       "      <td>...</td>\n",
       "      <td>...</td>\n",
       "      <td>...</td>\n",
       "      <td>...</td>\n",
       "      <td>...</td>\n",
       "      <td>...</td>\n",
       "      <td>...</td>\n",
       "    </tr>\n",
       "    <tr>\n",
       "      <th>1987056</th>\n",
       "      <td>5299847</td>\n",
       "      <td>1733125067179</td>\n",
       "      <td>jTRmEyNY8XPXPaASpSM=</td>\n",
       "      <td>8d3466132358f173d73da012a523</td>\n",
       "      <td>17</td>\n",
       "      <td>346613</td>\n",
       "      <td>4</td>\n",
       "      <td>VOE3536_</td>\n",
       "    </tr>\n",
       "    <tr>\n",
       "      <th>1987080</th>\n",
       "      <td>5299910</td>\n",
       "      <td>1733125069433</td>\n",
       "      <td>jUympCNJlLnRciD5jfc=</td>\n",
       "      <td>8d4ca6a4234994b9d17220f98df7</td>\n",
       "      <td>17</td>\n",
       "      <td>4ca6a4</td>\n",
       "      <td>4</td>\n",
       "      <td>RYR94WH_</td>\n",
       "    </tr>\n",
       "    <tr>\n",
       "      <th>1987084</th>\n",
       "      <td>5299918</td>\n",
       "      <td>1733125069433</td>\n",
       "      <td>kDQjSRBRgxXDWCBLilw=</td>\n",
       "      <td>9034234910518315c358204b8a5c</td>\n",
       "      <td>18</td>\n",
       "      <td>342349</td>\n",
       "      <td>2</td>\n",
       "      <td>TXLU05__</td>\n",
       "    </tr>\n",
       "    <tr>\n",
       "      <th>1987098</th>\n",
       "      <td>5299953</td>\n",
       "      <td>1733125069847</td>\n",
       "      <td>jTmlbyIxcfHciCBov+c=</td>\n",
       "      <td>8d39a56f223171f1dc882068bfe7</td>\n",
       "      <td>17</td>\n",
       "      <td>39a56f</td>\n",
       "      <td>4</td>\n",
       "      <td>LWG17H__</td>\n",
       "    </tr>\n",
       "    <tr>\n",
       "      <th>1987116</th>\n",
       "      <td>5299983</td>\n",
       "      <td>1733125070354</td>\n",
       "      <td>kDQjRhBRgxXDKCBnVaI=</td>\n",
       "      <td>9034234610518315c328206755a2</td>\n",
       "      <td>18</td>\n",
       "      <td>342346</td>\n",
       "      <td>2</td>\n",
       "      <td>TXLU02__</td>\n",
       "    </tr>\n",
       "  </tbody>\n",
       "</table>\n",
       "<p>192538 rows × 8 columns</p>\n",
       "</div>"
      ],
      "text/plain": [
       "           index       ts_kafka               message  \\\n",
       "7             17  1733011203261  kDQjRBBRgxXDCCCkpe8=   \n",
       "11            31  1733011203261  kDQjRhBRgxXDKCBnVaI=   \n",
       "19            44  1733011206603  kDQjSRBRgxXDWCBLilw=   \n",
       "23            58  1733011206603  jDRBFRLfffdhAHFvW/Q=   \n",
       "33            97  1733011207316  kDQjRRBRgxXDGCA6p80=   \n",
       "...          ...            ...                   ...   \n",
       "1987056  5299847  1733125067179  jTRmEyNY8XPXPaASpSM=   \n",
       "1987080  5299910  1733125069433  jUympCNJlLnRciD5jfc=   \n",
       "1987084  5299918  1733125069433  kDQjSRBRgxXDWCBLilw=   \n",
       "1987098  5299953  1733125069847  jTmlbyIxcfHciCBov+c=   \n",
       "1987116  5299983  1733125070354  kDQjRhBRgxXDKCBnVaI=   \n",
       "\n",
       "                           messageHex  DL    ICAO  TC        CS  \n",
       "7        9034234410518315c30820a4a5ef  18  342344   2  TXLU00__  \n",
       "11       9034234610518315c328206755a2  18  342346   2  TXLU02__  \n",
       "19       9034234910518315c358204b8a5c  18  342349   2  TXLU05__  \n",
       "23       8c34411512df7df76100716f5bf4  17  344115   2  7777XPA1  \n",
       "33       9034234510518315c318203aa7cd  18  342345   2  TXLU01__  \n",
       "...                               ...  ..     ...  ..       ...  \n",
       "1987056  8d3466132358f173d73da012a523  17  346613   4  VOE3536_  \n",
       "1987080  8d4ca6a4234994b9d17220f98df7  17  4ca6a4   4  RYR94WH_  \n",
       "1987084  9034234910518315c358204b8a5c  18  342349   2  TXLU05__  \n",
       "1987098  8d39a56f223171f1dc882068bfe7  17  39a56f   4  LWG17H__  \n",
       "1987116  9034234610518315c328206755a2  18  342346   2  TXLU02__  \n",
       "\n",
       "[192538 rows x 8 columns]"
      ]
     },
     "execution_count": 15,
     "metadata": {},
     "output_type": "execute_result"
    }
   ],
   "source": [
    "df_17_18[\"CS\"] = df_17_18.apply(lambda row: getCallSign(row[\"messageHex\"], row[\"TC\"]), axis=1)\n",
    "df_17_18 = df_17_18.dropna(subset=[\"CS\"])\n",
    "df_17_18"
   ]
  },
  {
   "cell_type": "code",
   "execution_count": 16,
   "metadata": {},
   "outputs": [
    {
     "data": {
      "text/html": [
       "<div>\n",
       "<style scoped>\n",
       "    .dataframe tbody tr th:only-of-type {\n",
       "        vertical-align: middle;\n",
       "    }\n",
       "\n",
       "    .dataframe tbody tr th {\n",
       "        vertical-align: top;\n",
       "    }\n",
       "\n",
       "    .dataframe thead th {\n",
       "        text-align: right;\n",
       "    }\n",
       "</style>\n",
       "<table border=\"1\" class=\"dataframe\">\n",
       "  <thead>\n",
       "    <tr style=\"text-align: right;\">\n",
       "      <th></th>\n",
       "      <th>ICAO</th>\n",
       "      <th>CS</th>\n",
       "      <th>index</th>\n",
       "      <th>ts_kafka</th>\n",
       "      <th>message</th>\n",
       "      <th>messageHex</th>\n",
       "      <th>DL</th>\n",
       "      <th>TC</th>\n",
       "    </tr>\n",
       "  </thead>\n",
       "  <tbody>\n",
       "    <tr>\n",
       "      <th>648</th>\n",
       "      <td>344115</td>\n",
       "      <td>7777XPA1</td>\n",
       "      <td>1047</td>\n",
       "      <td>1047</td>\n",
       "      <td>1047</td>\n",
       "      <td>1047</td>\n",
       "      <td>1047</td>\n",
       "      <td>1047</td>\n",
       "    </tr>\n",
       "    <tr>\n",
       "      <th>5292</th>\n",
       "      <td>aa944a</td>\n",
       "      <td>AAL112__</td>\n",
       "      <td>25</td>\n",
       "      <td>25</td>\n",
       "      <td>25</td>\n",
       "      <td>25</td>\n",
       "      <td>25</td>\n",
       "      <td>25</td>\n",
       "    </tr>\n",
       "    <tr>\n",
       "      <th>5293</th>\n",
       "      <td>aa944a</td>\n",
       "      <td>AAL113__</td>\n",
       "      <td>1</td>\n",
       "      <td>1</td>\n",
       "      <td>1</td>\n",
       "      <td>1</td>\n",
       "      <td>1</td>\n",
       "      <td>1</td>\n",
       "    </tr>\n",
       "    <tr>\n",
       "      <th>5288</th>\n",
       "      <td>aa8315</td>\n",
       "      <td>AAL113__</td>\n",
       "      <td>1</td>\n",
       "      <td>1</td>\n",
       "      <td>1</td>\n",
       "      <td>1</td>\n",
       "      <td>1</td>\n",
       "      <td>1</td>\n",
       "    </tr>\n",
       "    <tr>\n",
       "      <th>5325</th>\n",
       "      <td>ab4ae9</td>\n",
       "      <td>AAL120__</td>\n",
       "      <td>1</td>\n",
       "      <td>1</td>\n",
       "      <td>1</td>\n",
       "      <td>1</td>\n",
       "      <td>1</td>\n",
       "      <td>1</td>\n",
       "    </tr>\n",
       "    <tr>\n",
       "      <th>5323</th>\n",
       "      <td>ab3c0d</td>\n",
       "      <td>AAL120__</td>\n",
       "      <td>1</td>\n",
       "      <td>1</td>\n",
       "      <td>1</td>\n",
       "      <td>1</td>\n",
       "      <td>1</td>\n",
       "      <td>1</td>\n",
       "    </tr>\n",
       "    <tr>\n",
       "      <th>5326</th>\n",
       "      <td>ab4ae9</td>\n",
       "      <td>AAL121__</td>\n",
       "      <td>18</td>\n",
       "      <td>18</td>\n",
       "      <td>18</td>\n",
       "      <td>18</td>\n",
       "      <td>18</td>\n",
       "      <td>18</td>\n",
       "    </tr>\n",
       "    <tr>\n",
       "      <th>5312</th>\n",
       "      <td>aad981</td>\n",
       "      <td>AAL37___</td>\n",
       "      <td>5</td>\n",
       "      <td>5</td>\n",
       "      <td>5</td>\n",
       "      <td>5</td>\n",
       "      <td>5</td>\n",
       "      <td>5</td>\n",
       "    </tr>\n",
       "    <tr>\n",
       "      <th>5306</th>\n",
       "      <td>aab812</td>\n",
       "      <td>AAL37___</td>\n",
       "      <td>5</td>\n",
       "      <td>5</td>\n",
       "      <td>5</td>\n",
       "      <td>5</td>\n",
       "      <td>5</td>\n",
       "      <td>5</td>\n",
       "    </tr>\n",
       "    <tr>\n",
       "      <th>5286</th>\n",
       "      <td>aa7439</td>\n",
       "      <td>AAL69___</td>\n",
       "      <td>33</td>\n",
       "      <td>33</td>\n",
       "      <td>33</td>\n",
       "      <td>33</td>\n",
       "      <td>33</td>\n",
       "      <td>33</td>\n",
       "    </tr>\n",
       "  </tbody>\n",
       "</table>\n",
       "</div>"
      ],
      "text/plain": [
       "        ICAO        CS  index  ts_kafka  message  messageHex    DL    TC\n",
       "648   344115  7777XPA1   1047      1047     1047        1047  1047  1047\n",
       "5292  aa944a  AAL112__     25        25       25          25    25    25\n",
       "5293  aa944a  AAL113__      1         1        1           1     1     1\n",
       "5288  aa8315  AAL113__      1         1        1           1     1     1\n",
       "5325  ab4ae9  AAL120__      1         1        1           1     1     1\n",
       "5323  ab3c0d  AAL120__      1         1        1           1     1     1\n",
       "5326  ab4ae9  AAL121__     18        18       18          18    18    18\n",
       "5312  aad981  AAL37___      5         5        5           5     5     5\n",
       "5306  aab812  AAL37___      5         5        5           5     5     5\n",
       "5286  aa7439  AAL69___     33        33       33          33    33    33"
      ]
     },
     "execution_count": 16,
     "metadata": {},
     "output_type": "execute_result"
    }
   ],
   "source": [
    "df_17_18.groupby(['ICAO',\"CS\"]).count().reset_index().sort_values(by=['CS']).head(10)"
   ]
  },
  {
   "cell_type": "code",
   "execution_count": 17,
   "metadata": {},
   "outputs": [
    {
     "data": {
      "text/html": [
       "<div>\n",
       "<style scoped>\n",
       "    .dataframe tbody tr th:only-of-type {\n",
       "        vertical-align: middle;\n",
       "    }\n",
       "\n",
       "    .dataframe tbody tr th {\n",
       "        vertical-align: top;\n",
       "    }\n",
       "\n",
       "    .dataframe thead th {\n",
       "        text-align: right;\n",
       "    }\n",
       "</style>\n",
       "<table border=\"1\" class=\"dataframe\">\n",
       "  <thead>\n",
       "    <tr style=\"text-align: right;\">\n",
       "      <th></th>\n",
       "      <th>ICAO</th>\n",
       "      <th>CS</th>\n",
       "      <th>count</th>\n",
       "    </tr>\n",
       "  </thead>\n",
       "  <tbody>\n",
       "    <tr>\n",
       "      <th>648</th>\n",
       "      <td>344115</td>\n",
       "      <td>7777XPA1</td>\n",
       "      <td>1047</td>\n",
       "    </tr>\n",
       "    <tr>\n",
       "      <th>5292</th>\n",
       "      <td>aa944a</td>\n",
       "      <td>AAL112__</td>\n",
       "      <td>25</td>\n",
       "    </tr>\n",
       "    <tr>\n",
       "      <th>5293</th>\n",
       "      <td>aa944a</td>\n",
       "      <td>AAL113__</td>\n",
       "      <td>1</td>\n",
       "    </tr>\n",
       "    <tr>\n",
       "      <th>5288</th>\n",
       "      <td>aa8315</td>\n",
       "      <td>AAL113__</td>\n",
       "      <td>1</td>\n",
       "    </tr>\n",
       "    <tr>\n",
       "      <th>5325</th>\n",
       "      <td>ab4ae9</td>\n",
       "      <td>AAL120__</td>\n",
       "      <td>1</td>\n",
       "    </tr>\n",
       "    <tr>\n",
       "      <th>5323</th>\n",
       "      <td>ab3c0d</td>\n",
       "      <td>AAL120__</td>\n",
       "      <td>1</td>\n",
       "    </tr>\n",
       "    <tr>\n",
       "      <th>5326</th>\n",
       "      <td>ab4ae9</td>\n",
       "      <td>AAL121__</td>\n",
       "      <td>18</td>\n",
       "    </tr>\n",
       "    <tr>\n",
       "      <th>5312</th>\n",
       "      <td>aad981</td>\n",
       "      <td>AAL37___</td>\n",
       "      <td>5</td>\n",
       "    </tr>\n",
       "    <tr>\n",
       "      <th>5306</th>\n",
       "      <td>aab812</td>\n",
       "      <td>AAL37___</td>\n",
       "      <td>5</td>\n",
       "    </tr>\n",
       "    <tr>\n",
       "      <th>5286</th>\n",
       "      <td>aa7439</td>\n",
       "      <td>AAL69___</td>\n",
       "      <td>33</td>\n",
       "    </tr>\n",
       "  </tbody>\n",
       "</table>\n",
       "</div>"
      ],
      "text/plain": [
       "        ICAO        CS  count\n",
       "648   344115  7777XPA1   1047\n",
       "5292  aa944a  AAL112__     25\n",
       "5293  aa944a  AAL113__      1\n",
       "5288  aa8315  AAL113__      1\n",
       "5325  ab4ae9  AAL120__      1\n",
       "5323  ab3c0d  AAL120__      1\n",
       "5326  ab4ae9  AAL121__     18\n",
       "5312  aad981  AAL37___      5\n",
       "5306  aab812  AAL37___      5\n",
       "5286  aa7439  AAL69___     33"
      ]
     },
     "execution_count": 17,
     "metadata": {},
     "output_type": "execute_result"
    }
   ],
   "source": [
    "df_counts = df_17_18.groupby([\"ICAO\", \"CS\"]).size().reset_index(name=\"count\")\n",
    "df_counts_sorted = df_counts.sort_values(by=[\"CS\"]).head(10)\n",
    "df_counts_sorted"
   ]
  },
  {
   "cell_type": "code",
   "execution_count": 18,
   "metadata": {},
   "outputs": [
    {
     "name": "stderr",
     "output_type": "stream",
     "text": [
      "/var/folders/kf/v4wgzcdn2k5_yn3_h219svlm0000gn/T/ipykernel_52558/2272512310.py:1: SettingWithCopyWarning: \n",
      "A value is trying to be set on a copy of a slice from a DataFrame.\n",
      "Try using .loc[row_indexer,col_indexer] = value instead\n",
      "\n",
      "See the caveats in the documentation: https://pandas.pydata.org/pandas-docs/stable/user_guide/indexing.html#returning-a-view-versus-a-copy\n",
      "  df_17_18[\"timestamp\"] =pd.to_datetime(df_17_18[\"ts_kafka\"],unit='ms')\n"
     ]
    },
    {
     "data": {
      "text/html": [
       "<div>\n",
       "<style scoped>\n",
       "    .dataframe tbody tr th:only-of-type {\n",
       "        vertical-align: middle;\n",
       "    }\n",
       "\n",
       "    .dataframe tbody tr th {\n",
       "        vertical-align: top;\n",
       "    }\n",
       "\n",
       "    .dataframe thead th {\n",
       "        text-align: right;\n",
       "    }\n",
       "</style>\n",
       "<table border=\"1\" class=\"dataframe\">\n",
       "  <thead>\n",
       "    <tr style=\"text-align: right;\">\n",
       "      <th></th>\n",
       "      <th>index</th>\n",
       "      <th>ts_kafka</th>\n",
       "      <th>message</th>\n",
       "      <th>messageHex</th>\n",
       "      <th>DL</th>\n",
       "      <th>ICAO</th>\n",
       "      <th>TC</th>\n",
       "      <th>CS</th>\n",
       "      <th>timestamp</th>\n",
       "    </tr>\n",
       "  </thead>\n",
       "  <tbody>\n",
       "    <tr>\n",
       "      <th>7</th>\n",
       "      <td>17</td>\n",
       "      <td>1733011203261</td>\n",
       "      <td>kDQjRBBRgxXDCCCkpe8=</td>\n",
       "      <td>9034234410518315c30820a4a5ef</td>\n",
       "      <td>18</td>\n",
       "      <td>342344</td>\n",
       "      <td>2</td>\n",
       "      <td>TXLU00__</td>\n",
       "      <td>2024-12-01 00:00:03.261</td>\n",
       "    </tr>\n",
       "    <tr>\n",
       "      <th>11</th>\n",
       "      <td>31</td>\n",
       "      <td>1733011203261</td>\n",
       "      <td>kDQjRhBRgxXDKCBnVaI=</td>\n",
       "      <td>9034234610518315c328206755a2</td>\n",
       "      <td>18</td>\n",
       "      <td>342346</td>\n",
       "      <td>2</td>\n",
       "      <td>TXLU02__</td>\n",
       "      <td>2024-12-01 00:00:03.261</td>\n",
       "    </tr>\n",
       "    <tr>\n",
       "      <th>19</th>\n",
       "      <td>44</td>\n",
       "      <td>1733011206603</td>\n",
       "      <td>kDQjSRBRgxXDWCBLilw=</td>\n",
       "      <td>9034234910518315c358204b8a5c</td>\n",
       "      <td>18</td>\n",
       "      <td>342349</td>\n",
       "      <td>2</td>\n",
       "      <td>TXLU05__</td>\n",
       "      <td>2024-12-01 00:00:06.603</td>\n",
       "    </tr>\n",
       "    <tr>\n",
       "      <th>23</th>\n",
       "      <td>58</td>\n",
       "      <td>1733011206603</td>\n",
       "      <td>jDRBFRLfffdhAHFvW/Q=</td>\n",
       "      <td>8c34411512df7df76100716f5bf4</td>\n",
       "      <td>17</td>\n",
       "      <td>344115</td>\n",
       "      <td>2</td>\n",
       "      <td>7777XPA1</td>\n",
       "      <td>2024-12-01 00:00:06.603</td>\n",
       "    </tr>\n",
       "    <tr>\n",
       "      <th>33</th>\n",
       "      <td>97</td>\n",
       "      <td>1733011207316</td>\n",
       "      <td>kDQjRRBRgxXDGCA6p80=</td>\n",
       "      <td>9034234510518315c318203aa7cd</td>\n",
       "      <td>18</td>\n",
       "      <td>342345</td>\n",
       "      <td>2</td>\n",
       "      <td>TXLU01__</td>\n",
       "      <td>2024-12-01 00:00:07.316</td>\n",
       "    </tr>\n",
       "  </tbody>\n",
       "</table>\n",
       "</div>"
      ],
      "text/plain": [
       "    index       ts_kafka               message                    messageHex  \\\n",
       "7      17  1733011203261  kDQjRBBRgxXDCCCkpe8=  9034234410518315c30820a4a5ef   \n",
       "11     31  1733011203261  kDQjRhBRgxXDKCBnVaI=  9034234610518315c328206755a2   \n",
       "19     44  1733011206603  kDQjSRBRgxXDWCBLilw=  9034234910518315c358204b8a5c   \n",
       "23     58  1733011206603  jDRBFRLfffdhAHFvW/Q=  8c34411512df7df76100716f5bf4   \n",
       "33     97  1733011207316  kDQjRRBRgxXDGCA6p80=  9034234510518315c318203aa7cd   \n",
       "\n",
       "    DL    ICAO  TC        CS               timestamp  \n",
       "7   18  342344   2  TXLU00__ 2024-12-01 00:00:03.261  \n",
       "11  18  342346   2  TXLU02__ 2024-12-01 00:00:03.261  \n",
       "19  18  342349   2  TXLU05__ 2024-12-01 00:00:06.603  \n",
       "23  17  344115   2  7777XPA1 2024-12-01 00:00:06.603  \n",
       "33  18  342345   2  TXLU01__ 2024-12-01 00:00:07.316  "
      ]
     },
     "execution_count": 18,
     "metadata": {},
     "output_type": "execute_result"
    }
   ],
   "source": [
    "df_17_18[\"timestamp\"] =pd.to_datetime(df_17_18[\"ts_kafka\"],unit='ms')\n",
    "df_17_18.head()"
   ]
  },
  {
   "cell_type": "code",
   "execution_count": 19,
   "metadata": {},
   "outputs": [
    {
     "data": {
      "text/html": [
       "<div>\n",
       "<style scoped>\n",
       "    .dataframe tbody tr th:only-of-type {\n",
       "        vertical-align: middle;\n",
       "    }\n",
       "\n",
       "    .dataframe tbody tr th {\n",
       "        vertical-align: top;\n",
       "    }\n",
       "\n",
       "    .dataframe thead th {\n",
       "        text-align: right;\n",
       "    }\n",
       "</style>\n",
       "<table border=\"1\" class=\"dataframe\">\n",
       "  <thead>\n",
       "    <tr style=\"text-align: right;\">\n",
       "      <th></th>\n",
       "      <th>ICAO</th>\n",
       "      <th>CS</th>\n",
       "      <th>FLIGHT_ID</th>\n",
       "      <th>MIN_TIMESTAMP</th>\n",
       "      <th>MAX_TIMESTAMP</th>\n",
       "    </tr>\n",
       "  </thead>\n",
       "  <tbody>\n",
       "    <tr>\n",
       "      <th>0</th>\n",
       "      <td>000001</td>\n",
       "      <td>TALUD28_</td>\n",
       "      <td>0</td>\n",
       "      <td>2024-12-04 16:26:30.413</td>\n",
       "      <td>2024-12-04 16:32:29.696</td>\n",
       "    </tr>\n",
       "    <tr>\n",
       "      <th>1</th>\n",
       "      <td>000001</td>\n",
       "      <td>TALUD28_</td>\n",
       "      <td>1</td>\n",
       "      <td>2024-12-04 19:11:34.061</td>\n",
       "      <td>2024-12-04 19:19:52.507</td>\n",
       "    </tr>\n",
       "    <tr>\n",
       "      <th>2</th>\n",
       "      <td>000001</td>\n",
       "      <td>TALUD34_</td>\n",
       "      <td>0</td>\n",
       "      <td>2024-12-04 11:55:34.937</td>\n",
       "      <td>2024-12-04 12:08:57.597</td>\n",
       "    </tr>\n",
       "    <tr>\n",
       "      <th>3</th>\n",
       "      <td>010078</td>\n",
       "      <td>EGY1124_</td>\n",
       "      <td>0</td>\n",
       "      <td>2024-12-03 08:16:42.055</td>\n",
       "      <td>2024-12-03 08:19:32.103</td>\n",
       "    </tr>\n",
       "    <tr>\n",
       "      <th>4</th>\n",
       "      <td>0101ba</td>\n",
       "      <td>MSR754__</td>\n",
       "      <td>0</td>\n",
       "      <td>2024-12-01 13:21:31.690</td>\n",
       "      <td>2024-12-01 13:22:51.499</td>\n",
       "    </tr>\n",
       "    <tr>\n",
       "      <th>...</th>\n",
       "      <td>...</td>\n",
       "      <td>...</td>\n",
       "      <td>...</td>\n",
       "      <td>...</td>\n",
       "      <td>...</td>\n",
       "    </tr>\n",
       "    <tr>\n",
       "      <th>6952</th>\n",
       "      <td>e8046d</td>\n",
       "      <td>TAM8067_</td>\n",
       "      <td>0</td>\n",
       "      <td>2024-12-05 13:07:03.639</td>\n",
       "      <td>2024-12-05 13:07:03.639</td>\n",
       "    </tr>\n",
       "    <tr>\n",
       "      <th>6953</th>\n",
       "      <td>e8046d</td>\n",
       "      <td>TAM8068_</td>\n",
       "      <td>0</td>\n",
       "      <td>2024-12-05 06:30:44.882</td>\n",
       "      <td>2024-12-05 06:39:54.825</td>\n",
       "    </tr>\n",
       "    <tr>\n",
       "      <th>6954</th>\n",
       "      <td>e8046f</td>\n",
       "      <td>LAN9957_</td>\n",
       "      <td>0</td>\n",
       "      <td>2024-12-06 18:01:08.563</td>\n",
       "      <td>2024-12-06 18:06:32.385</td>\n",
       "    </tr>\n",
       "    <tr>\n",
       "      <th>6955</th>\n",
       "      <td>e80473</td>\n",
       "      <td>LAN714__</td>\n",
       "      <td>0</td>\n",
       "      <td>2024-12-02 12:10:37.432</td>\n",
       "      <td>2024-12-02 12:19:13.368</td>\n",
       "    </tr>\n",
       "    <tr>\n",
       "      <th>6956</th>\n",
       "      <td>e94c89</td>\n",
       "      <td>BOV773__</td>\n",
       "      <td>0</td>\n",
       "      <td>2024-12-07 16:02:19.591</td>\n",
       "      <td>2024-12-07 16:05:23.871</td>\n",
       "    </tr>\n",
       "  </tbody>\n",
       "</table>\n",
       "<p>6957 rows × 5 columns</p>\n",
       "</div>"
      ],
      "text/plain": [
       "        ICAO        CS  FLIGHT_ID           MIN_TIMESTAMP  \\\n",
       "0     000001  TALUD28_          0 2024-12-04 16:26:30.413   \n",
       "1     000001  TALUD28_          1 2024-12-04 19:11:34.061   \n",
       "2     000001  TALUD34_          0 2024-12-04 11:55:34.937   \n",
       "3     010078  EGY1124_          0 2024-12-03 08:16:42.055   \n",
       "4     0101ba  MSR754__          0 2024-12-01 13:21:31.690   \n",
       "...      ...       ...        ...                     ...   \n",
       "6952  e8046d  TAM8067_          0 2024-12-05 13:07:03.639   \n",
       "6953  e8046d  TAM8068_          0 2024-12-05 06:30:44.882   \n",
       "6954  e8046f  LAN9957_          0 2024-12-06 18:01:08.563   \n",
       "6955  e80473  LAN714__          0 2024-12-02 12:10:37.432   \n",
       "6956  e94c89  BOV773__          0 2024-12-07 16:02:19.591   \n",
       "\n",
       "               MAX_TIMESTAMP  \n",
       "0    2024-12-04 16:32:29.696  \n",
       "1    2024-12-04 19:19:52.507  \n",
       "2    2024-12-04 12:08:57.597  \n",
       "3    2024-12-03 08:19:32.103  \n",
       "4    2024-12-01 13:22:51.499  \n",
       "...                      ...  \n",
       "6952 2024-12-05 13:07:03.639  \n",
       "6953 2024-12-05 06:39:54.825  \n",
       "6954 2024-12-06 18:06:32.385  \n",
       "6955 2024-12-02 12:19:13.368  \n",
       "6956 2024-12-07 16:05:23.871  \n",
       "\n",
       "[6957 rows x 5 columns]"
      ]
     },
     "execution_count": 19,
     "metadata": {},
     "output_type": "execute_result"
    }
   ],
   "source": [
    "# Step 1: Sort Data\n",
    "df_17_18 = df_17_18.sort_values([\"ICAO\", \"CS\", \"timestamp\"])\n",
    "\n",
    "# Step 2: Compute time differences between consecutive messages\n",
    "df_17_18[\"time_diff\"] = df_17_18.groupby([\"ICAO\", \"CS\"])[\"timestamp\"].diff()\n",
    "\n",
    "# Step 3: Detect new flights (if time gap > 2 hours = 7200 seconds)\n",
    "df_17_18[\"new_flight\"] = (df_17_18[\"time_diff\"] > pd.Timedelta(seconds=7200)).fillna(False)\n",
    "\n",
    "# Step 4: Assign a unique Flight ID using cumulative sum\n",
    "df_17_18[\"FLIGHT_ID\"] = df_17_18.groupby([\"ICAO\", \"CS\"])[\"new_flight\"].cumsum()\n",
    "\n",
    "# Step 5: Group by ICAO, CS, and Flight ID to get min/max timestamps\n",
    "df_callsigns = (\n",
    "    df_17_18.groupby([\"ICAO\", \"CS\", \"FLIGHT_ID\"])[\"timestamp\"]\n",
    "    .agg(MIN_TIMESTAMP=\"min\", MAX_TIMESTAMP=\"max\")\n",
    "    .reset_index()\n",
    ")\n",
    "df_callsigns"
   ]
  },
  {
   "cell_type": "code",
   "execution_count": 20,
   "metadata": {},
   "outputs": [
    {
     "data": {
      "text/html": [
       "<div>\n",
       "<style scoped>\n",
       "    .dataframe tbody tr th:only-of-type {\n",
       "        vertical-align: middle;\n",
       "    }\n",
       "\n",
       "    .dataframe tbody tr th {\n",
       "        vertical-align: top;\n",
       "    }\n",
       "\n",
       "    .dataframe thead th {\n",
       "        text-align: right;\n",
       "    }\n",
       "</style>\n",
       "<table border=\"1\" class=\"dataframe\">\n",
       "  <thead>\n",
       "    <tr style=\"text-align: right;\">\n",
       "      <th></th>\n",
       "      <th>ICAO</th>\n",
       "      <th>FLIGHT_ID</th>\n",
       "    </tr>\n",
       "  </thead>\n",
       "  <tbody>\n",
       "    <tr>\n",
       "      <th>172</th>\n",
       "      <td>342351</td>\n",
       "      <td>47</td>\n",
       "    </tr>\n",
       "    <tr>\n",
       "      <th>166</th>\n",
       "      <td>34234a</td>\n",
       "      <td>46</td>\n",
       "    </tr>\n",
       "    <tr>\n",
       "      <th>163</th>\n",
       "      <td>342347</td>\n",
       "      <td>46</td>\n",
       "    </tr>\n",
       "    <tr>\n",
       "      <th>103</th>\n",
       "      <td>34108f</td>\n",
       "      <td>46</td>\n",
       "    </tr>\n",
       "    <tr>\n",
       "      <th>171</th>\n",
       "      <td>342350</td>\n",
       "      <td>46</td>\n",
       "    </tr>\n",
       "    <tr>\n",
       "      <th>170</th>\n",
       "      <td>34234f</td>\n",
       "      <td>46</td>\n",
       "    </tr>\n",
       "    <tr>\n",
       "      <th>167</th>\n",
       "      <td>34234b</td>\n",
       "      <td>46</td>\n",
       "    </tr>\n",
       "    <tr>\n",
       "      <th>165</th>\n",
       "      <td>342349</td>\n",
       "      <td>46</td>\n",
       "    </tr>\n",
       "    <tr>\n",
       "      <th>164</th>\n",
       "      <td>342348</td>\n",
       "      <td>46</td>\n",
       "    </tr>\n",
       "    <tr>\n",
       "      <th>225</th>\n",
       "      <td>344115</td>\n",
       "      <td>46</td>\n",
       "    </tr>\n",
       "  </tbody>\n",
       "</table>\n",
       "</div>"
      ],
      "text/plain": [
       "       ICAO  FLIGHT_ID\n",
       "172  342351         47\n",
       "166  34234a         46\n",
       "163  342347         46\n",
       "103  34108f         46\n",
       "171  342350         46\n",
       "170  34234f         46\n",
       "167  34234b         46\n",
       "165  342349         46\n",
       "164  342348         46\n",
       "225  344115         46"
      ]
     },
     "execution_count": 20,
     "metadata": {},
     "output_type": "execute_result"
    }
   ],
   "source": [
    "df_callsigns.groupby([\"ICAO\"])[\"FLIGHT_ID\"].count().reset_index().sort_values(by=[\"FLIGHT_ID\"],ascending=False).head(10)"
   ]
  },
  {
   "cell_type": "code",
   "execution_count": 93,
   "metadata": {},
   "outputs": [
    {
     "data": {
      "text/html": [
       "<div>\n",
       "<style scoped>\n",
       "    .dataframe tbody tr th:only-of-type {\n",
       "        vertical-align: middle;\n",
       "    }\n",
       "\n",
       "    .dataframe tbody tr th {\n",
       "        vertical-align: top;\n",
       "    }\n",
       "\n",
       "    .dataframe thead th {\n",
       "        text-align: right;\n",
       "    }\n",
       "</style>\n",
       "<table border=\"1\" class=\"dataframe\">\n",
       "  <thead>\n",
       "    <tr style=\"text-align: right;\">\n",
       "      <th></th>\n",
       "      <th>ICAO</th>\n",
       "      <th>CS</th>\n",
       "      <th>MIN_TIMESTAMP</th>\n",
       "      <th>MAX_TIMESTAMP</th>\n",
       "    </tr>\n",
       "  </thead>\n",
       "  <tbody>\n",
       "    <tr>\n",
       "      <th>0</th>\n",
       "      <td>000001</td>\n",
       "      <td>TALUD28_</td>\n",
       "      <td>2024-12-04 16:26:30.413</td>\n",
       "      <td>2024-12-04 19:19:52.507</td>\n",
       "    </tr>\n",
       "    <tr>\n",
       "      <th>1</th>\n",
       "      <td>000001</td>\n",
       "      <td>TALUD34_</td>\n",
       "      <td>2024-12-04 11:55:34.937</td>\n",
       "      <td>2024-12-04 12:08:57.597</td>\n",
       "    </tr>\n",
       "    <tr>\n",
       "      <th>2</th>\n",
       "      <td>010078</td>\n",
       "      <td>EGY1124_</td>\n",
       "      <td>2024-12-03 08:16:42.055</td>\n",
       "      <td>2024-12-03 08:19:32.103</td>\n",
       "    </tr>\n",
       "    <tr>\n",
       "      <th>3</th>\n",
       "      <td>0101ba</td>\n",
       "      <td>MSR754__</td>\n",
       "      <td>2024-12-01 13:21:31.690</td>\n",
       "      <td>2024-12-01 13:22:51.499</td>\n",
       "    </tr>\n",
       "    <tr>\n",
       "      <th>4</th>\n",
       "      <td>0101be</td>\n",
       "      <td>MSR754__</td>\n",
       "      <td>2024-12-07 14:03:49.267</td>\n",
       "      <td>2024-12-07 14:09:29.752</td>\n",
       "    </tr>\n",
       "    <tr>\n",
       "      <th>...</th>\n",
       "      <td>...</td>\n",
       "      <td>...</td>\n",
       "      <td>...</td>\n",
       "      <td>...</td>\n",
       "    </tr>\n",
       "    <tr>\n",
       "      <th>5379</th>\n",
       "      <td>e8046d</td>\n",
       "      <td>TAM8067_</td>\n",
       "      <td>2024-12-05 13:07:03.639</td>\n",
       "      <td>2024-12-05 13:07:03.639</td>\n",
       "    </tr>\n",
       "    <tr>\n",
       "      <th>5380</th>\n",
       "      <td>e8046d</td>\n",
       "      <td>TAM8068_</td>\n",
       "      <td>2024-12-05 06:30:44.882</td>\n",
       "      <td>2024-12-05 06:39:54.825</td>\n",
       "    </tr>\n",
       "    <tr>\n",
       "      <th>5381</th>\n",
       "      <td>e8046f</td>\n",
       "      <td>LAN9957_</td>\n",
       "      <td>2024-12-06 18:01:08.563</td>\n",
       "      <td>2024-12-06 18:06:32.385</td>\n",
       "    </tr>\n",
       "    <tr>\n",
       "      <th>5382</th>\n",
       "      <td>e80473</td>\n",
       "      <td>LAN714__</td>\n",
       "      <td>2024-12-02 12:10:37.432</td>\n",
       "      <td>2024-12-02 12:19:13.368</td>\n",
       "    </tr>\n",
       "    <tr>\n",
       "      <th>5383</th>\n",
       "      <td>e94c89</td>\n",
       "      <td>BOV773__</td>\n",
       "      <td>2024-12-07 16:02:19.591</td>\n",
       "      <td>2024-12-07 16:05:23.871</td>\n",
       "    </tr>\n",
       "  </tbody>\n",
       "</table>\n",
       "<p>5384 rows × 4 columns</p>\n",
       "</div>"
      ],
      "text/plain": [
       "        ICAO        CS           MIN_TIMESTAMP           MAX_TIMESTAMP\n",
       "0     000001  TALUD28_ 2024-12-04 16:26:30.413 2024-12-04 19:19:52.507\n",
       "1     000001  TALUD34_ 2024-12-04 11:55:34.937 2024-12-04 12:08:57.597\n",
       "2     010078  EGY1124_ 2024-12-03 08:16:42.055 2024-12-03 08:19:32.103\n",
       "3     0101ba  MSR754__ 2024-12-01 13:21:31.690 2024-12-01 13:22:51.499\n",
       "4     0101be  MSR754__ 2024-12-07 14:03:49.267 2024-12-07 14:09:29.752\n",
       "...      ...       ...                     ...                     ...\n",
       "5379  e8046d  TAM8067_ 2024-12-05 13:07:03.639 2024-12-05 13:07:03.639\n",
       "5380  e8046d  TAM8068_ 2024-12-05 06:30:44.882 2024-12-05 06:39:54.825\n",
       "5381  e8046f  LAN9957_ 2024-12-06 18:01:08.563 2024-12-06 18:06:32.385\n",
       "5382  e80473  LAN714__ 2024-12-02 12:10:37.432 2024-12-02 12:19:13.368\n",
       "5383  e94c89  BOV773__ 2024-12-07 16:02:19.591 2024-12-07 16:05:23.871\n",
       "\n",
       "[5384 rows x 4 columns]"
      ]
     },
     "execution_count": 93,
     "metadata": {},
     "output_type": "execute_result"
    }
   ],
   "source": [
    "\"\"\"df_callsigns = (\n",
    "    df_17_18.groupby([\"ICAO\", \"CS\"])[\"timestamp\"]\n",
    "    .agg([(\"MIN_TIMESTAMP\", \"min\"), (\"MAX_TIMESTAMP\", \"max\")])\n",
    "    .reset_index()\n",
    ")\n",
    "df_callsigns\n",
    "\"\"\""
   ]
  },
  {
   "cell_type": "code",
   "execution_count": 21,
   "metadata": {},
   "outputs": [],
   "source": [
    "df_11[\"ICAO\"] = df_11[\"messageHex\"].apply(getICAO)"
   ]
  },
  {
   "cell_type": "code",
   "execution_count": 22,
   "metadata": {},
   "outputs": [],
   "source": [
    "df_11[\"OnGround\"] = df_11[\"messageHex\"].apply(getOnGround)\n",
    "df_11 = df_11.dropna(subset=[\"OnGround\"])"
   ]
  },
  {
   "cell_type": "code",
   "execution_count": 23,
   "metadata": {},
   "outputs": [],
   "source": [
    "df_11['timestamp'] = pd.to_datetime(df_11['ts_kafka'], unit='ms')\n",
    "df_11['formatted_date'] = df_11['timestamp'].dt.strftime('%d/%m/%Y %H:%M')\n",
    "df_11[\"day\"] = df_11['timestamp'].dt.strftime('%d/%m/%Y')\n",
    "df_11[\"hour\"] = df_11['timestamp'].dt.hour\n",
    "\n"
   ]
  },
  {
   "cell_type": "code",
   "execution_count": 24,
   "metadata": {},
   "outputs": [
    {
     "data": {
      "text/html": [
       "<div>\n",
       "<style scoped>\n",
       "    .dataframe tbody tr th:only-of-type {\n",
       "        vertical-align: middle;\n",
       "    }\n",
       "\n",
       "    .dataframe tbody tr th {\n",
       "        vertical-align: top;\n",
       "    }\n",
       "\n",
       "    .dataframe thead th {\n",
       "        text-align: right;\n",
       "    }\n",
       "</style>\n",
       "<table border=\"1\" class=\"dataframe\">\n",
       "  <thead>\n",
       "    <tr style=\"text-align: right;\">\n",
       "      <th></th>\n",
       "      <th>ICAO</th>\n",
       "      <th>CS</th>\n",
       "      <th>FLIGHT_ID</th>\n",
       "      <th>MIN_TIMESTAMP</th>\n",
       "      <th>MAX_TIMESTAMP</th>\n",
       "    </tr>\n",
       "  </thead>\n",
       "  <tbody>\n",
       "    <tr>\n",
       "      <th>0</th>\n",
       "      <td>000001</td>\n",
       "      <td>TALUD28_</td>\n",
       "      <td>0</td>\n",
       "      <td>2024-12-04 16:26:30.413</td>\n",
       "      <td>2024-12-04 16:32:29.696</td>\n",
       "    </tr>\n",
       "    <tr>\n",
       "      <th>1</th>\n",
       "      <td>000001</td>\n",
       "      <td>TALUD28_</td>\n",
       "      <td>1</td>\n",
       "      <td>2024-12-04 19:11:34.061</td>\n",
       "      <td>2024-12-04 19:19:52.507</td>\n",
       "    </tr>\n",
       "    <tr>\n",
       "      <th>2</th>\n",
       "      <td>000001</td>\n",
       "      <td>TALUD34_</td>\n",
       "      <td>0</td>\n",
       "      <td>2024-12-04 11:55:34.937</td>\n",
       "      <td>2024-12-04 12:08:57.597</td>\n",
       "    </tr>\n",
       "    <tr>\n",
       "      <th>3</th>\n",
       "      <td>010078</td>\n",
       "      <td>EGY1124_</td>\n",
       "      <td>0</td>\n",
       "      <td>2024-12-03 08:16:42.055</td>\n",
       "      <td>2024-12-03 08:19:32.103</td>\n",
       "    </tr>\n",
       "    <tr>\n",
       "      <th>4</th>\n",
       "      <td>0101ba</td>\n",
       "      <td>MSR754__</td>\n",
       "      <td>0</td>\n",
       "      <td>2024-12-01 13:21:31.690</td>\n",
       "      <td>2024-12-01 13:22:51.499</td>\n",
       "    </tr>\n",
       "    <tr>\n",
       "      <th>...</th>\n",
       "      <td>...</td>\n",
       "      <td>...</td>\n",
       "      <td>...</td>\n",
       "      <td>...</td>\n",
       "      <td>...</td>\n",
       "    </tr>\n",
       "    <tr>\n",
       "      <th>6952</th>\n",
       "      <td>e8046d</td>\n",
       "      <td>TAM8067_</td>\n",
       "      <td>0</td>\n",
       "      <td>2024-12-05 13:07:03.639</td>\n",
       "      <td>2024-12-05 13:07:03.639</td>\n",
       "    </tr>\n",
       "    <tr>\n",
       "      <th>6953</th>\n",
       "      <td>e8046d</td>\n",
       "      <td>TAM8068_</td>\n",
       "      <td>0</td>\n",
       "      <td>2024-12-05 06:30:44.882</td>\n",
       "      <td>2024-12-05 06:39:54.825</td>\n",
       "    </tr>\n",
       "    <tr>\n",
       "      <th>6954</th>\n",
       "      <td>e8046f</td>\n",
       "      <td>LAN9957_</td>\n",
       "      <td>0</td>\n",
       "      <td>2024-12-06 18:01:08.563</td>\n",
       "      <td>2024-12-06 18:06:32.385</td>\n",
       "    </tr>\n",
       "    <tr>\n",
       "      <th>6955</th>\n",
       "      <td>e80473</td>\n",
       "      <td>LAN714__</td>\n",
       "      <td>0</td>\n",
       "      <td>2024-12-02 12:10:37.432</td>\n",
       "      <td>2024-12-02 12:19:13.368</td>\n",
       "    </tr>\n",
       "    <tr>\n",
       "      <th>6956</th>\n",
       "      <td>e94c89</td>\n",
       "      <td>BOV773__</td>\n",
       "      <td>0</td>\n",
       "      <td>2024-12-07 16:02:19.591</td>\n",
       "      <td>2024-12-07 16:05:23.871</td>\n",
       "    </tr>\n",
       "  </tbody>\n",
       "</table>\n",
       "<p>6957 rows × 5 columns</p>\n",
       "</div>"
      ],
      "text/plain": [
       "        ICAO        CS  FLIGHT_ID           MIN_TIMESTAMP  \\\n",
       "0     000001  TALUD28_          0 2024-12-04 16:26:30.413   \n",
       "1     000001  TALUD28_          1 2024-12-04 19:11:34.061   \n",
       "2     000001  TALUD34_          0 2024-12-04 11:55:34.937   \n",
       "3     010078  EGY1124_          0 2024-12-03 08:16:42.055   \n",
       "4     0101ba  MSR754__          0 2024-12-01 13:21:31.690   \n",
       "...      ...       ...        ...                     ...   \n",
       "6952  e8046d  TAM8067_          0 2024-12-05 13:07:03.639   \n",
       "6953  e8046d  TAM8068_          0 2024-12-05 06:30:44.882   \n",
       "6954  e8046f  LAN9957_          0 2024-12-06 18:01:08.563   \n",
       "6955  e80473  LAN714__          0 2024-12-02 12:10:37.432   \n",
       "6956  e94c89  BOV773__          0 2024-12-07 16:02:19.591   \n",
       "\n",
       "               MAX_TIMESTAMP  \n",
       "0    2024-12-04 16:32:29.696  \n",
       "1    2024-12-04 19:19:52.507  \n",
       "2    2024-12-04 12:08:57.597  \n",
       "3    2024-12-03 08:19:32.103  \n",
       "4    2024-12-01 13:22:51.499  \n",
       "...                      ...  \n",
       "6952 2024-12-05 13:07:03.639  \n",
       "6953 2024-12-05 06:39:54.825  \n",
       "6954 2024-12-06 18:06:32.385  \n",
       "6955 2024-12-02 12:19:13.368  \n",
       "6956 2024-12-07 16:05:23.871  \n",
       "\n",
       "[6957 rows x 5 columns]"
      ]
     },
     "execution_count": 24,
     "metadata": {},
     "output_type": "execute_result"
    }
   ],
   "source": [
    "df_callsigns"
   ]
  },
  {
   "cell_type": "code",
   "execution_count": 25,
   "metadata": {},
   "outputs": [
    {
     "data": {
      "text/html": [
       "<div>\n",
       "<style scoped>\n",
       "    .dataframe tbody tr th:only-of-type {\n",
       "        vertical-align: middle;\n",
       "    }\n",
       "\n",
       "    .dataframe tbody tr th {\n",
       "        vertical-align: top;\n",
       "    }\n",
       "\n",
       "    .dataframe thead th {\n",
       "        text-align: right;\n",
       "    }\n",
       "</style>\n",
       "<table border=\"1\" class=\"dataframe\">\n",
       "  <thead>\n",
       "    <tr style=\"text-align: right;\">\n",
       "      <th></th>\n",
       "      <th>index</th>\n",
       "      <th>ts_kafka</th>\n",
       "      <th>message</th>\n",
       "      <th>messageHex</th>\n",
       "      <th>DL</th>\n",
       "      <th>ICAO</th>\n",
       "      <th>OnGround</th>\n",
       "      <th>timestamp</th>\n",
       "      <th>formatted_date</th>\n",
       "      <th>day</th>\n",
       "      <th>hour</th>\n",
       "    </tr>\n",
       "  </thead>\n",
       "  <tbody>\n",
       "    <tr>\n",
       "      <th>0</th>\n",
       "      <td>4</td>\n",
       "      <td>1733011203260</td>\n",
       "      <td>XTRCE1QV9w==</td>\n",
       "      <td>5d3442135415f7</td>\n",
       "      <td>11</td>\n",
       "      <td>344213</td>\n",
       "      <td>0.0</td>\n",
       "      <td>2024-12-01 00:00:03.260</td>\n",
       "      <td>01/12/2024 00:00</td>\n",
       "      <td>01/12/2024</td>\n",
       "      <td>0</td>\n",
       "    </tr>\n",
       "    <tr>\n",
       "      <th>1</th>\n",
       "      <td>28</td>\n",
       "      <td>1733011203261</td>\n",
       "      <td>XVAtXkh/IA==</td>\n",
       "      <td>5d502d5e487f20</td>\n",
       "      <td>11</td>\n",
       "      <td>502d5e</td>\n",
       "      <td>0.0</td>\n",
       "      <td>2024-12-01 00:00:03.261</td>\n",
       "      <td>01/12/2024 00:00</td>\n",
       "      <td>01/12/2024</td>\n",
       "      <td>0</td>\n",
       "    </tr>\n",
       "    <tr>\n",
       "      <th>3</th>\n",
       "      <td>56</td>\n",
       "      <td>1733011206603</td>\n",
       "      <td>XUytpDAQpw==</td>\n",
       "      <td>5d4cada43010a7</td>\n",
       "      <td>11</td>\n",
       "      <td>4cada4</td>\n",
       "      <td>0.0</td>\n",
       "      <td>2024-12-01 00:00:06.603</td>\n",
       "      <td>01/12/2024 00:00</td>\n",
       "      <td>01/12/2024</td>\n",
       "      <td>0</td>\n",
       "    </tr>\n",
       "    <tr>\n",
       "      <th>4</th>\n",
       "      <td>64</td>\n",
       "      <td>1733011206603</td>\n",
       "      <td>XUnS7vEibg==</td>\n",
       "      <td>5d49d2eef1226e</td>\n",
       "      <td>11</td>\n",
       "      <td>49d2ee</td>\n",
       "      <td>0.0</td>\n",
       "      <td>2024-12-01 00:00:06.603</td>\n",
       "      <td>01/12/2024 00:00</td>\n",
       "      <td>01/12/2024</td>\n",
       "      <td>0</td>\n",
       "    </tr>\n",
       "    <tr>\n",
       "      <th>5</th>\n",
       "      <td>70</td>\n",
       "      <td>1733011207114</td>\n",
       "      <td>XTRkDrEgdQ==</td>\n",
       "      <td>5d34640eb12075</td>\n",
       "      <td>11</td>\n",
       "      <td>34640e</td>\n",
       "      <td>0.0</td>\n",
       "      <td>2024-12-01 00:00:07.114</td>\n",
       "      <td>01/12/2024 00:00</td>\n",
       "      <td>01/12/2024</td>\n",
       "      <td>0</td>\n",
       "    </tr>\n",
       "    <tr>\n",
       "      <th>...</th>\n",
       "      <td>...</td>\n",
       "      <td>...</td>\n",
       "      <td>...</td>\n",
       "      <td>...</td>\n",
       "      <td>...</td>\n",
       "      <td>...</td>\n",
       "      <td>...</td>\n",
       "      <td>...</td>\n",
       "      <td>...</td>\n",
       "      <td>...</td>\n",
       "      <td>...</td>\n",
       "    </tr>\n",
       "    <tr>\n",
       "      <th>506046</th>\n",
       "      <td>5299964</td>\n",
       "      <td>1733125070047</td>\n",
       "      <td>XUcfa4h8qQ==</td>\n",
       "      <td>5d471f6b887ca9</td>\n",
       "      <td>11</td>\n",
       "      <td>471f6b</td>\n",
       "      <td>0.0</td>\n",
       "      <td>2024-12-02 07:37:50.047</td>\n",
       "      <td>02/12/2024 07:37</td>\n",
       "      <td>02/12/2024</td>\n",
       "      <td>7</td>\n",
       "    </tr>\n",
       "    <tr>\n",
       "      <th>506048</th>\n",
       "      <td>5299968</td>\n",
       "      <td>1733125070047</td>\n",
       "      <td>XUlSx/Z3nw==</td>\n",
       "      <td>5d4952c7f6779f</td>\n",
       "      <td>11</td>\n",
       "      <td>4952c7</td>\n",
       "      <td>0.0</td>\n",
       "      <td>2024-12-02 07:37:50.047</td>\n",
       "      <td>02/12/2024 07:37</td>\n",
       "      <td>02/12/2024</td>\n",
       "      <td>7</td>\n",
       "    </tr>\n",
       "    <tr>\n",
       "      <th>506049</th>\n",
       "      <td>5299974</td>\n",
       "      <td>1733125070047</td>\n",
       "      <td>XUlSEfI2yg==</td>\n",
       "      <td>5d495211f236ca</td>\n",
       "      <td>11</td>\n",
       "      <td>495211</td>\n",
       "      <td>0.0</td>\n",
       "      <td>2024-12-02 07:37:50.047</td>\n",
       "      <td>02/12/2024 07:37</td>\n",
       "      <td>02/12/2024</td>\n",
       "      <td>7</td>\n",
       "    </tr>\n",
       "    <tr>\n",
       "      <th>506050</th>\n",
       "      <td>5299987</td>\n",
       "      <td>1733125070354</td>\n",
       "      <td>XUlRzhvleg==</td>\n",
       "      <td>5d4951ce1be57a</td>\n",
       "      <td>11</td>\n",
       "      <td>4951ce</td>\n",
       "      <td>0.0</td>\n",
       "      <td>2024-12-02 07:37:50.354</td>\n",
       "      <td>02/12/2024 07:37</td>\n",
       "      <td>02/12/2024</td>\n",
       "      <td>7</td>\n",
       "    </tr>\n",
       "    <tr>\n",
       "      <th>506051</th>\n",
       "      <td>5299997</td>\n",
       "      <td>1733125070364</td>\n",
       "      <td>XUyvtCzrfw==</td>\n",
       "      <td>5d4cafb42ceb7f</td>\n",
       "      <td>11</td>\n",
       "      <td>4cafb4</td>\n",
       "      <td>0.0</td>\n",
       "      <td>2024-12-02 07:37:50.364</td>\n",
       "      <td>02/12/2024 07:37</td>\n",
       "      <td>02/12/2024</td>\n",
       "      <td>7</td>\n",
       "    </tr>\n",
       "  </tbody>\n",
       "</table>\n",
       "<p>467494 rows × 11 columns</p>\n",
       "</div>"
      ],
      "text/plain": [
       "          index       ts_kafka       message      messageHex  DL    ICAO  \\\n",
       "0             4  1733011203260  XTRCE1QV9w==  5d3442135415f7  11  344213   \n",
       "1            28  1733011203261  XVAtXkh/IA==  5d502d5e487f20  11  502d5e   \n",
       "3            56  1733011206603  XUytpDAQpw==  5d4cada43010a7  11  4cada4   \n",
       "4            64  1733011206603  XUnS7vEibg==  5d49d2eef1226e  11  49d2ee   \n",
       "5            70  1733011207114  XTRkDrEgdQ==  5d34640eb12075  11  34640e   \n",
       "...         ...            ...           ...             ...  ..     ...   \n",
       "506046  5299964  1733125070047  XUcfa4h8qQ==  5d471f6b887ca9  11  471f6b   \n",
       "506048  5299968  1733125070047  XUlSx/Z3nw==  5d4952c7f6779f  11  4952c7   \n",
       "506049  5299974  1733125070047  XUlSEfI2yg==  5d495211f236ca  11  495211   \n",
       "506050  5299987  1733125070354  XUlRzhvleg==  5d4951ce1be57a  11  4951ce   \n",
       "506051  5299997  1733125070364  XUyvtCzrfw==  5d4cafb42ceb7f  11  4cafb4   \n",
       "\n",
       "        OnGround               timestamp    formatted_date         day  hour  \n",
       "0            0.0 2024-12-01 00:00:03.260  01/12/2024 00:00  01/12/2024     0  \n",
       "1            0.0 2024-12-01 00:00:03.261  01/12/2024 00:00  01/12/2024     0  \n",
       "3            0.0 2024-12-01 00:00:06.603  01/12/2024 00:00  01/12/2024     0  \n",
       "4            0.0 2024-12-01 00:00:06.603  01/12/2024 00:00  01/12/2024     0  \n",
       "5            0.0 2024-12-01 00:00:07.114  01/12/2024 00:00  01/12/2024     0  \n",
       "...          ...                     ...               ...         ...   ...  \n",
       "506046       0.0 2024-12-02 07:37:50.047  02/12/2024 07:37  02/12/2024     7  \n",
       "506048       0.0 2024-12-02 07:37:50.047  02/12/2024 07:37  02/12/2024     7  \n",
       "506049       0.0 2024-12-02 07:37:50.047  02/12/2024 07:37  02/12/2024     7  \n",
       "506050       0.0 2024-12-02 07:37:50.354  02/12/2024 07:37  02/12/2024     7  \n",
       "506051       0.0 2024-12-02 07:37:50.364  02/12/2024 07:37  02/12/2024     7  \n",
       "\n",
       "[467494 rows x 11 columns]"
      ]
     },
     "execution_count": 25,
     "metadata": {},
     "output_type": "execute_result"
    }
   ],
   "source": [
    "df_11"
   ]
  },
  {
   "cell_type": "code",
   "execution_count": 26,
   "metadata": {},
   "outputs": [
    {
     "data": {
      "text/html": [
       "<div>\n",
       "<style scoped>\n",
       "    .dataframe tbody tr th:only-of-type {\n",
       "        vertical-align: middle;\n",
       "    }\n",
       "\n",
       "    .dataframe tbody tr th {\n",
       "        vertical-align: top;\n",
       "    }\n",
       "\n",
       "    .dataframe thead th {\n",
       "        text-align: right;\n",
       "    }\n",
       "</style>\n",
       "<table border=\"1\" class=\"dataframe\">\n",
       "  <thead>\n",
       "    <tr style=\"text-align: right;\">\n",
       "      <th></th>\n",
       "      <th>index</th>\n",
       "      <th>ts_kafka</th>\n",
       "      <th>message</th>\n",
       "      <th>messageHex</th>\n",
       "      <th>DL</th>\n",
       "      <th>ICAO</th>\n",
       "      <th>OnGround</th>\n",
       "      <th>timestamp</th>\n",
       "      <th>formatted_date</th>\n",
       "      <th>day</th>\n",
       "      <th>hour</th>\n",
       "      <th>CS</th>\n",
       "      <th>FLIGHT_ID</th>\n",
       "      <th>MIN_TIMESTAMP</th>\n",
       "      <th>MAX_TIMESTAMP</th>\n",
       "    </tr>\n",
       "  </thead>\n",
       "  <tbody>\n",
       "    <tr>\n",
       "      <th>0</th>\n",
       "      <td>4</td>\n",
       "      <td>1733011203260</td>\n",
       "      <td>XTRCE1QV9w==</td>\n",
       "      <td>5d3442135415f7</td>\n",
       "      <td>11</td>\n",
       "      <td>344213</td>\n",
       "      <td>0.0</td>\n",
       "      <td>2024-12-01 00:00:03.260</td>\n",
       "      <td>01/12/2024 00:00</td>\n",
       "      <td>01/12/2024</td>\n",
       "      <td>0</td>\n",
       "      <td>ANE010__</td>\n",
       "      <td>0</td>\n",
       "      <td>2024-12-02 16:31:08.981</td>\n",
       "      <td>2024-12-02 16:31:08.981</td>\n",
       "    </tr>\n",
       "    <tr>\n",
       "      <th>1</th>\n",
       "      <td>4</td>\n",
       "      <td>1733011203260</td>\n",
       "      <td>XTRCE1QV9w==</td>\n",
       "      <td>5d3442135415f7</td>\n",
       "      <td>11</td>\n",
       "      <td>344213</td>\n",
       "      <td>0.0</td>\n",
       "      <td>2024-12-01 00:00:03.260</td>\n",
       "      <td>01/12/2024 00:00</td>\n",
       "      <td>01/12/2024</td>\n",
       "      <td>0</td>\n",
       "      <td>ANE1357_</td>\n",
       "      <td>0</td>\n",
       "      <td>2024-12-06 15:40:09.139</td>\n",
       "      <td>2024-12-06 15:49:34.146</td>\n",
       "    </tr>\n",
       "    <tr>\n",
       "      <th>2</th>\n",
       "      <td>4</td>\n",
       "      <td>1733011203260</td>\n",
       "      <td>XTRCE1QV9w==</td>\n",
       "      <td>5d3442135415f7</td>\n",
       "      <td>11</td>\n",
       "      <td>344213</td>\n",
       "      <td>0.0</td>\n",
       "      <td>2024-12-01 00:00:03.260</td>\n",
       "      <td>01/12/2024 00:00</td>\n",
       "      <td>01/12/2024</td>\n",
       "      <td>0</td>\n",
       "      <td>ANE17NR_</td>\n",
       "      <td>0</td>\n",
       "      <td>2024-12-04 19:11:28.350</td>\n",
       "      <td>2024-12-04 19:18:58.456</td>\n",
       "    </tr>\n",
       "    <tr>\n",
       "      <th>3</th>\n",
       "      <td>4</td>\n",
       "      <td>1733011203260</td>\n",
       "      <td>XTRCE1QV9w==</td>\n",
       "      <td>5d3442135415f7</td>\n",
       "      <td>11</td>\n",
       "      <td>344213</td>\n",
       "      <td>0.0</td>\n",
       "      <td>2024-12-01 00:00:03.260</td>\n",
       "      <td>01/12/2024 00:00</td>\n",
       "      <td>01/12/2024</td>\n",
       "      <td>0</td>\n",
       "      <td>ANE3016_</td>\n",
       "      <td>0</td>\n",
       "      <td>2024-12-01 00:00:08.331</td>\n",
       "      <td>2024-12-01 00:09:00.104</td>\n",
       "    </tr>\n",
       "    <tr>\n",
       "      <th>4</th>\n",
       "      <td>4</td>\n",
       "      <td>1733011203260</td>\n",
       "      <td>XTRCE1QV9w==</td>\n",
       "      <td>5d3442135415f7</td>\n",
       "      <td>11</td>\n",
       "      <td>344213</td>\n",
       "      <td>0.0</td>\n",
       "      <td>2024-12-01 00:00:03.260</td>\n",
       "      <td>01/12/2024 00:00</td>\n",
       "      <td>01/12/2024</td>\n",
       "      <td>0</td>\n",
       "      <td>ANE74KE_</td>\n",
       "      <td>0</td>\n",
       "      <td>2024-12-04 07:20:27.918</td>\n",
       "      <td>2024-12-04 07:28:35.168</td>\n",
       "    </tr>\n",
       "  </tbody>\n",
       "</table>\n",
       "</div>"
      ],
      "text/plain": [
       "   index       ts_kafka       message      messageHex  DL    ICAO  OnGround  \\\n",
       "0      4  1733011203260  XTRCE1QV9w==  5d3442135415f7  11  344213       0.0   \n",
       "1      4  1733011203260  XTRCE1QV9w==  5d3442135415f7  11  344213       0.0   \n",
       "2      4  1733011203260  XTRCE1QV9w==  5d3442135415f7  11  344213       0.0   \n",
       "3      4  1733011203260  XTRCE1QV9w==  5d3442135415f7  11  344213       0.0   \n",
       "4      4  1733011203260  XTRCE1QV9w==  5d3442135415f7  11  344213       0.0   \n",
       "\n",
       "                timestamp    formatted_date         day  hour        CS  \\\n",
       "0 2024-12-01 00:00:03.260  01/12/2024 00:00  01/12/2024     0  ANE010__   \n",
       "1 2024-12-01 00:00:03.260  01/12/2024 00:00  01/12/2024     0  ANE1357_   \n",
       "2 2024-12-01 00:00:03.260  01/12/2024 00:00  01/12/2024     0  ANE17NR_   \n",
       "3 2024-12-01 00:00:03.260  01/12/2024 00:00  01/12/2024     0  ANE3016_   \n",
       "4 2024-12-01 00:00:03.260  01/12/2024 00:00  01/12/2024     0  ANE74KE_   \n",
       "\n",
       "   FLIGHT_ID           MIN_TIMESTAMP           MAX_TIMESTAMP  \n",
       "0          0 2024-12-02 16:31:08.981 2024-12-02 16:31:08.981  \n",
       "1          0 2024-12-06 15:40:09.139 2024-12-06 15:49:34.146  \n",
       "2          0 2024-12-04 19:11:28.350 2024-12-04 19:18:58.456  \n",
       "3          0 2024-12-01 00:00:08.331 2024-12-01 00:09:00.104  \n",
       "4          0 2024-12-04 07:20:27.918 2024-12-04 07:28:35.168  "
      ]
     },
     "execution_count": 26,
     "metadata": {},
     "output_type": "execute_result"
    }
   ],
   "source": [
    "df_merged = df_11.merge(df_callsigns,on=\"ICAO\")\n",
    "df_merged.head()\n"
   ]
  },
  {
   "cell_type": "code",
   "execution_count": 27,
   "metadata": {},
   "outputs": [
    {
     "data": {
      "text/html": [
       "<div>\n",
       "<style scoped>\n",
       "    .dataframe tbody tr th:only-of-type {\n",
       "        vertical-align: middle;\n",
       "    }\n",
       "\n",
       "    .dataframe tbody tr th {\n",
       "        vertical-align: top;\n",
       "    }\n",
       "\n",
       "    .dataframe thead th {\n",
       "        text-align: right;\n",
       "    }\n",
       "</style>\n",
       "<table border=\"1\" class=\"dataframe\">\n",
       "  <thead>\n",
       "    <tr style=\"text-align: right;\">\n",
       "      <th></th>\n",
       "      <th>index</th>\n",
       "      <th>ts_kafka</th>\n",
       "      <th>message</th>\n",
       "      <th>messageHex</th>\n",
       "      <th>DL</th>\n",
       "      <th>ICAO</th>\n",
       "      <th>OnGround</th>\n",
       "      <th>timestamp</th>\n",
       "      <th>formatted_date</th>\n",
       "      <th>day</th>\n",
       "      <th>hour</th>\n",
       "      <th>CS</th>\n",
       "      <th>FLIGHT_ID</th>\n",
       "      <th>MIN_TIMESTAMP</th>\n",
       "      <th>MAX_TIMESTAMP</th>\n",
       "    </tr>\n",
       "  </thead>\n",
       "  <tbody>\n",
       "    <tr>\n",
       "      <th>10</th>\n",
       "      <td>302</td>\n",
       "      <td>1733011220497</td>\n",
       "      <td>XTRCE1QV9w==</td>\n",
       "      <td>5d3442135415f7</td>\n",
       "      <td>11</td>\n",
       "      <td>344213</td>\n",
       "      <td>0.0</td>\n",
       "      <td>2024-12-01 00:00:20.497</td>\n",
       "      <td>01/12/2024 00:00</td>\n",
       "      <td>01/12/2024</td>\n",
       "      <td>0</td>\n",
       "      <td>ANE3016_</td>\n",
       "      <td>0</td>\n",
       "      <td>2024-12-01 00:00:08.331</td>\n",
       "      <td>2024-12-01 00:09:00.104</td>\n",
       "    </tr>\n",
       "    <tr>\n",
       "      <th>17</th>\n",
       "      <td>404</td>\n",
       "      <td>1733011226370</td>\n",
       "      <td>XTRCE1QV9w==</td>\n",
       "      <td>5d3442135415f7</td>\n",
       "      <td>11</td>\n",
       "      <td>344213</td>\n",
       "      <td>0.0</td>\n",
       "      <td>2024-12-01 00:00:26.370</td>\n",
       "      <td>01/12/2024 00:00</td>\n",
       "      <td>01/12/2024</td>\n",
       "      <td>0</td>\n",
       "      <td>ANE3016_</td>\n",
       "      <td>0</td>\n",
       "      <td>2024-12-01 00:00:08.331</td>\n",
       "      <td>2024-12-01 00:09:00.104</td>\n",
       "    </tr>\n",
       "    <tr>\n",
       "      <th>24</th>\n",
       "      <td>513</td>\n",
       "      <td>1733011230732</td>\n",
       "      <td>XTRCE1QV9w==</td>\n",
       "      <td>5d3442135415f7</td>\n",
       "      <td>11</td>\n",
       "      <td>344213</td>\n",
       "      <td>0.0</td>\n",
       "      <td>2024-12-01 00:00:30.732</td>\n",
       "      <td>01/12/2024 00:00</td>\n",
       "      <td>01/12/2024</td>\n",
       "      <td>0</td>\n",
       "      <td>ANE3016_</td>\n",
       "      <td>0</td>\n",
       "      <td>2024-12-01 00:00:08.331</td>\n",
       "      <td>2024-12-01 00:09:00.104</td>\n",
       "    </tr>\n",
       "    <tr>\n",
       "      <th>31</th>\n",
       "      <td>1399</td>\n",
       "      <td>1733011289658</td>\n",
       "      <td>XTRCE1QV9w==</td>\n",
       "      <td>5d3442135415f7</td>\n",
       "      <td>11</td>\n",
       "      <td>344213</td>\n",
       "      <td>0.0</td>\n",
       "      <td>2024-12-01 00:01:29.658</td>\n",
       "      <td>01/12/2024 00:01</td>\n",
       "      <td>01/12/2024</td>\n",
       "      <td>0</td>\n",
       "      <td>ANE3016_</td>\n",
       "      <td>0</td>\n",
       "      <td>2024-12-01 00:00:08.331</td>\n",
       "      <td>2024-12-01 00:09:00.104</td>\n",
       "    </tr>\n",
       "    <tr>\n",
       "      <th>38</th>\n",
       "      <td>1602</td>\n",
       "      <td>1733011304564</td>\n",
       "      <td>XTRCE1QV9w==</td>\n",
       "      <td>5d3442135415f7</td>\n",
       "      <td>11</td>\n",
       "      <td>344213</td>\n",
       "      <td>0.0</td>\n",
       "      <td>2024-12-01 00:01:44.564</td>\n",
       "      <td>01/12/2024 00:01</td>\n",
       "      <td>01/12/2024</td>\n",
       "      <td>0</td>\n",
       "      <td>ANE3016_</td>\n",
       "      <td>0</td>\n",
       "      <td>2024-12-01 00:00:08.331</td>\n",
       "      <td>2024-12-01 00:09:00.104</td>\n",
       "    </tr>\n",
       "    <tr>\n",
       "      <th>...</th>\n",
       "      <td>...</td>\n",
       "      <td>...</td>\n",
       "      <td>...</td>\n",
       "      <td>...</td>\n",
       "      <td>...</td>\n",
       "      <td>...</td>\n",
       "      <td>...</td>\n",
       "      <td>...</td>\n",
       "      <td>...</td>\n",
       "      <td>...</td>\n",
       "      <td>...</td>\n",
       "      <td>...</td>\n",
       "      <td>...</td>\n",
       "      <td>...</td>\n",
       "      <td>...</td>\n",
       "    </tr>\n",
       "    <tr>\n",
       "      <th>2498101</th>\n",
       "      <td>5231700</td>\n",
       "      <td>1733125058474</td>\n",
       "      <td>XU0kk0REDg==</td>\n",
       "      <td>5d4d249344440e</td>\n",
       "      <td>11</td>\n",
       "      <td>4d2493</td>\n",
       "      <td>0.0</td>\n",
       "      <td>2024-12-02 07:37:38.474</td>\n",
       "      <td>02/12/2024 07:37</td>\n",
       "      <td>02/12/2024</td>\n",
       "      <td>7</td>\n",
       "      <td>WMT575__</td>\n",
       "      <td>0</td>\n",
       "      <td>2024-12-02 07:36:41.688</td>\n",
       "      <td>2024-12-02 07:38:11.678</td>\n",
       "    </tr>\n",
       "    <tr>\n",
       "      <th>2498102</th>\n",
       "      <td>5232683</td>\n",
       "      <td>1733125070760</td>\n",
       "      <td>XU0kk0REDg==</td>\n",
       "      <td>5d4d249344440e</td>\n",
       "      <td>11</td>\n",
       "      <td>4d2493</td>\n",
       "      <td>0.0</td>\n",
       "      <td>2024-12-02 07:37:50.760</td>\n",
       "      <td>02/12/2024 07:37</td>\n",
       "      <td>02/12/2024</td>\n",
       "      <td>7</td>\n",
       "      <td>WMT575__</td>\n",
       "      <td>0</td>\n",
       "      <td>2024-12-02 07:36:41.688</td>\n",
       "      <td>2024-12-02 07:38:11.678</td>\n",
       "    </tr>\n",
       "    <tr>\n",
       "      <th>2498103</th>\n",
       "      <td>5264194</td>\n",
       "      <td>1733125031737</td>\n",
       "      <td>XU0kk0REDg==</td>\n",
       "      <td>5d4d249344440e</td>\n",
       "      <td>11</td>\n",
       "      <td>4d2493</td>\n",
       "      <td>0.0</td>\n",
       "      <td>2024-12-02 07:37:11.737</td>\n",
       "      <td>02/12/2024 07:37</td>\n",
       "      <td>02/12/2024</td>\n",
       "      <td>7</td>\n",
       "      <td>WMT575__</td>\n",
       "      <td>0</td>\n",
       "      <td>2024-12-02 07:36:41.688</td>\n",
       "      <td>2024-12-02 07:38:11.678</td>\n",
       "    </tr>\n",
       "    <tr>\n",
       "      <th>2498104</th>\n",
       "      <td>5264249</td>\n",
       "      <td>1733125034099</td>\n",
       "      <td>XU0kk0REDg==</td>\n",
       "      <td>5d4d249344440e</td>\n",
       "      <td>11</td>\n",
       "      <td>4d2493</td>\n",
       "      <td>0.0</td>\n",
       "      <td>2024-12-02 07:37:14.099</td>\n",
       "      <td>02/12/2024 07:37</td>\n",
       "      <td>02/12/2024</td>\n",
       "      <td>7</td>\n",
       "      <td>WMT575__</td>\n",
       "      <td>0</td>\n",
       "      <td>2024-12-02 07:36:41.688</td>\n",
       "      <td>2024-12-02 07:38:11.678</td>\n",
       "    </tr>\n",
       "    <tr>\n",
       "      <th>2498105</th>\n",
       "      <td>5264417</td>\n",
       "      <td>1733125036547</td>\n",
       "      <td>XU0kk0REDg==</td>\n",
       "      <td>5d4d249344440e</td>\n",
       "      <td>11</td>\n",
       "      <td>4d2493</td>\n",
       "      <td>0.0</td>\n",
       "      <td>2024-12-02 07:37:16.547</td>\n",
       "      <td>02/12/2024 07:37</td>\n",
       "      <td>02/12/2024</td>\n",
       "      <td>7</td>\n",
       "      <td>WMT575__</td>\n",
       "      <td>0</td>\n",
       "      <td>2024-12-02 07:36:41.688</td>\n",
       "      <td>2024-12-02 07:38:11.678</td>\n",
       "    </tr>\n",
       "  </tbody>\n",
       "</table>\n",
       "<p>366729 rows × 15 columns</p>\n",
       "</div>"
      ],
      "text/plain": [
       "           index       ts_kafka       message      messageHex  DL    ICAO  \\\n",
       "10           302  1733011220497  XTRCE1QV9w==  5d3442135415f7  11  344213   \n",
       "17           404  1733011226370  XTRCE1QV9w==  5d3442135415f7  11  344213   \n",
       "24           513  1733011230732  XTRCE1QV9w==  5d3442135415f7  11  344213   \n",
       "31          1399  1733011289658  XTRCE1QV9w==  5d3442135415f7  11  344213   \n",
       "38          1602  1733011304564  XTRCE1QV9w==  5d3442135415f7  11  344213   \n",
       "...          ...            ...           ...             ...  ..     ...   \n",
       "2498101  5231700  1733125058474  XU0kk0REDg==  5d4d249344440e  11  4d2493   \n",
       "2498102  5232683  1733125070760  XU0kk0REDg==  5d4d249344440e  11  4d2493   \n",
       "2498103  5264194  1733125031737  XU0kk0REDg==  5d4d249344440e  11  4d2493   \n",
       "2498104  5264249  1733125034099  XU0kk0REDg==  5d4d249344440e  11  4d2493   \n",
       "2498105  5264417  1733125036547  XU0kk0REDg==  5d4d249344440e  11  4d2493   \n",
       "\n",
       "         OnGround               timestamp    formatted_date         day  hour  \\\n",
       "10            0.0 2024-12-01 00:00:20.497  01/12/2024 00:00  01/12/2024     0   \n",
       "17            0.0 2024-12-01 00:00:26.370  01/12/2024 00:00  01/12/2024     0   \n",
       "24            0.0 2024-12-01 00:00:30.732  01/12/2024 00:00  01/12/2024     0   \n",
       "31            0.0 2024-12-01 00:01:29.658  01/12/2024 00:01  01/12/2024     0   \n",
       "38            0.0 2024-12-01 00:01:44.564  01/12/2024 00:01  01/12/2024     0   \n",
       "...           ...                     ...               ...         ...   ...   \n",
       "2498101       0.0 2024-12-02 07:37:38.474  02/12/2024 07:37  02/12/2024     7   \n",
       "2498102       0.0 2024-12-02 07:37:50.760  02/12/2024 07:37  02/12/2024     7   \n",
       "2498103       0.0 2024-12-02 07:37:11.737  02/12/2024 07:37  02/12/2024     7   \n",
       "2498104       0.0 2024-12-02 07:37:14.099  02/12/2024 07:37  02/12/2024     7   \n",
       "2498105       0.0 2024-12-02 07:37:16.547  02/12/2024 07:37  02/12/2024     7   \n",
       "\n",
       "               CS  FLIGHT_ID           MIN_TIMESTAMP           MAX_TIMESTAMP  \n",
       "10       ANE3016_          0 2024-12-01 00:00:08.331 2024-12-01 00:09:00.104  \n",
       "17       ANE3016_          0 2024-12-01 00:00:08.331 2024-12-01 00:09:00.104  \n",
       "24       ANE3016_          0 2024-12-01 00:00:08.331 2024-12-01 00:09:00.104  \n",
       "31       ANE3016_          0 2024-12-01 00:00:08.331 2024-12-01 00:09:00.104  \n",
       "38       ANE3016_          0 2024-12-01 00:00:08.331 2024-12-01 00:09:00.104  \n",
       "...           ...        ...                     ...                     ...  \n",
       "2498101  WMT575__          0 2024-12-02 07:36:41.688 2024-12-02 07:38:11.678  \n",
       "2498102  WMT575__          0 2024-12-02 07:36:41.688 2024-12-02 07:38:11.678  \n",
       "2498103  WMT575__          0 2024-12-02 07:36:41.688 2024-12-02 07:38:11.678  \n",
       "2498104  WMT575__          0 2024-12-02 07:36:41.688 2024-12-02 07:38:11.678  \n",
       "2498105  WMT575__          0 2024-12-02 07:36:41.688 2024-12-02 07:38:11.678  \n",
       "\n",
       "[366729 rows x 15 columns]"
      ]
     },
     "execution_count": 27,
     "metadata": {},
     "output_type": "execute_result"
    }
   ],
   "source": [
    "df_filtered = df_merged[(df_merged['timestamp'] >= df_merged['MIN_TIMESTAMP']) & \n",
    "                           (df_merged['timestamp'] <= df_merged['MAX_TIMESTAMP'])]\n",
    "\n",
    "# Show the filtered dataframe\n",
    "df_filtered"
   ]
  },
  {
   "cell_type": "code",
   "execution_count": 28,
   "metadata": {},
   "outputs": [
    {
     "data": {
      "text/html": [
       "<div>\n",
       "<style scoped>\n",
       "    .dataframe tbody tr th:only-of-type {\n",
       "        vertical-align: middle;\n",
       "    }\n",
       "\n",
       "    .dataframe tbody tr th {\n",
       "        vertical-align: top;\n",
       "    }\n",
       "\n",
       "    .dataframe thead th {\n",
       "        text-align: right;\n",
       "    }\n",
       "</style>\n",
       "<table border=\"1\" class=\"dataframe\">\n",
       "  <thead>\n",
       "    <tr style=\"text-align: right;\">\n",
       "      <th></th>\n",
       "      <th>index</th>\n",
       "      <th>ts_kafka</th>\n",
       "      <th>message</th>\n",
       "      <th>messageHex</th>\n",
       "      <th>DL</th>\n",
       "      <th>ICAO</th>\n",
       "      <th>OnGround</th>\n",
       "      <th>timestamp</th>\n",
       "      <th>formatted_date</th>\n",
       "      <th>day</th>\n",
       "      <th>hour</th>\n",
       "    </tr>\n",
       "  </thead>\n",
       "  <tbody>\n",
       "    <tr>\n",
       "      <th>0</th>\n",
       "      <td>4</td>\n",
       "      <td>1733011203260</td>\n",
       "      <td>XTRCE1QV9w==</td>\n",
       "      <td>5d3442135415f7</td>\n",
       "      <td>11</td>\n",
       "      <td>344213</td>\n",
       "      <td>0.0</td>\n",
       "      <td>2024-12-01 00:00:03.260</td>\n",
       "      <td>01/12/2024 00:00</td>\n",
       "      <td>01/12/2024</td>\n",
       "      <td>0</td>\n",
       "    </tr>\n",
       "    <tr>\n",
       "      <th>1</th>\n",
       "      <td>28</td>\n",
       "      <td>1733011203261</td>\n",
       "      <td>XVAtXkh/IA==</td>\n",
       "      <td>5d502d5e487f20</td>\n",
       "      <td>11</td>\n",
       "      <td>502d5e</td>\n",
       "      <td>0.0</td>\n",
       "      <td>2024-12-01 00:00:03.261</td>\n",
       "      <td>01/12/2024 00:00</td>\n",
       "      <td>01/12/2024</td>\n",
       "      <td>0</td>\n",
       "    </tr>\n",
       "    <tr>\n",
       "      <th>3</th>\n",
       "      <td>56</td>\n",
       "      <td>1733011206603</td>\n",
       "      <td>XUytpDAQpw==</td>\n",
       "      <td>5d4cada43010a7</td>\n",
       "      <td>11</td>\n",
       "      <td>4cada4</td>\n",
       "      <td>0.0</td>\n",
       "      <td>2024-12-01 00:00:06.603</td>\n",
       "      <td>01/12/2024 00:00</td>\n",
       "      <td>01/12/2024</td>\n",
       "      <td>0</td>\n",
       "    </tr>\n",
       "    <tr>\n",
       "      <th>4</th>\n",
       "      <td>64</td>\n",
       "      <td>1733011206603</td>\n",
       "      <td>XUnS7vEibg==</td>\n",
       "      <td>5d49d2eef1226e</td>\n",
       "      <td>11</td>\n",
       "      <td>49d2ee</td>\n",
       "      <td>0.0</td>\n",
       "      <td>2024-12-01 00:00:06.603</td>\n",
       "      <td>01/12/2024 00:00</td>\n",
       "      <td>01/12/2024</td>\n",
       "      <td>0</td>\n",
       "    </tr>\n",
       "    <tr>\n",
       "      <th>5</th>\n",
       "      <td>70</td>\n",
       "      <td>1733011207114</td>\n",
       "      <td>XTRkDrEgdQ==</td>\n",
       "      <td>5d34640eb12075</td>\n",
       "      <td>11</td>\n",
       "      <td>34640e</td>\n",
       "      <td>0.0</td>\n",
       "      <td>2024-12-01 00:00:07.114</td>\n",
       "      <td>01/12/2024 00:00</td>\n",
       "      <td>01/12/2024</td>\n",
       "      <td>0</td>\n",
       "    </tr>\n",
       "    <tr>\n",
       "      <th>...</th>\n",
       "      <td>...</td>\n",
       "      <td>...</td>\n",
       "      <td>...</td>\n",
       "      <td>...</td>\n",
       "      <td>...</td>\n",
       "      <td>...</td>\n",
       "      <td>...</td>\n",
       "      <td>...</td>\n",
       "      <td>...</td>\n",
       "      <td>...</td>\n",
       "      <td>...</td>\n",
       "    </tr>\n",
       "    <tr>\n",
       "      <th>506046</th>\n",
       "      <td>5299964</td>\n",
       "      <td>1733125070047</td>\n",
       "      <td>XUcfa4h8qQ==</td>\n",
       "      <td>5d471f6b887ca9</td>\n",
       "      <td>11</td>\n",
       "      <td>471f6b</td>\n",
       "      <td>0.0</td>\n",
       "      <td>2024-12-02 07:37:50.047</td>\n",
       "      <td>02/12/2024 07:37</td>\n",
       "      <td>02/12/2024</td>\n",
       "      <td>7</td>\n",
       "    </tr>\n",
       "    <tr>\n",
       "      <th>506048</th>\n",
       "      <td>5299968</td>\n",
       "      <td>1733125070047</td>\n",
       "      <td>XUlSx/Z3nw==</td>\n",
       "      <td>5d4952c7f6779f</td>\n",
       "      <td>11</td>\n",
       "      <td>4952c7</td>\n",
       "      <td>0.0</td>\n",
       "      <td>2024-12-02 07:37:50.047</td>\n",
       "      <td>02/12/2024 07:37</td>\n",
       "      <td>02/12/2024</td>\n",
       "      <td>7</td>\n",
       "    </tr>\n",
       "    <tr>\n",
       "      <th>506049</th>\n",
       "      <td>5299974</td>\n",
       "      <td>1733125070047</td>\n",
       "      <td>XUlSEfI2yg==</td>\n",
       "      <td>5d495211f236ca</td>\n",
       "      <td>11</td>\n",
       "      <td>495211</td>\n",
       "      <td>0.0</td>\n",
       "      <td>2024-12-02 07:37:50.047</td>\n",
       "      <td>02/12/2024 07:37</td>\n",
       "      <td>02/12/2024</td>\n",
       "      <td>7</td>\n",
       "    </tr>\n",
       "    <tr>\n",
       "      <th>506050</th>\n",
       "      <td>5299987</td>\n",
       "      <td>1733125070354</td>\n",
       "      <td>XUlRzhvleg==</td>\n",
       "      <td>5d4951ce1be57a</td>\n",
       "      <td>11</td>\n",
       "      <td>4951ce</td>\n",
       "      <td>0.0</td>\n",
       "      <td>2024-12-02 07:37:50.354</td>\n",
       "      <td>02/12/2024 07:37</td>\n",
       "      <td>02/12/2024</td>\n",
       "      <td>7</td>\n",
       "    </tr>\n",
       "    <tr>\n",
       "      <th>506051</th>\n",
       "      <td>5299997</td>\n",
       "      <td>1733125070364</td>\n",
       "      <td>XUyvtCzrfw==</td>\n",
       "      <td>5d4cafb42ceb7f</td>\n",
       "      <td>11</td>\n",
       "      <td>4cafb4</td>\n",
       "      <td>0.0</td>\n",
       "      <td>2024-12-02 07:37:50.364</td>\n",
       "      <td>02/12/2024 07:37</td>\n",
       "      <td>02/12/2024</td>\n",
       "      <td>7</td>\n",
       "    </tr>\n",
       "  </tbody>\n",
       "</table>\n",
       "<p>467494 rows × 11 columns</p>\n",
       "</div>"
      ],
      "text/plain": [
       "          index       ts_kafka       message      messageHex  DL    ICAO  \\\n",
       "0             4  1733011203260  XTRCE1QV9w==  5d3442135415f7  11  344213   \n",
       "1            28  1733011203261  XVAtXkh/IA==  5d502d5e487f20  11  502d5e   \n",
       "3            56  1733011206603  XUytpDAQpw==  5d4cada43010a7  11  4cada4   \n",
       "4            64  1733011206603  XUnS7vEibg==  5d49d2eef1226e  11  49d2ee   \n",
       "5            70  1733011207114  XTRkDrEgdQ==  5d34640eb12075  11  34640e   \n",
       "...         ...            ...           ...             ...  ..     ...   \n",
       "506046  5299964  1733125070047  XUcfa4h8qQ==  5d471f6b887ca9  11  471f6b   \n",
       "506048  5299968  1733125070047  XUlSx/Z3nw==  5d4952c7f6779f  11  4952c7   \n",
       "506049  5299974  1733125070047  XUlSEfI2yg==  5d495211f236ca  11  495211   \n",
       "506050  5299987  1733125070354  XUlRzhvleg==  5d4951ce1be57a  11  4951ce   \n",
       "506051  5299997  1733125070364  XUyvtCzrfw==  5d4cafb42ceb7f  11  4cafb4   \n",
       "\n",
       "        OnGround               timestamp    formatted_date         day  hour  \n",
       "0            0.0 2024-12-01 00:00:03.260  01/12/2024 00:00  01/12/2024     0  \n",
       "1            0.0 2024-12-01 00:00:03.261  01/12/2024 00:00  01/12/2024     0  \n",
       "3            0.0 2024-12-01 00:00:06.603  01/12/2024 00:00  01/12/2024     0  \n",
       "4            0.0 2024-12-01 00:00:06.603  01/12/2024 00:00  01/12/2024     0  \n",
       "5            0.0 2024-12-01 00:00:07.114  01/12/2024 00:00  01/12/2024     0  \n",
       "...          ...                     ...               ...         ...   ...  \n",
       "506046       0.0 2024-12-02 07:37:50.047  02/12/2024 07:37  02/12/2024     7  \n",
       "506048       0.0 2024-12-02 07:37:50.047  02/12/2024 07:37  02/12/2024     7  \n",
       "506049       0.0 2024-12-02 07:37:50.047  02/12/2024 07:37  02/12/2024     7  \n",
       "506050       0.0 2024-12-02 07:37:50.354  02/12/2024 07:37  02/12/2024     7  \n",
       "506051       0.0 2024-12-02 07:37:50.364  02/12/2024 07:37  02/12/2024     7  \n",
       "\n",
       "[467494 rows x 11 columns]"
      ]
     },
     "execution_count": 28,
     "metadata": {},
     "output_type": "execute_result"
    }
   ],
   "source": [
    "df_11\n"
   ]
  },
  {
   "cell_type": "code",
   "execution_count": 29,
   "metadata": {},
   "outputs": [
    {
     "data": {
      "text/html": [
       "<div>\n",
       "<style scoped>\n",
       "    .dataframe tbody tr th:only-of-type {\n",
       "        vertical-align: middle;\n",
       "    }\n",
       "\n",
       "    .dataframe tbody tr th {\n",
       "        vertical-align: top;\n",
       "    }\n",
       "\n",
       "    .dataframe thead th {\n",
       "        text-align: right;\n",
       "    }\n",
       "</style>\n",
       "<table border=\"1\" class=\"dataframe\">\n",
       "  <thead>\n",
       "    <tr style=\"text-align: right;\">\n",
       "      <th></th>\n",
       "      <th>index</th>\n",
       "      <th>ts_kafka</th>\n",
       "      <th>message</th>\n",
       "      <th>messageHex</th>\n",
       "      <th>DL</th>\n",
       "      <th>ICAO</th>\n",
       "      <th>OnGround</th>\n",
       "      <th>timestamp</th>\n",
       "      <th>formatted_date</th>\n",
       "      <th>day</th>\n",
       "      <th>hour</th>\n",
       "    </tr>\n",
       "  </thead>\n",
       "  <tbody>\n",
       "    <tr>\n",
       "      <th>0</th>\n",
       "      <td>4</td>\n",
       "      <td>1733011203260</td>\n",
       "      <td>XTRCE1QV9w==</td>\n",
       "      <td>5d3442135415f7</td>\n",
       "      <td>11</td>\n",
       "      <td>344213</td>\n",
       "      <td>0.0</td>\n",
       "      <td>2024-12-01 00:00:03.260</td>\n",
       "      <td>01/12/2024 00:00</td>\n",
       "      <td>01/12/2024</td>\n",
       "      <td>0</td>\n",
       "    </tr>\n",
       "    <tr>\n",
       "      <th>20</th>\n",
       "      <td>302</td>\n",
       "      <td>1733011220497</td>\n",
       "      <td>XTRCE1QV9w==</td>\n",
       "      <td>5d3442135415f7</td>\n",
       "      <td>11</td>\n",
       "      <td>344213</td>\n",
       "      <td>0.0</td>\n",
       "      <td>2024-12-01 00:00:20.497</td>\n",
       "      <td>01/12/2024 00:00</td>\n",
       "      <td>01/12/2024</td>\n",
       "      <td>0</td>\n",
       "    </tr>\n",
       "    <tr>\n",
       "      <th>29</th>\n",
       "      <td>404</td>\n",
       "      <td>1733011226370</td>\n",
       "      <td>XTRCE1QV9w==</td>\n",
       "      <td>5d3442135415f7</td>\n",
       "      <td>11</td>\n",
       "      <td>344213</td>\n",
       "      <td>0.0</td>\n",
       "      <td>2024-12-01 00:00:26.370</td>\n",
       "      <td>01/12/2024 00:00</td>\n",
       "      <td>01/12/2024</td>\n",
       "      <td>0</td>\n",
       "    </tr>\n",
       "    <tr>\n",
       "      <th>32</th>\n",
       "      <td>513</td>\n",
       "      <td>1733011230732</td>\n",
       "      <td>XTRCE1QV9w==</td>\n",
       "      <td>5d3442135415f7</td>\n",
       "      <td>11</td>\n",
       "      <td>344213</td>\n",
       "      <td>0.0</td>\n",
       "      <td>2024-12-01 00:00:30.732</td>\n",
       "      <td>01/12/2024 00:00</td>\n",
       "      <td>01/12/2024</td>\n",
       "      <td>0</td>\n",
       "    </tr>\n",
       "    <tr>\n",
       "      <th>83</th>\n",
       "      <td>1399</td>\n",
       "      <td>1733011289658</td>\n",
       "      <td>XTRCE1QV9w==</td>\n",
       "      <td>5d3442135415f7</td>\n",
       "      <td>11</td>\n",
       "      <td>344213</td>\n",
       "      <td>0.0</td>\n",
       "      <td>2024-12-01 00:01:29.658</td>\n",
       "      <td>01/12/2024 00:01</td>\n",
       "      <td>01/12/2024</td>\n",
       "      <td>0</td>\n",
       "    </tr>\n",
       "    <tr>\n",
       "      <th>...</th>\n",
       "      <td>...</td>\n",
       "      <td>...</td>\n",
       "      <td>...</td>\n",
       "      <td>...</td>\n",
       "      <td>...</td>\n",
       "      <td>...</td>\n",
       "      <td>...</td>\n",
       "      <td>...</td>\n",
       "      <td>...</td>\n",
       "      <td>...</td>\n",
       "      <td>...</td>\n",
       "    </tr>\n",
       "    <tr>\n",
       "      <th>364771</th>\n",
       "      <td>3796238</td>\n",
       "      <td>1733500087329</td>\n",
       "      <td>XTRCE1QV9w==</td>\n",
       "      <td>5d3442135415f7</td>\n",
       "      <td>11</td>\n",
       "      <td>344213</td>\n",
       "      <td>0.0</td>\n",
       "      <td>2024-12-06 15:48:07.329</td>\n",
       "      <td>06/12/2024 15:48</td>\n",
       "      <td>06/12/2024</td>\n",
       "      <td>15</td>\n",
       "    </tr>\n",
       "    <tr>\n",
       "      <th>364815</th>\n",
       "      <td>3796703</td>\n",
       "      <td>1733500091336</td>\n",
       "      <td>XTRCE1QV9w==</td>\n",
       "      <td>5d3442135415f7</td>\n",
       "      <td>11</td>\n",
       "      <td>344213</td>\n",
       "      <td>0.0</td>\n",
       "      <td>2024-12-06 15:48:11.336</td>\n",
       "      <td>06/12/2024 15:48</td>\n",
       "      <td>06/12/2024</td>\n",
       "      <td>15</td>\n",
       "    </tr>\n",
       "    <tr>\n",
       "      <th>365007</th>\n",
       "      <td>3798514</td>\n",
       "      <td>1733500116083</td>\n",
       "      <td>XTRCE1QV9w==</td>\n",
       "      <td>5d3442135415f7</td>\n",
       "      <td>11</td>\n",
       "      <td>344213</td>\n",
       "      <td>0.0</td>\n",
       "      <td>2024-12-06 15:48:36.083</td>\n",
       "      <td>06/12/2024 15:48</td>\n",
       "      <td>06/12/2024</td>\n",
       "      <td>15</td>\n",
       "    </tr>\n",
       "    <tr>\n",
       "      <th>365053</th>\n",
       "      <td>3799318</td>\n",
       "      <td>1733500128391</td>\n",
       "      <td>XTRCE1QV9w==</td>\n",
       "      <td>5d3442135415f7</td>\n",
       "      <td>11</td>\n",
       "      <td>344213</td>\n",
       "      <td>0.0</td>\n",
       "      <td>2024-12-06 15:48:48.391</td>\n",
       "      <td>06/12/2024 15:48</td>\n",
       "      <td>06/12/2024</td>\n",
       "      <td>15</td>\n",
       "    </tr>\n",
       "    <tr>\n",
       "      <th>365091</th>\n",
       "      <td>3799847</td>\n",
       "      <td>1733500134137</td>\n",
       "      <td>XTRCE1QV9w==</td>\n",
       "      <td>5d3442135415f7</td>\n",
       "      <td>11</td>\n",
       "      <td>344213</td>\n",
       "      <td>0.0</td>\n",
       "      <td>2024-12-06 15:48:54.137</td>\n",
       "      <td>06/12/2024 15:48</td>\n",
       "      <td>06/12/2024</td>\n",
       "      <td>15</td>\n",
       "    </tr>\n",
       "  </tbody>\n",
       "</table>\n",
       "<p>943 rows × 11 columns</p>\n",
       "</div>"
      ],
      "text/plain": [
       "          index       ts_kafka       message      messageHex  DL    ICAO  \\\n",
       "0             4  1733011203260  XTRCE1QV9w==  5d3442135415f7  11  344213   \n",
       "20          302  1733011220497  XTRCE1QV9w==  5d3442135415f7  11  344213   \n",
       "29          404  1733011226370  XTRCE1QV9w==  5d3442135415f7  11  344213   \n",
       "32          513  1733011230732  XTRCE1QV9w==  5d3442135415f7  11  344213   \n",
       "83         1399  1733011289658  XTRCE1QV9w==  5d3442135415f7  11  344213   \n",
       "...         ...            ...           ...             ...  ..     ...   \n",
       "364771  3796238  1733500087329  XTRCE1QV9w==  5d3442135415f7  11  344213   \n",
       "364815  3796703  1733500091336  XTRCE1QV9w==  5d3442135415f7  11  344213   \n",
       "365007  3798514  1733500116083  XTRCE1QV9w==  5d3442135415f7  11  344213   \n",
       "365053  3799318  1733500128391  XTRCE1QV9w==  5d3442135415f7  11  344213   \n",
       "365091  3799847  1733500134137  XTRCE1QV9w==  5d3442135415f7  11  344213   \n",
       "\n",
       "        OnGround               timestamp    formatted_date         day  hour  \n",
       "0            0.0 2024-12-01 00:00:03.260  01/12/2024 00:00  01/12/2024     0  \n",
       "20           0.0 2024-12-01 00:00:20.497  01/12/2024 00:00  01/12/2024     0  \n",
       "29           0.0 2024-12-01 00:00:26.370  01/12/2024 00:00  01/12/2024     0  \n",
       "32           0.0 2024-12-01 00:00:30.732  01/12/2024 00:00  01/12/2024     0  \n",
       "83           0.0 2024-12-01 00:01:29.658  01/12/2024 00:01  01/12/2024     0  \n",
       "...          ...                     ...               ...         ...   ...  \n",
       "364771       0.0 2024-12-06 15:48:07.329  06/12/2024 15:48  06/12/2024    15  \n",
       "364815       0.0 2024-12-06 15:48:11.336  06/12/2024 15:48  06/12/2024    15  \n",
       "365007       0.0 2024-12-06 15:48:36.083  06/12/2024 15:48  06/12/2024    15  \n",
       "365053       0.0 2024-12-06 15:48:48.391  06/12/2024 15:48  06/12/2024    15  \n",
       "365091       0.0 2024-12-06 15:48:54.137  06/12/2024 15:48  06/12/2024    15  \n",
       "\n",
       "[943 rows x 11 columns]"
      ]
     },
     "execution_count": 29,
     "metadata": {},
     "output_type": "execute_result"
    }
   ],
   "source": [
    "df_11[df_11[\"ICAO\"]== \"344213\"]\n"
   ]
  },
  {
   "cell_type": "code",
   "execution_count": 30,
   "metadata": {},
   "outputs": [
    {
     "data": {
      "text/html": [
       "<div>\n",
       "<style scoped>\n",
       "    .dataframe tbody tr th:only-of-type {\n",
       "        vertical-align: middle;\n",
       "    }\n",
       "\n",
       "    .dataframe tbody tr th {\n",
       "        vertical-align: top;\n",
       "    }\n",
       "\n",
       "    .dataframe thead th {\n",
       "        text-align: right;\n",
       "    }\n",
       "</style>\n",
       "<table border=\"1\" class=\"dataframe\">\n",
       "  <thead>\n",
       "    <tr style=\"text-align: right;\">\n",
       "      <th></th>\n",
       "      <th>day</th>\n",
       "      <th>hour</th>\n",
       "      <th>ICAO</th>\n",
       "      <th>OnGround</th>\n",
       "    </tr>\n",
       "  </thead>\n",
       "  <tbody>\n",
       "    <tr>\n",
       "      <th>4571</th>\n",
       "      <td>06/12/2024</td>\n",
       "      <td>11</td>\n",
       "      <td>3452c6</td>\n",
       "      <td>2</td>\n",
       "    </tr>\n",
       "    <tr>\n",
       "      <th>3712</th>\n",
       "      <td>05/12/2024</td>\n",
       "      <td>11</td>\n",
       "      <td>355316</td>\n",
       "      <td>2</td>\n",
       "    </tr>\n",
       "    <tr>\n",
       "      <th>3192</th>\n",
       "      <td>04/12/2024</td>\n",
       "      <td>14</td>\n",
       "      <td>502c22</td>\n",
       "      <td>2</td>\n",
       "    </tr>\n",
       "    <tr>\n",
       "      <th>4866</th>\n",
       "      <td>06/12/2024</td>\n",
       "      <td>15</td>\n",
       "      <td>3451da</td>\n",
       "      <td>2</td>\n",
       "    </tr>\n",
       "    <tr>\n",
       "      <th>2273</th>\n",
       "      <td>03/12/2024</td>\n",
       "      <td>15</td>\n",
       "      <td>34368c</td>\n",
       "      <td>2</td>\n",
       "    </tr>\n",
       "    <tr>\n",
       "      <th>...</th>\n",
       "      <td>...</td>\n",
       "      <td>...</td>\n",
       "      <td>...</td>\n",
       "      <td>...</td>\n",
       "    </tr>\n",
       "    <tr>\n",
       "      <th>2007</th>\n",
       "      <td>03/12/2024</td>\n",
       "      <td>10</td>\n",
       "      <td>345681</td>\n",
       "      <td>1</td>\n",
       "    </tr>\n",
       "    <tr>\n",
       "      <th>2006</th>\n",
       "      <td>03/12/2024</td>\n",
       "      <td>10</td>\n",
       "      <td>345251</td>\n",
       "      <td>1</td>\n",
       "    </tr>\n",
       "    <tr>\n",
       "      <th>2005</th>\n",
       "      <td>03/12/2024</td>\n",
       "      <td>10</td>\n",
       "      <td>344697</td>\n",
       "      <td>1</td>\n",
       "    </tr>\n",
       "    <tr>\n",
       "      <th>2004</th>\n",
       "      <td>03/12/2024</td>\n",
       "      <td>10</td>\n",
       "      <td>3445d4</td>\n",
       "      <td>1</td>\n",
       "    </tr>\n",
       "    <tr>\n",
       "      <th>6023</th>\n",
       "      <td>07/12/2024</td>\n",
       "      <td>20</td>\n",
       "      <td>8964c3</td>\n",
       "      <td>1</td>\n",
       "    </tr>\n",
       "  </tbody>\n",
       "</table>\n",
       "<p>6024 rows × 4 columns</p>\n",
       "</div>"
      ],
      "text/plain": [
       "             day  hour    ICAO  OnGround\n",
       "4571  06/12/2024    11  3452c6         2\n",
       "3712  05/12/2024    11  355316         2\n",
       "3192  04/12/2024    14  502c22         2\n",
       "4866  06/12/2024    15  3451da         2\n",
       "2273  03/12/2024    15  34368c         2\n",
       "...          ...   ...     ...       ...\n",
       "2007  03/12/2024    10  345681         1\n",
       "2006  03/12/2024    10  345251         1\n",
       "2005  03/12/2024    10  344697         1\n",
       "2004  03/12/2024    10  3445d4         1\n",
       "6023  07/12/2024    20  8964c3         1\n",
       "\n",
       "[6024 rows x 4 columns]"
      ]
     },
     "execution_count": 30,
     "metadata": {},
     "output_type": "execute_result"
    }
   ],
   "source": [
    "df_11_grouped = df_11.groupby([\"day\", \"hour\", \"ICAO\"])[\"OnGround\"].nunique().reset_index()\n",
    "df_11_grouped.sort_values(by =\"OnGround\", ascending=False)"
   ]
  },
  {
   "cell_type": "code",
   "execution_count": 32,
   "metadata": {},
   "outputs": [
    {
     "data": {
      "text/html": [
       "<div>\n",
       "<style scoped>\n",
       "    .dataframe tbody tr th:only-of-type {\n",
       "        vertical-align: middle;\n",
       "    }\n",
       "\n",
       "    .dataframe tbody tr th {\n",
       "        vertical-align: top;\n",
       "    }\n",
       "\n",
       "    .dataframe thead th {\n",
       "        text-align: right;\n",
       "    }\n",
       "</style>\n",
       "<table border=\"1\" class=\"dataframe\">\n",
       "  <thead>\n",
       "    <tr style=\"text-align: right;\">\n",
       "      <th></th>\n",
       "      <th>day</th>\n",
       "      <th>hour</th>\n",
       "      <th>ICAO</th>\n",
       "      <th>OnGround</th>\n",
       "    </tr>\n",
       "  </thead>\n",
       "  <tbody>\n",
       "    <tr>\n",
       "      <th>0</th>\n",
       "      <td>01/12/2024</td>\n",
       "      <td>0</td>\n",
       "      <td>02012b</td>\n",
       "      <td>0.0</td>\n",
       "    </tr>\n",
       "    <tr>\n",
       "      <th>1</th>\n",
       "      <td>01/12/2024</td>\n",
       "      <td>0</td>\n",
       "      <td>020176</td>\n",
       "      <td>0.0</td>\n",
       "    </tr>\n",
       "    <tr>\n",
       "      <th>2</th>\n",
       "      <td>01/12/2024</td>\n",
       "      <td>0</td>\n",
       "      <td>342352</td>\n",
       "      <td>1.0</td>\n",
       "    </tr>\n",
       "    <tr>\n",
       "      <th>3</th>\n",
       "      <td>01/12/2024</td>\n",
       "      <td>0</td>\n",
       "      <td>342353</td>\n",
       "      <td>1.0</td>\n",
       "    </tr>\n",
       "    <tr>\n",
       "      <th>4</th>\n",
       "      <td>01/12/2024</td>\n",
       "      <td>0</td>\n",
       "      <td>344115</td>\n",
       "      <td>1.0</td>\n",
       "    </tr>\n",
       "    <tr>\n",
       "      <th>...</th>\n",
       "      <td>...</td>\n",
       "      <td>...</td>\n",
       "      <td>...</td>\n",
       "      <td>...</td>\n",
       "    </tr>\n",
       "    <tr>\n",
       "      <th>6034</th>\n",
       "      <td>07/12/2024</td>\n",
       "      <td>20</td>\n",
       "      <td>4d24c4</td>\n",
       "      <td>0.0</td>\n",
       "    </tr>\n",
       "    <tr>\n",
       "      <th>6035</th>\n",
       "      <td>07/12/2024</td>\n",
       "      <td>20</td>\n",
       "      <td>4d2535</td>\n",
       "      <td>0.0</td>\n",
       "    </tr>\n",
       "    <tr>\n",
       "      <th>6036</th>\n",
       "      <td>07/12/2024</td>\n",
       "      <td>20</td>\n",
       "      <td>781ff7</td>\n",
       "      <td>0.0</td>\n",
       "    </tr>\n",
       "    <tr>\n",
       "      <th>6037</th>\n",
       "      <td>07/12/2024</td>\n",
       "      <td>20</td>\n",
       "      <td>89631d</td>\n",
       "      <td>0.0</td>\n",
       "    </tr>\n",
       "    <tr>\n",
       "      <th>6038</th>\n",
       "      <td>07/12/2024</td>\n",
       "      <td>20</td>\n",
       "      <td>8964c3</td>\n",
       "      <td>0.0</td>\n",
       "    </tr>\n",
       "  </tbody>\n",
       "</table>\n",
       "<p>6039 rows × 4 columns</p>\n",
       "</div>"
      ],
      "text/plain": [
       "             day  hour    ICAO OnGround\n",
       "0     01/12/2024     0  02012b      0.0\n",
       "1     01/12/2024     0  020176      0.0\n",
       "2     01/12/2024     0  342352      1.0\n",
       "3     01/12/2024     0  342353      1.0\n",
       "4     01/12/2024     0  344115      1.0\n",
       "...          ...   ...     ...      ...\n",
       "6034  07/12/2024    20  4d24c4      0.0\n",
       "6035  07/12/2024    20  4d2535      0.0\n",
       "6036  07/12/2024    20  781ff7      0.0\n",
       "6037  07/12/2024    20  89631d      0.0\n",
       "6038  07/12/2024    20  8964c3      0.0\n",
       "\n",
       "[6039 rows x 4 columns]"
      ]
     },
     "execution_count": 32,
     "metadata": {},
     "output_type": "execute_result"
    }
   ],
   "source": [
    "df_11_grouped = df_11.groupby([\"day\",\"hour\",\"ICAO\"])[\"OnGround\"].unique().explode().reset_index()\n",
    "df_11_grouped"
   ]
  },
  {
   "cell_type": "code",
   "execution_count": 33,
   "metadata": {},
   "outputs": [
    {
     "data": {
      "text/plain": [
       "0.0    942\n",
       "1.0     31\n",
       "Name: OnGround, dtype: int64"
      ]
     },
     "execution_count": 33,
     "metadata": {},
     "output_type": "execute_result"
    }
   ],
   "source": [
    "days = df_11_grouped[\"day\"].unique()\n",
    "df = df_11_grouped[df_11_grouped[\"day\"] ==days[0]]\n",
    "df[\"OnGround\"].value_counts()"
   ]
  },
  {
   "cell_type": "code",
   "execution_count": 34,
   "metadata": {},
   "outputs": [
    {
     "data": {
      "text/html": [
       "<div>\n",
       "<style scoped>\n",
       "    .dataframe tbody tr th:only-of-type {\n",
       "        vertical-align: middle;\n",
       "    }\n",
       "\n",
       "    .dataframe tbody tr th {\n",
       "        vertical-align: top;\n",
       "    }\n",
       "\n",
       "    .dataframe thead th {\n",
       "        text-align: right;\n",
       "    }\n",
       "</style>\n",
       "<table border=\"1\" class=\"dataframe\">\n",
       "  <thead>\n",
       "    <tr style=\"text-align: right;\">\n",
       "      <th></th>\n",
       "      <th>hour</th>\n",
       "      <th>OnGround</th>\n",
       "      <th>count</th>\n",
       "    </tr>\n",
       "  </thead>\n",
       "  <tbody>\n",
       "    <tr>\n",
       "      <th>0</th>\n",
       "      <td>0</td>\n",
       "      <td>0.0</td>\n",
       "      <td>19</td>\n",
       "    </tr>\n",
       "    <tr>\n",
       "      <th>1</th>\n",
       "      <td>0</td>\n",
       "      <td>1.0</td>\n",
       "      <td>4</td>\n",
       "    </tr>\n",
       "    <tr>\n",
       "      <th>2</th>\n",
       "      <td>7</td>\n",
       "      <td>0.0</td>\n",
       "      <td>106</td>\n",
       "    </tr>\n",
       "    <tr>\n",
       "      <th>3</th>\n",
       "      <td>7</td>\n",
       "      <td>1.0</td>\n",
       "      <td>3</td>\n",
       "    </tr>\n",
       "    <tr>\n",
       "      <th>4</th>\n",
       "      <td>9</td>\n",
       "      <td>0.0</td>\n",
       "      <td>166</td>\n",
       "    </tr>\n",
       "    <tr>\n",
       "      <th>5</th>\n",
       "      <td>9</td>\n",
       "      <td>1.0</td>\n",
       "      <td>4</td>\n",
       "    </tr>\n",
       "    <tr>\n",
       "      <th>6</th>\n",
       "      <td>11</td>\n",
       "      <td>0.0</td>\n",
       "      <td>145</td>\n",
       "    </tr>\n",
       "    <tr>\n",
       "      <th>7</th>\n",
       "      <td>11</td>\n",
       "      <td>1.0</td>\n",
       "      <td>4</td>\n",
       "    </tr>\n",
       "    <tr>\n",
       "      <th>8</th>\n",
       "      <td>13</td>\n",
       "      <td>0.0</td>\n",
       "      <td>132</td>\n",
       "    </tr>\n",
       "    <tr>\n",
       "      <th>9</th>\n",
       "      <td>13</td>\n",
       "      <td>1.0</td>\n",
       "      <td>5</td>\n",
       "    </tr>\n",
       "    <tr>\n",
       "      <th>10</th>\n",
       "      <td>15</td>\n",
       "      <td>0.0</td>\n",
       "      <td>131</td>\n",
       "    </tr>\n",
       "    <tr>\n",
       "      <th>11</th>\n",
       "      <td>15</td>\n",
       "      <td>1.0</td>\n",
       "      <td>3</td>\n",
       "    </tr>\n",
       "    <tr>\n",
       "      <th>12</th>\n",
       "      <td>17</td>\n",
       "      <td>0.0</td>\n",
       "      <td>120</td>\n",
       "    </tr>\n",
       "    <tr>\n",
       "      <th>13</th>\n",
       "      <td>17</td>\n",
       "      <td>1.0</td>\n",
       "      <td>4</td>\n",
       "    </tr>\n",
       "    <tr>\n",
       "      <th>14</th>\n",
       "      <td>19</td>\n",
       "      <td>0.0</td>\n",
       "      <td>123</td>\n",
       "    </tr>\n",
       "    <tr>\n",
       "      <th>15</th>\n",
       "      <td>19</td>\n",
       "      <td>1.0</td>\n",
       "      <td>4</td>\n",
       "    </tr>\n",
       "  </tbody>\n",
       "</table>\n",
       "</div>"
      ],
      "text/plain": [
       "    hour  OnGround  count\n",
       "0      0       0.0     19\n",
       "1      0       1.0      4\n",
       "2      7       0.0    106\n",
       "3      7       1.0      3\n",
       "4      9       0.0    166\n",
       "5      9       1.0      4\n",
       "6     11       0.0    145\n",
       "7     11       1.0      4\n",
       "8     13       0.0    132\n",
       "9     13       1.0      5\n",
       "10    15       0.0    131\n",
       "11    15       1.0      3\n",
       "12    17       0.0    120\n",
       "13    17       1.0      4\n",
       "14    19       0.0    123\n",
       "15    19       1.0      4"
      ]
     },
     "execution_count": 34,
     "metadata": {},
     "output_type": "execute_result"
    }
   ],
   "source": [
    "days = df_11_grouped[\"day\"].unique()\n",
    "df = df_11_grouped[df_11_grouped[\"day\"] ==days[0]]\n",
    "df.groupby([\"hour\",\"OnGround\"])[\"OnGround\"].size().reset_index(name=\"count\")"
   ]
  },
  {
   "cell_type": "code",
   "execution_count": 42,
   "metadata": {},
   "outputs": [
    {
     "name": "stderr",
     "output_type": "stream",
     "text": [
      "/Users/hamzatriki/opt/anaconda3/lib/python3.9/site-packages/pandas/core/dtypes/cast.py:1841: DeprecationWarning:\n",
      "\n",
      "np.find_common_type is deprecated.  Please use `np.result_type` or `np.promote_types`.\n",
      "See https://numpy.org/devdocs/release/1.25.0-notes.html and the docs for more information.  (Deprecated NumPy 1.25)\n",
      "\n"
     ]
    },
    {
     "data": {
      "text/html": [
       "<div>\n",
       "<style scoped>\n",
       "    .dataframe tbody tr th:only-of-type {\n",
       "        vertical-align: middle;\n",
       "    }\n",
       "\n",
       "    .dataframe tbody tr th {\n",
       "        vertical-align: top;\n",
       "    }\n",
       "\n",
       "    .dataframe thead th {\n",
       "        text-align: right;\n",
       "    }\n",
       "</style>\n",
       "<table border=\"1\" class=\"dataframe\">\n",
       "  <thead>\n",
       "    <tr style=\"text-align: right;\">\n",
       "      <th></th>\n",
       "      <th>hour</th>\n",
       "      <th>OnGround</th>\n",
       "      <th>count</th>\n",
       "    </tr>\n",
       "  </thead>\n",
       "  <tbody>\n",
       "    <tr>\n",
       "      <th>0</th>\n",
       "      <td>0</td>\n",
       "      <td>In Air</td>\n",
       "      <td>5</td>\n",
       "    </tr>\n",
       "    <tr>\n",
       "      <th>1</th>\n",
       "      <td>0</td>\n",
       "      <td>On Ground</td>\n",
       "      <td>5</td>\n",
       "    </tr>\n",
       "    <tr>\n",
       "      <th>2</th>\n",
       "      <td>1</td>\n",
       "      <td>In Air</td>\n",
       "      <td>4</td>\n",
       "    </tr>\n",
       "    <tr>\n",
       "      <th>3</th>\n",
       "      <td>1</td>\n",
       "      <td>On Ground</td>\n",
       "      <td>4</td>\n",
       "    </tr>\n",
       "    <tr>\n",
       "      <th>4</th>\n",
       "      <td>7</td>\n",
       "      <td>In Air</td>\n",
       "      <td>120</td>\n",
       "    </tr>\n",
       "    <tr>\n",
       "      <th>5</th>\n",
       "      <td>7</td>\n",
       "      <td>On Ground</td>\n",
       "      <td>4</td>\n",
       "    </tr>\n",
       "    <tr>\n",
       "      <th>6</th>\n",
       "      <td>9</td>\n",
       "      <td>In Air</td>\n",
       "      <td>110</td>\n",
       "    </tr>\n",
       "    <tr>\n",
       "      <th>7</th>\n",
       "      <td>9</td>\n",
       "      <td>On Ground</td>\n",
       "      <td>5</td>\n",
       "    </tr>\n",
       "    <tr>\n",
       "      <th>8</th>\n",
       "      <td>11</td>\n",
       "      <td>In Air</td>\n",
       "      <td>130</td>\n",
       "    </tr>\n",
       "    <tr>\n",
       "      <th>9</th>\n",
       "      <td>11</td>\n",
       "      <td>On Ground</td>\n",
       "      <td>4</td>\n",
       "    </tr>\n",
       "    <tr>\n",
       "      <th>10</th>\n",
       "      <td>14</td>\n",
       "      <td>In Air</td>\n",
       "      <td>131</td>\n",
       "    </tr>\n",
       "    <tr>\n",
       "      <th>11</th>\n",
       "      <td>14</td>\n",
       "      <td>On Ground</td>\n",
       "      <td>4</td>\n",
       "    </tr>\n",
       "    <tr>\n",
       "      <th>12</th>\n",
       "      <td>16</td>\n",
       "      <td>In Air</td>\n",
       "      <td>143</td>\n",
       "    </tr>\n",
       "    <tr>\n",
       "      <th>13</th>\n",
       "      <td>16</td>\n",
       "      <td>On Ground</td>\n",
       "      <td>2</td>\n",
       "    </tr>\n",
       "    <tr>\n",
       "      <th>14</th>\n",
       "      <td>18</td>\n",
       "      <td>In Air</td>\n",
       "      <td>99</td>\n",
       "    </tr>\n",
       "    <tr>\n",
       "      <th>15</th>\n",
       "      <td>18</td>\n",
       "      <td>On Ground</td>\n",
       "      <td>3</td>\n",
       "    </tr>\n",
       "    <tr>\n",
       "      <th>16</th>\n",
       "      <td>20</td>\n",
       "      <td>In Air</td>\n",
       "      <td>96</td>\n",
       "    </tr>\n",
       "    <tr>\n",
       "      <th>17</th>\n",
       "      <td>20</td>\n",
       "      <td>On Ground</td>\n",
       "      <td>3</td>\n",
       "    </tr>\n",
       "  </tbody>\n",
       "</table>\n",
       "</div>"
      ],
      "text/plain": [
       "    hour   OnGround  count\n",
       "0      0     In Air      5\n",
       "1      0  On Ground      5\n",
       "2      1     In Air      4\n",
       "3      1  On Ground      4\n",
       "4      7     In Air    120\n",
       "5      7  On Ground      4\n",
       "6      9     In Air    110\n",
       "7      9  On Ground      5\n",
       "8     11     In Air    130\n",
       "9     11  On Ground      4\n",
       "10    14     In Air    131\n",
       "11    14  On Ground      4\n",
       "12    16     In Air    143\n",
       "13    16  On Ground      2\n",
       "14    18     In Air     99\n",
       "15    18  On Ground      3\n",
       "16    20     In Air     96\n",
       "17    20  On Ground      3"
      ]
     },
     "execution_count": 42,
     "metadata": {},
     "output_type": "execute_result"
    }
   ],
   "source": [
    "df[\"OnGround\"] = df[\"OnGround\"].replace({1: \"On Ground\", 0: \"In Air\"})\n",
    "df"
   ]
  },
  {
   "cell_type": "code",
   "execution_count": 46,
   "metadata": {},
   "outputs": [
    {
     "name": "stdout",
     "output_type": "stream",
     "text": [
      "\u001b[0;31mSignature:\u001b[0m\n",
      "\u001b[0mfig\u001b[0m\u001b[0;34m.\u001b[0m\u001b[0mupdate_xaxes\u001b[0m\u001b[0;34m(\u001b[0m\u001b[0;34m\u001b[0m\n",
      "\u001b[0;34m\u001b[0m    \u001b[0mpatch\u001b[0m\u001b[0;34m=\u001b[0m\u001b[0;32mNone\u001b[0m\u001b[0;34m,\u001b[0m\u001b[0;34m\u001b[0m\n",
      "\u001b[0;34m\u001b[0m    \u001b[0mselector\u001b[0m\u001b[0;34m=\u001b[0m\u001b[0;32mNone\u001b[0m\u001b[0;34m,\u001b[0m\u001b[0;34m\u001b[0m\n",
      "\u001b[0;34m\u001b[0m    \u001b[0moverwrite\u001b[0m\u001b[0;34m=\u001b[0m\u001b[0;32mFalse\u001b[0m\u001b[0;34m,\u001b[0m\u001b[0;34m\u001b[0m\n",
      "\u001b[0;34m\u001b[0m    \u001b[0mrow\u001b[0m\u001b[0;34m=\u001b[0m\u001b[0;32mNone\u001b[0m\u001b[0;34m,\u001b[0m\u001b[0;34m\u001b[0m\n",
      "\u001b[0;34m\u001b[0m    \u001b[0mcol\u001b[0m\u001b[0;34m=\u001b[0m\u001b[0;32mNone\u001b[0m\u001b[0;34m,\u001b[0m\u001b[0;34m\u001b[0m\n",
      "\u001b[0;34m\u001b[0m    \u001b[0;34m**\u001b[0m\u001b[0mkwargs\u001b[0m\u001b[0;34m,\u001b[0m\u001b[0;34m\u001b[0m\n",
      "\u001b[0;34m\u001b[0m\u001b[0;34m)\u001b[0m \u001b[0;34m->\u001b[0m \u001b[0;34m'Figure'\u001b[0m\u001b[0;34m\u001b[0m\u001b[0;34m\u001b[0m\u001b[0m\n",
      "\u001b[0;31mDocstring:\u001b[0m\n",
      "Perform a property update operation on all xaxis objects\n",
      "that satisfy the specified selection criteria\n",
      "\n",
      "Parameters\n",
      "----------\n",
      "patch: dict\n",
      "    Dictionary of property updates to be applied to all\n",
      "    xaxis objects that satisfy the selection criteria.\n",
      "selector: dict, function, or None (default None)\n",
      "    Dict to use as selection criteria.\n",
      "    xaxis objects will be selected if they contain\n",
      "    properties corresponding to all of the dictionary's keys, with\n",
      "    values that exactly match the supplied values. If None\n",
      "    (the default), all xaxis objects are selected. If a\n",
      "    function, it must be a function accepting a single argument and\n",
      "    returning a boolean. The function will be called on each\n",
      "    xaxis and those for which the function returned True will\n",
      "    be in the selection.\n",
      "overwrite: bool\n",
      "    If True, overwrite existing properties. If False, apply updates\n",
      "    to existing properties recursively, preserving existing\n",
      "    properties that are not specified in the update operation.\n",
      "row, col: int or None (default None)\n",
      "    Subplot row and column index of xaxis objects to select.\n",
      "    To select xaxis objects by row and column, the Figure\n",
      "    must have been created using plotly.subplots.make_subplots.\n",
      "    If None (the default), all xaxis objects are selected.\n",
      "**kwargs\n",
      "    Additional property updates to apply to each selected\n",
      "    xaxis object. If a property is specified in\n",
      "    both patch and in **kwargs then the one in **kwargs\n",
      "    takes precedence.\n",
      "Returns\n",
      "-------\n",
      "self\n",
      "    Returns the Figure object that the method was called on\n",
      "\u001b[0;31mFile:\u001b[0m      ~/opt/anaconda3/lib/python3.9/site-packages/plotly/graph_objs/_figure.py\n",
      "\u001b[0;31mType:\u001b[0m      method"
     ]
    }
   ],
   "source": [
    "fig.update_xaxes?"
   ]
  },
  {
   "cell_type": "code",
   "execution_count": 59,
   "metadata": {},
   "outputs": [
    {
     "data": {
      "text/html": [
       "<div>\n",
       "<style scoped>\n",
       "    .dataframe tbody tr th:only-of-type {\n",
       "        vertical-align: middle;\n",
       "    }\n",
       "\n",
       "    .dataframe tbody tr th {\n",
       "        vertical-align: top;\n",
       "    }\n",
       "\n",
       "    .dataframe thead th {\n",
       "        text-align: right;\n",
       "    }\n",
       "</style>\n",
       "<table border=\"1\" class=\"dataframe\">\n",
       "  <thead>\n",
       "    <tr style=\"text-align: right;\">\n",
       "      <th></th>\n",
       "      <th>hour</th>\n",
       "      <th>OnGround</th>\n",
       "      <th>count</th>\n",
       "    </tr>\n",
       "  </thead>\n",
       "  <tbody>\n",
       "    <tr>\n",
       "      <th>0</th>\n",
       "      <td>1</td>\n",
       "      <td>In Air</td>\n",
       "      <td>4.0</td>\n",
       "    </tr>\n",
       "    <tr>\n",
       "      <th>1</th>\n",
       "      <td>1</td>\n",
       "      <td>On Ground</td>\n",
       "      <td>4.0</td>\n",
       "    </tr>\n",
       "    <tr>\n",
       "      <th>2</th>\n",
       "      <td>2</td>\n",
       "      <td>NaN</td>\n",
       "      <td>3.0</td>\n",
       "    </tr>\n",
       "    <tr>\n",
       "      <th>3</th>\n",
       "      <td>3</td>\n",
       "      <td>NaN</td>\n",
       "      <td>3.0</td>\n",
       "    </tr>\n",
       "    <tr>\n",
       "      <th>4</th>\n",
       "      <td>4</td>\n",
       "      <td>NaN</td>\n",
       "      <td>3.0</td>\n",
       "    </tr>\n",
       "    <tr>\n",
       "      <th>5</th>\n",
       "      <td>5</td>\n",
       "      <td>NaN</td>\n",
       "      <td>3.0</td>\n",
       "    </tr>\n",
       "    <tr>\n",
       "      <th>6</th>\n",
       "      <td>6</td>\n",
       "      <td>NaN</td>\n",
       "      <td>3.0</td>\n",
       "    </tr>\n",
       "    <tr>\n",
       "      <th>7</th>\n",
       "      <td>7</td>\n",
       "      <td>In Air</td>\n",
       "      <td>120.0</td>\n",
       "    </tr>\n",
       "    <tr>\n",
       "      <th>8</th>\n",
       "      <td>7</td>\n",
       "      <td>On Ground</td>\n",
       "      <td>4.0</td>\n",
       "    </tr>\n",
       "    <tr>\n",
       "      <th>9</th>\n",
       "      <td>8</td>\n",
       "      <td>NaN</td>\n",
       "      <td>3.0</td>\n",
       "    </tr>\n",
       "    <tr>\n",
       "      <th>10</th>\n",
       "      <td>9</td>\n",
       "      <td>In Air</td>\n",
       "      <td>110.0</td>\n",
       "    </tr>\n",
       "    <tr>\n",
       "      <th>11</th>\n",
       "      <td>9</td>\n",
       "      <td>On Ground</td>\n",
       "      <td>5.0</td>\n",
       "    </tr>\n",
       "    <tr>\n",
       "      <th>12</th>\n",
       "      <td>10</td>\n",
       "      <td>NaN</td>\n",
       "      <td>3.0</td>\n",
       "    </tr>\n",
       "    <tr>\n",
       "      <th>13</th>\n",
       "      <td>11</td>\n",
       "      <td>In Air</td>\n",
       "      <td>130.0</td>\n",
       "    </tr>\n",
       "    <tr>\n",
       "      <th>14</th>\n",
       "      <td>11</td>\n",
       "      <td>On Ground</td>\n",
       "      <td>4.0</td>\n",
       "    </tr>\n",
       "    <tr>\n",
       "      <th>15</th>\n",
       "      <td>12</td>\n",
       "      <td>NaN</td>\n",
       "      <td>3.0</td>\n",
       "    </tr>\n",
       "    <tr>\n",
       "      <th>16</th>\n",
       "      <td>13</td>\n",
       "      <td>NaN</td>\n",
       "      <td>3.0</td>\n",
       "    </tr>\n",
       "    <tr>\n",
       "      <th>17</th>\n",
       "      <td>14</td>\n",
       "      <td>In Air</td>\n",
       "      <td>131.0</td>\n",
       "    </tr>\n",
       "    <tr>\n",
       "      <th>18</th>\n",
       "      <td>14</td>\n",
       "      <td>On Ground</td>\n",
       "      <td>4.0</td>\n",
       "    </tr>\n",
       "    <tr>\n",
       "      <th>19</th>\n",
       "      <td>15</td>\n",
       "      <td>NaN</td>\n",
       "      <td>3.0</td>\n",
       "    </tr>\n",
       "    <tr>\n",
       "      <th>20</th>\n",
       "      <td>16</td>\n",
       "      <td>In Air</td>\n",
       "      <td>143.0</td>\n",
       "    </tr>\n",
       "    <tr>\n",
       "      <th>21</th>\n",
       "      <td>16</td>\n",
       "      <td>On Ground</td>\n",
       "      <td>2.0</td>\n",
       "    </tr>\n",
       "    <tr>\n",
       "      <th>22</th>\n",
       "      <td>17</td>\n",
       "      <td>NaN</td>\n",
       "      <td>3.0</td>\n",
       "    </tr>\n",
       "    <tr>\n",
       "      <th>23</th>\n",
       "      <td>18</td>\n",
       "      <td>In Air</td>\n",
       "      <td>99.0</td>\n",
       "    </tr>\n",
       "    <tr>\n",
       "      <th>24</th>\n",
       "      <td>18</td>\n",
       "      <td>On Ground</td>\n",
       "      <td>3.0</td>\n",
       "    </tr>\n",
       "    <tr>\n",
       "      <th>25</th>\n",
       "      <td>19</td>\n",
       "      <td>NaN</td>\n",
       "      <td>3.0</td>\n",
       "    </tr>\n",
       "    <tr>\n",
       "      <th>26</th>\n",
       "      <td>20</td>\n",
       "      <td>In Air</td>\n",
       "      <td>96.0</td>\n",
       "    </tr>\n",
       "    <tr>\n",
       "      <th>27</th>\n",
       "      <td>20</td>\n",
       "      <td>On Ground</td>\n",
       "      <td>3.0</td>\n",
       "    </tr>\n",
       "    <tr>\n",
       "      <th>28</th>\n",
       "      <td>21</td>\n",
       "      <td>NaN</td>\n",
       "      <td>3.0</td>\n",
       "    </tr>\n",
       "    <tr>\n",
       "      <th>29</th>\n",
       "      <td>22</td>\n",
       "      <td>NaN</td>\n",
       "      <td>3.0</td>\n",
       "    </tr>\n",
       "    <tr>\n",
       "      <th>30</th>\n",
       "      <td>23</td>\n",
       "      <td>NaN</td>\n",
       "      <td>3.0</td>\n",
       "    </tr>\n",
       "    <tr>\n",
       "      <th>31</th>\n",
       "      <td>24</td>\n",
       "      <td>NaN</td>\n",
       "      <td>3.0</td>\n",
       "    </tr>\n",
       "  </tbody>\n",
       "</table>\n",
       "</div>"
      ],
      "text/plain": [
       "    hour   OnGround  count\n",
       "0      1     In Air    4.0\n",
       "1      1  On Ground    4.0\n",
       "2      2        NaN    3.0\n",
       "3      3        NaN    3.0\n",
       "4      4        NaN    3.0\n",
       "5      5        NaN    3.0\n",
       "6      6        NaN    3.0\n",
       "7      7     In Air  120.0\n",
       "8      7  On Ground    4.0\n",
       "9      8        NaN    3.0\n",
       "10     9     In Air  110.0\n",
       "11     9  On Ground    5.0\n",
       "12    10        NaN    3.0\n",
       "13    11     In Air  130.0\n",
       "14    11  On Ground    4.0\n",
       "15    12        NaN    3.0\n",
       "16    13        NaN    3.0\n",
       "17    14     In Air  131.0\n",
       "18    14  On Ground    4.0\n",
       "19    15        NaN    3.0\n",
       "20    16     In Air  143.0\n",
       "21    16  On Ground    2.0\n",
       "22    17        NaN    3.0\n",
       "23    18     In Air   99.0\n",
       "24    18  On Ground    3.0\n",
       "25    19        NaN    3.0\n",
       "26    20     In Air   96.0\n",
       "27    20  On Ground    3.0\n",
       "28    21        NaN    3.0\n",
       "29    22        NaN    3.0\n",
       "30    23        NaN    3.0\n",
       "31    24        NaN    3.0"
      ]
     },
     "execution_count": 59,
     "metadata": {},
     "output_type": "execute_result"
    }
   ],
   "source": [
    "df_full"
   ]
  },
  {
   "cell_type": "code",
   "execution_count": 60,
   "metadata": {},
   "outputs": [
    {
     "data": {
      "application/vnd.plotly.v1+json": {
       "config": {
        "plotlyServerURL": "https://plot.ly"
       },
       "data": [
        {
         "alignmentgroup": "True",
         "hovertemplate": "OnGround=In Air<br>hour=%{x}<br>count=%{y}<extra></extra>",
         "legendgroup": "In Air",
         "marker": {
          "color": "#636efa",
          "pattern": {
           "shape": ""
          }
         },
         "name": "In Air",
         "offsetgroup": "In Air",
         "orientation": "v",
         "showlegend": true,
         "textposition": "auto",
         "type": "bar",
         "x": [
          1,
          7,
          9,
          11,
          14,
          16,
          18,
          20
         ],
         "xaxis": "x",
         "y": [
          4,
          120,
          110,
          130,
          131,
          143,
          99,
          96
         ],
         "yaxis": "y"
        },
        {
         "alignmentgroup": "True",
         "hovertemplate": "OnGround=On Ground<br>hour=%{x}<br>count=%{y}<extra></extra>",
         "legendgroup": "On Ground",
         "marker": {
          "color": "#EF553B",
          "pattern": {
           "shape": ""
          }
         },
         "name": "On Ground",
         "offsetgroup": "On Ground",
         "orientation": "v",
         "showlegend": true,
         "textposition": "auto",
         "type": "bar",
         "x": [
          1,
          7,
          9,
          11,
          14,
          16,
          18,
          20
         ],
         "xaxis": "x",
         "y": [
          4,
          4,
          5,
          4,
          4,
          2,
          3,
          3
         ],
         "yaxis": "y"
        }
       ],
       "layout": {
        "barmode": "relative",
        "legend": {
         "title": {
          "text": "OnGround"
         },
         "tracegroupgap": 0
        },
        "template": {
         "data": {
          "bar": [
           {
            "error_x": {
             "color": "#2a3f5f"
            },
            "error_y": {
             "color": "#2a3f5f"
            },
            "marker": {
             "line": {
              "color": "#E5ECF6",
              "width": 0.5
             },
             "pattern": {
              "fillmode": "overlay",
              "size": 10,
              "solidity": 0.2
             }
            },
            "type": "bar"
           }
          ],
          "barpolar": [
           {
            "marker": {
             "line": {
              "color": "#E5ECF6",
              "width": 0.5
             },
             "pattern": {
              "fillmode": "overlay",
              "size": 10,
              "solidity": 0.2
             }
            },
            "type": "barpolar"
           }
          ],
          "carpet": [
           {
            "aaxis": {
             "endlinecolor": "#2a3f5f",
             "gridcolor": "white",
             "linecolor": "white",
             "minorgridcolor": "white",
             "startlinecolor": "#2a3f5f"
            },
            "baxis": {
             "endlinecolor": "#2a3f5f",
             "gridcolor": "white",
             "linecolor": "white",
             "minorgridcolor": "white",
             "startlinecolor": "#2a3f5f"
            },
            "type": "carpet"
           }
          ],
          "choropleth": [
           {
            "colorbar": {
             "outlinewidth": 0,
             "ticks": ""
            },
            "type": "choropleth"
           }
          ],
          "contour": [
           {
            "colorbar": {
             "outlinewidth": 0,
             "ticks": ""
            },
            "colorscale": [
             [
              0,
              "#0d0887"
             ],
             [
              0.1111111111111111,
              "#46039f"
             ],
             [
              0.2222222222222222,
              "#7201a8"
             ],
             [
              0.3333333333333333,
              "#9c179e"
             ],
             [
              0.4444444444444444,
              "#bd3786"
             ],
             [
              0.5555555555555556,
              "#d8576b"
             ],
             [
              0.6666666666666666,
              "#ed7953"
             ],
             [
              0.7777777777777778,
              "#fb9f3a"
             ],
             [
              0.8888888888888888,
              "#fdca26"
             ],
             [
              1,
              "#f0f921"
             ]
            ],
            "type": "contour"
           }
          ],
          "contourcarpet": [
           {
            "colorbar": {
             "outlinewidth": 0,
             "ticks": ""
            },
            "type": "contourcarpet"
           }
          ],
          "heatmap": [
           {
            "colorbar": {
             "outlinewidth": 0,
             "ticks": ""
            },
            "colorscale": [
             [
              0,
              "#0d0887"
             ],
             [
              0.1111111111111111,
              "#46039f"
             ],
             [
              0.2222222222222222,
              "#7201a8"
             ],
             [
              0.3333333333333333,
              "#9c179e"
             ],
             [
              0.4444444444444444,
              "#bd3786"
             ],
             [
              0.5555555555555556,
              "#d8576b"
             ],
             [
              0.6666666666666666,
              "#ed7953"
             ],
             [
              0.7777777777777778,
              "#fb9f3a"
             ],
             [
              0.8888888888888888,
              "#fdca26"
             ],
             [
              1,
              "#f0f921"
             ]
            ],
            "type": "heatmap"
           }
          ],
          "heatmapgl": [
           {
            "colorbar": {
             "outlinewidth": 0,
             "ticks": ""
            },
            "colorscale": [
             [
              0,
              "#0d0887"
             ],
             [
              0.1111111111111111,
              "#46039f"
             ],
             [
              0.2222222222222222,
              "#7201a8"
             ],
             [
              0.3333333333333333,
              "#9c179e"
             ],
             [
              0.4444444444444444,
              "#bd3786"
             ],
             [
              0.5555555555555556,
              "#d8576b"
             ],
             [
              0.6666666666666666,
              "#ed7953"
             ],
             [
              0.7777777777777778,
              "#fb9f3a"
             ],
             [
              0.8888888888888888,
              "#fdca26"
             ],
             [
              1,
              "#f0f921"
             ]
            ],
            "type": "heatmapgl"
           }
          ],
          "histogram": [
           {
            "marker": {
             "pattern": {
              "fillmode": "overlay",
              "size": 10,
              "solidity": 0.2
             }
            },
            "type": "histogram"
           }
          ],
          "histogram2d": [
           {
            "colorbar": {
             "outlinewidth": 0,
             "ticks": ""
            },
            "colorscale": [
             [
              0,
              "#0d0887"
             ],
             [
              0.1111111111111111,
              "#46039f"
             ],
             [
              0.2222222222222222,
              "#7201a8"
             ],
             [
              0.3333333333333333,
              "#9c179e"
             ],
             [
              0.4444444444444444,
              "#bd3786"
             ],
             [
              0.5555555555555556,
              "#d8576b"
             ],
             [
              0.6666666666666666,
              "#ed7953"
             ],
             [
              0.7777777777777778,
              "#fb9f3a"
             ],
             [
              0.8888888888888888,
              "#fdca26"
             ],
             [
              1,
              "#f0f921"
             ]
            ],
            "type": "histogram2d"
           }
          ],
          "histogram2dcontour": [
           {
            "colorbar": {
             "outlinewidth": 0,
             "ticks": ""
            },
            "colorscale": [
             [
              0,
              "#0d0887"
             ],
             [
              0.1111111111111111,
              "#46039f"
             ],
             [
              0.2222222222222222,
              "#7201a8"
             ],
             [
              0.3333333333333333,
              "#9c179e"
             ],
             [
              0.4444444444444444,
              "#bd3786"
             ],
             [
              0.5555555555555556,
              "#d8576b"
             ],
             [
              0.6666666666666666,
              "#ed7953"
             ],
             [
              0.7777777777777778,
              "#fb9f3a"
             ],
             [
              0.8888888888888888,
              "#fdca26"
             ],
             [
              1,
              "#f0f921"
             ]
            ],
            "type": "histogram2dcontour"
           }
          ],
          "mesh3d": [
           {
            "colorbar": {
             "outlinewidth": 0,
             "ticks": ""
            },
            "type": "mesh3d"
           }
          ],
          "parcoords": [
           {
            "line": {
             "colorbar": {
              "outlinewidth": 0,
              "ticks": ""
             }
            },
            "type": "parcoords"
           }
          ],
          "pie": [
           {
            "automargin": true,
            "type": "pie"
           }
          ],
          "scatter": [
           {
            "fillpattern": {
             "fillmode": "overlay",
             "size": 10,
             "solidity": 0.2
            },
            "type": "scatter"
           }
          ],
          "scatter3d": [
           {
            "line": {
             "colorbar": {
              "outlinewidth": 0,
              "ticks": ""
             }
            },
            "marker": {
             "colorbar": {
              "outlinewidth": 0,
              "ticks": ""
             }
            },
            "type": "scatter3d"
           }
          ],
          "scattercarpet": [
           {
            "marker": {
             "colorbar": {
              "outlinewidth": 0,
              "ticks": ""
             }
            },
            "type": "scattercarpet"
           }
          ],
          "scattergeo": [
           {
            "marker": {
             "colorbar": {
              "outlinewidth": 0,
              "ticks": ""
             }
            },
            "type": "scattergeo"
           }
          ],
          "scattergl": [
           {
            "marker": {
             "colorbar": {
              "outlinewidth": 0,
              "ticks": ""
             }
            },
            "type": "scattergl"
           }
          ],
          "scattermapbox": [
           {
            "marker": {
             "colorbar": {
              "outlinewidth": 0,
              "ticks": ""
             }
            },
            "type": "scattermapbox"
           }
          ],
          "scatterpolar": [
           {
            "marker": {
             "colorbar": {
              "outlinewidth": 0,
              "ticks": ""
             }
            },
            "type": "scatterpolar"
           }
          ],
          "scatterpolargl": [
           {
            "marker": {
             "colorbar": {
              "outlinewidth": 0,
              "ticks": ""
             }
            },
            "type": "scatterpolargl"
           }
          ],
          "scatterternary": [
           {
            "marker": {
             "colorbar": {
              "outlinewidth": 0,
              "ticks": ""
             }
            },
            "type": "scatterternary"
           }
          ],
          "surface": [
           {
            "colorbar": {
             "outlinewidth": 0,
             "ticks": ""
            },
            "colorscale": [
             [
              0,
              "#0d0887"
             ],
             [
              0.1111111111111111,
              "#46039f"
             ],
             [
              0.2222222222222222,
              "#7201a8"
             ],
             [
              0.3333333333333333,
              "#9c179e"
             ],
             [
              0.4444444444444444,
              "#bd3786"
             ],
             [
              0.5555555555555556,
              "#d8576b"
             ],
             [
              0.6666666666666666,
              "#ed7953"
             ],
             [
              0.7777777777777778,
              "#fb9f3a"
             ],
             [
              0.8888888888888888,
              "#fdca26"
             ],
             [
              1,
              "#f0f921"
             ]
            ],
            "type": "surface"
           }
          ],
          "table": [
           {
            "cells": {
             "fill": {
              "color": "#EBF0F8"
             },
             "line": {
              "color": "white"
             }
            },
            "header": {
             "fill": {
              "color": "#C8D4E3"
             },
             "line": {
              "color": "white"
             }
            },
            "type": "table"
           }
          ]
         },
         "layout": {
          "annotationdefaults": {
           "arrowcolor": "#2a3f5f",
           "arrowhead": 0,
           "arrowwidth": 1
          },
          "autotypenumbers": "strict",
          "coloraxis": {
           "colorbar": {
            "outlinewidth": 0,
            "ticks": ""
           }
          },
          "colorscale": {
           "diverging": [
            [
             0,
             "#8e0152"
            ],
            [
             0.1,
             "#c51b7d"
            ],
            [
             0.2,
             "#de77ae"
            ],
            [
             0.3,
             "#f1b6da"
            ],
            [
             0.4,
             "#fde0ef"
            ],
            [
             0.5,
             "#f7f7f7"
            ],
            [
             0.6,
             "#e6f5d0"
            ],
            [
             0.7,
             "#b8e186"
            ],
            [
             0.8,
             "#7fbc41"
            ],
            [
             0.9,
             "#4d9221"
            ],
            [
             1,
             "#276419"
            ]
           ],
           "sequential": [
            [
             0,
             "#0d0887"
            ],
            [
             0.1111111111111111,
             "#46039f"
            ],
            [
             0.2222222222222222,
             "#7201a8"
            ],
            [
             0.3333333333333333,
             "#9c179e"
            ],
            [
             0.4444444444444444,
             "#bd3786"
            ],
            [
             0.5555555555555556,
             "#d8576b"
            ],
            [
             0.6666666666666666,
             "#ed7953"
            ],
            [
             0.7777777777777778,
             "#fb9f3a"
            ],
            [
             0.8888888888888888,
             "#fdca26"
            ],
            [
             1,
             "#f0f921"
            ]
           ],
           "sequentialminus": [
            [
             0,
             "#0d0887"
            ],
            [
             0.1111111111111111,
             "#46039f"
            ],
            [
             0.2222222222222222,
             "#7201a8"
            ],
            [
             0.3333333333333333,
             "#9c179e"
            ],
            [
             0.4444444444444444,
             "#bd3786"
            ],
            [
             0.5555555555555556,
             "#d8576b"
            ],
            [
             0.6666666666666666,
             "#ed7953"
            ],
            [
             0.7777777777777778,
             "#fb9f3a"
            ],
            [
             0.8888888888888888,
             "#fdca26"
            ],
            [
             1,
             "#f0f921"
            ]
           ]
          },
          "colorway": [
           "#636efa",
           "#EF553B",
           "#00cc96",
           "#ab63fa",
           "#FFA15A",
           "#19d3f3",
           "#FF6692",
           "#B6E880",
           "#FF97FF",
           "#FECB52"
          ],
          "font": {
           "color": "#2a3f5f"
          },
          "geo": {
           "bgcolor": "white",
           "lakecolor": "white",
           "landcolor": "#E5ECF6",
           "showlakes": true,
           "showland": true,
           "subunitcolor": "white"
          },
          "hoverlabel": {
           "align": "left"
          },
          "hovermode": "closest",
          "mapbox": {
           "style": "light"
          },
          "paper_bgcolor": "white",
          "plot_bgcolor": "#E5ECF6",
          "polar": {
           "angularaxis": {
            "gridcolor": "white",
            "linecolor": "white",
            "ticks": ""
           },
           "bgcolor": "#E5ECF6",
           "radialaxis": {
            "gridcolor": "white",
            "linecolor": "white",
            "ticks": ""
           }
          },
          "scene": {
           "xaxis": {
            "backgroundcolor": "#E5ECF6",
            "gridcolor": "white",
            "gridwidth": 2,
            "linecolor": "white",
            "showbackground": true,
            "ticks": "",
            "zerolinecolor": "white"
           },
           "yaxis": {
            "backgroundcolor": "#E5ECF6",
            "gridcolor": "white",
            "gridwidth": 2,
            "linecolor": "white",
            "showbackground": true,
            "ticks": "",
            "zerolinecolor": "white"
           },
           "zaxis": {
            "backgroundcolor": "#E5ECF6",
            "gridcolor": "white",
            "gridwidth": 2,
            "linecolor": "white",
            "showbackground": true,
            "ticks": "",
            "zerolinecolor": "white"
           }
          },
          "shapedefaults": {
           "line": {
            "color": "#2a3f5f"
           }
          },
          "ternary": {
           "aaxis": {
            "gridcolor": "white",
            "linecolor": "white",
            "ticks": ""
           },
           "baxis": {
            "gridcolor": "white",
            "linecolor": "white",
            "ticks": ""
           },
           "bgcolor": "#E5ECF6",
           "caxis": {
            "gridcolor": "white",
            "linecolor": "white",
            "ticks": ""
           }
          },
          "title": {
           "x": 0.05
          },
          "xaxis": {
           "automargin": true,
           "gridcolor": "white",
           "linecolor": "white",
           "ticks": "",
           "title": {
            "standoff": 15
           },
           "zerolinecolor": "white",
           "zerolinewidth": 2
          },
          "yaxis": {
           "automargin": true,
           "gridcolor": "white",
           "linecolor": "white",
           "ticks": "",
           "title": {
            "standoff": 15
           },
           "zerolinecolor": "white",
           "zerolinewidth": 2
          }
         }
        },
        "title": {
         "text": "Day 07/12/2024"
        },
        "xaxis": {
         "anchor": "y",
         "domain": [
          0,
          1
         ],
         "title": {
          "text": "hour"
         }
        },
        "yaxis": {
         "anchor": "x",
         "domain": [
          0,
          1
         ],
         "title": {
          "text": "count"
         }
        }
       }
      }
     },
     "metadata": {},
     "output_type": "display_data"
    }
   ],
   "source": [
    "px.bar(df_full, x=\"hour\", y=\"count\", color=\"OnGround\", title=f\"Day {day}\")"
   ]
  },
  {
   "cell_type": "code",
   "execution_count": null,
   "metadata": {},
   "outputs": [
    {
     "name": "stderr",
     "output_type": "stream",
     "text": [
      "/Users/hamzatriki/opt/anaconda3/lib/python3.9/site-packages/pandas/core/dtypes/cast.py:1841: DeprecationWarning:\n",
      "\n",
      "np.find_common_type is deprecated.  Please use `np.result_type` or `np.promote_types`.\n",
      "See https://numpy.org/devdocs/release/1.25.0-notes.html and the docs for more information.  (Deprecated NumPy 1.25)\n",
      "\n"
     ]
    },
    {
     "data": {
      "application/vnd.plotly.v1+json": {
       "config": {
        "plotlyServerURL": "https://plot.ly"
       },
       "data": [
        {
         "alignmentgroup": "True",
         "hovertemplate": "OnGround=In Air<br>hour=%{x}<br>count=%{y}<extra></extra>",
         "legendgroup": "In Air",
         "marker": {
          "color": "#636efa",
          "pattern": {
           "shape": ""
          }
         },
         "name": "In Air",
         "offsetgroup": "In Air",
         "orientation": "v",
         "showlegend": true,
         "textposition": "auto",
         "type": "bar",
         "x": [
          0,
          7,
          9,
          11,
          13,
          15,
          17,
          19
         ],
         "xaxis": "x",
         "y": [
          19,
          106,
          166,
          145,
          132,
          131,
          120,
          123
         ],
         "yaxis": "y"
        },
        {
         "alignmentgroup": "True",
         "hovertemplate": "OnGround=On Ground<br>hour=%{x}<br>count=%{y}<extra></extra>",
         "legendgroup": "On Ground",
         "marker": {
          "color": "#EF553B",
          "pattern": {
           "shape": ""
          }
         },
         "name": "On Ground",
         "offsetgroup": "On Ground",
         "orientation": "v",
         "showlegend": true,
         "textposition": "auto",
         "type": "bar",
         "x": [
          0,
          7,
          9,
          11,
          13,
          15,
          17,
          19
         ],
         "xaxis": "x",
         "y": [
          4,
          3,
          4,
          4,
          5,
          3,
          4,
          4
         ],
         "yaxis": "y"
        }
       ],
       "layout": {
        "barmode": "relative",
        "legend": {
         "title": {
          "text": "OnGround"
         },
         "tracegroupgap": 0
        },
        "template": {
         "data": {
          "bar": [
           {
            "error_x": {
             "color": "#2a3f5f"
            },
            "error_y": {
             "color": "#2a3f5f"
            },
            "marker": {
             "line": {
              "color": "#E5ECF6",
              "width": 0.5
             },
             "pattern": {
              "fillmode": "overlay",
              "size": 10,
              "solidity": 0.2
             }
            },
            "type": "bar"
           }
          ],
          "barpolar": [
           {
            "marker": {
             "line": {
              "color": "#E5ECF6",
              "width": 0.5
             },
             "pattern": {
              "fillmode": "overlay",
              "size": 10,
              "solidity": 0.2
             }
            },
            "type": "barpolar"
           }
          ],
          "carpet": [
           {
            "aaxis": {
             "endlinecolor": "#2a3f5f",
             "gridcolor": "white",
             "linecolor": "white",
             "minorgridcolor": "white",
             "startlinecolor": "#2a3f5f"
            },
            "baxis": {
             "endlinecolor": "#2a3f5f",
             "gridcolor": "white",
             "linecolor": "white",
             "minorgridcolor": "white",
             "startlinecolor": "#2a3f5f"
            },
            "type": "carpet"
           }
          ],
          "choropleth": [
           {
            "colorbar": {
             "outlinewidth": 0,
             "ticks": ""
            },
            "type": "choropleth"
           }
          ],
          "contour": [
           {
            "colorbar": {
             "outlinewidth": 0,
             "ticks": ""
            },
            "colorscale": [
             [
              0,
              "#0d0887"
             ],
             [
              0.1111111111111111,
              "#46039f"
             ],
             [
              0.2222222222222222,
              "#7201a8"
             ],
             [
              0.3333333333333333,
              "#9c179e"
             ],
             [
              0.4444444444444444,
              "#bd3786"
             ],
             [
              0.5555555555555556,
              "#d8576b"
             ],
             [
              0.6666666666666666,
              "#ed7953"
             ],
             [
              0.7777777777777778,
              "#fb9f3a"
             ],
             [
              0.8888888888888888,
              "#fdca26"
             ],
             [
              1,
              "#f0f921"
             ]
            ],
            "type": "contour"
           }
          ],
          "contourcarpet": [
           {
            "colorbar": {
             "outlinewidth": 0,
             "ticks": ""
            },
            "type": "contourcarpet"
           }
          ],
          "heatmap": [
           {
            "colorbar": {
             "outlinewidth": 0,
             "ticks": ""
            },
            "colorscale": [
             [
              0,
              "#0d0887"
             ],
             [
              0.1111111111111111,
              "#46039f"
             ],
             [
              0.2222222222222222,
              "#7201a8"
             ],
             [
              0.3333333333333333,
              "#9c179e"
             ],
             [
              0.4444444444444444,
              "#bd3786"
             ],
             [
              0.5555555555555556,
              "#d8576b"
             ],
             [
              0.6666666666666666,
              "#ed7953"
             ],
             [
              0.7777777777777778,
              "#fb9f3a"
             ],
             [
              0.8888888888888888,
              "#fdca26"
             ],
             [
              1,
              "#f0f921"
             ]
            ],
            "type": "heatmap"
           }
          ],
          "heatmapgl": [
           {
            "colorbar": {
             "outlinewidth": 0,
             "ticks": ""
            },
            "colorscale": [
             [
              0,
              "#0d0887"
             ],
             [
              0.1111111111111111,
              "#46039f"
             ],
             [
              0.2222222222222222,
              "#7201a8"
             ],
             [
              0.3333333333333333,
              "#9c179e"
             ],
             [
              0.4444444444444444,
              "#bd3786"
             ],
             [
              0.5555555555555556,
              "#d8576b"
             ],
             [
              0.6666666666666666,
              "#ed7953"
             ],
             [
              0.7777777777777778,
              "#fb9f3a"
             ],
             [
              0.8888888888888888,
              "#fdca26"
             ],
             [
              1,
              "#f0f921"
             ]
            ],
            "type": "heatmapgl"
           }
          ],
          "histogram": [
           {
            "marker": {
             "pattern": {
              "fillmode": "overlay",
              "size": 10,
              "solidity": 0.2
             }
            },
            "type": "histogram"
           }
          ],
          "histogram2d": [
           {
            "colorbar": {
             "outlinewidth": 0,
             "ticks": ""
            },
            "colorscale": [
             [
              0,
              "#0d0887"
             ],
             [
              0.1111111111111111,
              "#46039f"
             ],
             [
              0.2222222222222222,
              "#7201a8"
             ],
             [
              0.3333333333333333,
              "#9c179e"
             ],
             [
              0.4444444444444444,
              "#bd3786"
             ],
             [
              0.5555555555555556,
              "#d8576b"
             ],
             [
              0.6666666666666666,
              "#ed7953"
             ],
             [
              0.7777777777777778,
              "#fb9f3a"
             ],
             [
              0.8888888888888888,
              "#fdca26"
             ],
             [
              1,
              "#f0f921"
             ]
            ],
            "type": "histogram2d"
           }
          ],
          "histogram2dcontour": [
           {
            "colorbar": {
             "outlinewidth": 0,
             "ticks": ""
            },
            "colorscale": [
             [
              0,
              "#0d0887"
             ],
             [
              0.1111111111111111,
              "#46039f"
             ],
             [
              0.2222222222222222,
              "#7201a8"
             ],
             [
              0.3333333333333333,
              "#9c179e"
             ],
             [
              0.4444444444444444,
              "#bd3786"
             ],
             [
              0.5555555555555556,
              "#d8576b"
             ],
             [
              0.6666666666666666,
              "#ed7953"
             ],
             [
              0.7777777777777778,
              "#fb9f3a"
             ],
             [
              0.8888888888888888,
              "#fdca26"
             ],
             [
              1,
              "#f0f921"
             ]
            ],
            "type": "histogram2dcontour"
           }
          ],
          "mesh3d": [
           {
            "colorbar": {
             "outlinewidth": 0,
             "ticks": ""
            },
            "type": "mesh3d"
           }
          ],
          "parcoords": [
           {
            "line": {
             "colorbar": {
              "outlinewidth": 0,
              "ticks": ""
             }
            },
            "type": "parcoords"
           }
          ],
          "pie": [
           {
            "automargin": true,
            "type": "pie"
           }
          ],
          "scatter": [
           {
            "fillpattern": {
             "fillmode": "overlay",
             "size": 10,
             "solidity": 0.2
            },
            "type": "scatter"
           }
          ],
          "scatter3d": [
           {
            "line": {
             "colorbar": {
              "outlinewidth": 0,
              "ticks": ""
             }
            },
            "marker": {
             "colorbar": {
              "outlinewidth": 0,
              "ticks": ""
             }
            },
            "type": "scatter3d"
           }
          ],
          "scattercarpet": [
           {
            "marker": {
             "colorbar": {
              "outlinewidth": 0,
              "ticks": ""
             }
            },
            "type": "scattercarpet"
           }
          ],
          "scattergeo": [
           {
            "marker": {
             "colorbar": {
              "outlinewidth": 0,
              "ticks": ""
             }
            },
            "type": "scattergeo"
           }
          ],
          "scattergl": [
           {
            "marker": {
             "colorbar": {
              "outlinewidth": 0,
              "ticks": ""
             }
            },
            "type": "scattergl"
           }
          ],
          "scattermapbox": [
           {
            "marker": {
             "colorbar": {
              "outlinewidth": 0,
              "ticks": ""
             }
            },
            "type": "scattermapbox"
           }
          ],
          "scatterpolar": [
           {
            "marker": {
             "colorbar": {
              "outlinewidth": 0,
              "ticks": ""
             }
            },
            "type": "scatterpolar"
           }
          ],
          "scatterpolargl": [
           {
            "marker": {
             "colorbar": {
              "outlinewidth": 0,
              "ticks": ""
             }
            },
            "type": "scatterpolargl"
           }
          ],
          "scatterternary": [
           {
            "marker": {
             "colorbar": {
              "outlinewidth": 0,
              "ticks": ""
             }
            },
            "type": "scatterternary"
           }
          ],
          "surface": [
           {
            "colorbar": {
             "outlinewidth": 0,
             "ticks": ""
            },
            "colorscale": [
             [
              0,
              "#0d0887"
             ],
             [
              0.1111111111111111,
              "#46039f"
             ],
             [
              0.2222222222222222,
              "#7201a8"
             ],
             [
              0.3333333333333333,
              "#9c179e"
             ],
             [
              0.4444444444444444,
              "#bd3786"
             ],
             [
              0.5555555555555556,
              "#d8576b"
             ],
             [
              0.6666666666666666,
              "#ed7953"
             ],
             [
              0.7777777777777778,
              "#fb9f3a"
             ],
             [
              0.8888888888888888,
              "#fdca26"
             ],
             [
              1,
              "#f0f921"
             ]
            ],
            "type": "surface"
           }
          ],
          "table": [
           {
            "cells": {
             "fill": {
              "color": "#EBF0F8"
             },
             "line": {
              "color": "white"
             }
            },
            "header": {
             "fill": {
              "color": "#C8D4E3"
             },
             "line": {
              "color": "white"
             }
            },
            "type": "table"
           }
          ]
         },
         "layout": {
          "annotationdefaults": {
           "arrowcolor": "#2a3f5f",
           "arrowhead": 0,
           "arrowwidth": 1
          },
          "autotypenumbers": "strict",
          "coloraxis": {
           "colorbar": {
            "outlinewidth": 0,
            "ticks": ""
           }
          },
          "colorscale": {
           "diverging": [
            [
             0,
             "#8e0152"
            ],
            [
             0.1,
             "#c51b7d"
            ],
            [
             0.2,
             "#de77ae"
            ],
            [
             0.3,
             "#f1b6da"
            ],
            [
             0.4,
             "#fde0ef"
            ],
            [
             0.5,
             "#f7f7f7"
            ],
            [
             0.6,
             "#e6f5d0"
            ],
            [
             0.7,
             "#b8e186"
            ],
            [
             0.8,
             "#7fbc41"
            ],
            [
             0.9,
             "#4d9221"
            ],
            [
             1,
             "#276419"
            ]
           ],
           "sequential": [
            [
             0,
             "#0d0887"
            ],
            [
             0.1111111111111111,
             "#46039f"
            ],
            [
             0.2222222222222222,
             "#7201a8"
            ],
            [
             0.3333333333333333,
             "#9c179e"
            ],
            [
             0.4444444444444444,
             "#bd3786"
            ],
            [
             0.5555555555555556,
             "#d8576b"
            ],
            [
             0.6666666666666666,
             "#ed7953"
            ],
            [
             0.7777777777777778,
             "#fb9f3a"
            ],
            [
             0.8888888888888888,
             "#fdca26"
            ],
            [
             1,
             "#f0f921"
            ]
           ],
           "sequentialminus": [
            [
             0,
             "#0d0887"
            ],
            [
             0.1111111111111111,
             "#46039f"
            ],
            [
             0.2222222222222222,
             "#7201a8"
            ],
            [
             0.3333333333333333,
             "#9c179e"
            ],
            [
             0.4444444444444444,
             "#bd3786"
            ],
            [
             0.5555555555555556,
             "#d8576b"
            ],
            [
             0.6666666666666666,
             "#ed7953"
            ],
            [
             0.7777777777777778,
             "#fb9f3a"
            ],
            [
             0.8888888888888888,
             "#fdca26"
            ],
            [
             1,
             "#f0f921"
            ]
           ]
          },
          "colorway": [
           "#636efa",
           "#EF553B",
           "#00cc96",
           "#ab63fa",
           "#FFA15A",
           "#19d3f3",
           "#FF6692",
           "#B6E880",
           "#FF97FF",
           "#FECB52"
          ],
          "font": {
           "color": "#2a3f5f"
          },
          "geo": {
           "bgcolor": "white",
           "lakecolor": "white",
           "landcolor": "#E5ECF6",
           "showlakes": true,
           "showland": true,
           "subunitcolor": "white"
          },
          "hoverlabel": {
           "align": "left"
          },
          "hovermode": "closest",
          "mapbox": {
           "style": "light"
          },
          "paper_bgcolor": "white",
          "plot_bgcolor": "#E5ECF6",
          "polar": {
           "angularaxis": {
            "gridcolor": "white",
            "linecolor": "white",
            "ticks": ""
           },
           "bgcolor": "#E5ECF6",
           "radialaxis": {
            "gridcolor": "white",
            "linecolor": "white",
            "ticks": ""
           }
          },
          "scene": {
           "xaxis": {
            "backgroundcolor": "#E5ECF6",
            "gridcolor": "white",
            "gridwidth": 2,
            "linecolor": "white",
            "showbackground": true,
            "ticks": "",
            "zerolinecolor": "white"
           },
           "yaxis": {
            "backgroundcolor": "#E5ECF6",
            "gridcolor": "white",
            "gridwidth": 2,
            "linecolor": "white",
            "showbackground": true,
            "ticks": "",
            "zerolinecolor": "white"
           },
           "zaxis": {
            "backgroundcolor": "#E5ECF6",
            "gridcolor": "white",
            "gridwidth": 2,
            "linecolor": "white",
            "showbackground": true,
            "ticks": "",
            "zerolinecolor": "white"
           }
          },
          "shapedefaults": {
           "line": {
            "color": "#2a3f5f"
           }
          },
          "ternary": {
           "aaxis": {
            "gridcolor": "white",
            "linecolor": "white",
            "ticks": ""
           },
           "baxis": {
            "gridcolor": "white",
            "linecolor": "white",
            "ticks": ""
           },
           "bgcolor": "#E5ECF6",
           "caxis": {
            "gridcolor": "white",
            "linecolor": "white",
            "ticks": ""
           }
          },
          "title": {
           "x": 0.05
          },
          "xaxis": {
           "automargin": true,
           "gridcolor": "white",
           "linecolor": "white",
           "ticks": "",
           "title": {
            "standoff": 15
           },
           "zerolinecolor": "white",
           "zerolinewidth": 2
          },
          "yaxis": {
           "automargin": true,
           "gridcolor": "white",
           "linecolor": "white",
           "ticks": "",
           "title": {
            "standoff": 15
           },
           "zerolinecolor": "white",
           "zerolinewidth": 2
          }
         }
        },
        "title": {
         "text": "Day 01/12/2024"
        },
        "xaxis": {
         "anchor": "y",
         "domain": [
          0,
          1
         ],
         "title": {
          "text": "hour"
         }
        },
        "yaxis": {
         "anchor": "x",
         "domain": [
          0,
          1
         ],
         "title": {
          "text": "count"
         }
        }
       }
      }
     },
     "metadata": {},
     "output_type": "display_data"
    },
    {
     "name": "stderr",
     "output_type": "stream",
     "text": [
      "/Users/hamzatriki/opt/anaconda3/lib/python3.9/site-packages/pandas/core/dtypes/cast.py:1841: DeprecationWarning:\n",
      "\n",
      "np.find_common_type is deprecated.  Please use `np.result_type` or `np.promote_types`.\n",
      "See https://numpy.org/devdocs/release/1.25.0-notes.html and the docs for more information.  (Deprecated NumPy 1.25)\n",
      "\n"
     ]
    },
    {
     "data": {
      "application/vnd.plotly.v1+json": {
       "config": {
        "plotlyServerURL": "https://plot.ly"
       },
       "data": [
        {
         "alignmentgroup": "True",
         "hovertemplate": "OnGround=In Air<br>hour=%{x}<br>count=%{y}<extra></extra>",
         "legendgroup": "In Air",
         "marker": {
          "color": "#636efa",
          "pattern": {
           "shape": ""
          }
         },
         "name": "In Air",
         "offsetgroup": "In Air",
         "orientation": "v",
         "showlegend": true,
         "textposition": "auto",
         "type": "bar",
         "x": [
          7,
          9,
          10,
          12,
          14,
          16,
          18,
          21
         ],
         "xaxis": "x",
         "y": [
          88,
          115,
          101,
          126,
          114,
          112,
          114,
          95
         ],
         "yaxis": "y"
        },
        {
         "alignmentgroup": "True",
         "hovertemplate": "OnGround=On Ground<br>hour=%{x}<br>count=%{y}<extra></extra>",
         "legendgroup": "On Ground",
         "marker": {
          "color": "#EF553B",
          "pattern": {
           "shape": ""
          }
         },
         "name": "On Ground",
         "offsetgroup": "On Ground",
         "orientation": "v",
         "showlegend": true,
         "textposition": "auto",
         "type": "bar",
         "x": [
          7,
          9,
          10,
          12,
          14,
          16,
          18,
          21
         ],
         "xaxis": "x",
         "y": [
          3,
          4,
          2,
          4,
          5,
          3,
          4,
          3
         ],
         "yaxis": "y"
        }
       ],
       "layout": {
        "barmode": "relative",
        "legend": {
         "title": {
          "text": "OnGround"
         },
         "tracegroupgap": 0
        },
        "template": {
         "data": {
          "bar": [
           {
            "error_x": {
             "color": "#2a3f5f"
            },
            "error_y": {
             "color": "#2a3f5f"
            },
            "marker": {
             "line": {
              "color": "#E5ECF6",
              "width": 0.5
             },
             "pattern": {
              "fillmode": "overlay",
              "size": 10,
              "solidity": 0.2
             }
            },
            "type": "bar"
           }
          ],
          "barpolar": [
           {
            "marker": {
             "line": {
              "color": "#E5ECF6",
              "width": 0.5
             },
             "pattern": {
              "fillmode": "overlay",
              "size": 10,
              "solidity": 0.2
             }
            },
            "type": "barpolar"
           }
          ],
          "carpet": [
           {
            "aaxis": {
             "endlinecolor": "#2a3f5f",
             "gridcolor": "white",
             "linecolor": "white",
             "minorgridcolor": "white",
             "startlinecolor": "#2a3f5f"
            },
            "baxis": {
             "endlinecolor": "#2a3f5f",
             "gridcolor": "white",
             "linecolor": "white",
             "minorgridcolor": "white",
             "startlinecolor": "#2a3f5f"
            },
            "type": "carpet"
           }
          ],
          "choropleth": [
           {
            "colorbar": {
             "outlinewidth": 0,
             "ticks": ""
            },
            "type": "choropleth"
           }
          ],
          "contour": [
           {
            "colorbar": {
             "outlinewidth": 0,
             "ticks": ""
            },
            "colorscale": [
             [
              0,
              "#0d0887"
             ],
             [
              0.1111111111111111,
              "#46039f"
             ],
             [
              0.2222222222222222,
              "#7201a8"
             ],
             [
              0.3333333333333333,
              "#9c179e"
             ],
             [
              0.4444444444444444,
              "#bd3786"
             ],
             [
              0.5555555555555556,
              "#d8576b"
             ],
             [
              0.6666666666666666,
              "#ed7953"
             ],
             [
              0.7777777777777778,
              "#fb9f3a"
             ],
             [
              0.8888888888888888,
              "#fdca26"
             ],
             [
              1,
              "#f0f921"
             ]
            ],
            "type": "contour"
           }
          ],
          "contourcarpet": [
           {
            "colorbar": {
             "outlinewidth": 0,
             "ticks": ""
            },
            "type": "contourcarpet"
           }
          ],
          "heatmap": [
           {
            "colorbar": {
             "outlinewidth": 0,
             "ticks": ""
            },
            "colorscale": [
             [
              0,
              "#0d0887"
             ],
             [
              0.1111111111111111,
              "#46039f"
             ],
             [
              0.2222222222222222,
              "#7201a8"
             ],
             [
              0.3333333333333333,
              "#9c179e"
             ],
             [
              0.4444444444444444,
              "#bd3786"
             ],
             [
              0.5555555555555556,
              "#d8576b"
             ],
             [
              0.6666666666666666,
              "#ed7953"
             ],
             [
              0.7777777777777778,
              "#fb9f3a"
             ],
             [
              0.8888888888888888,
              "#fdca26"
             ],
             [
              1,
              "#f0f921"
             ]
            ],
            "type": "heatmap"
           }
          ],
          "heatmapgl": [
           {
            "colorbar": {
             "outlinewidth": 0,
             "ticks": ""
            },
            "colorscale": [
             [
              0,
              "#0d0887"
             ],
             [
              0.1111111111111111,
              "#46039f"
             ],
             [
              0.2222222222222222,
              "#7201a8"
             ],
             [
              0.3333333333333333,
              "#9c179e"
             ],
             [
              0.4444444444444444,
              "#bd3786"
             ],
             [
              0.5555555555555556,
              "#d8576b"
             ],
             [
              0.6666666666666666,
              "#ed7953"
             ],
             [
              0.7777777777777778,
              "#fb9f3a"
             ],
             [
              0.8888888888888888,
              "#fdca26"
             ],
             [
              1,
              "#f0f921"
             ]
            ],
            "type": "heatmapgl"
           }
          ],
          "histogram": [
           {
            "marker": {
             "pattern": {
              "fillmode": "overlay",
              "size": 10,
              "solidity": 0.2
             }
            },
            "type": "histogram"
           }
          ],
          "histogram2d": [
           {
            "colorbar": {
             "outlinewidth": 0,
             "ticks": ""
            },
            "colorscale": [
             [
              0,
              "#0d0887"
             ],
             [
              0.1111111111111111,
              "#46039f"
             ],
             [
              0.2222222222222222,
              "#7201a8"
             ],
             [
              0.3333333333333333,
              "#9c179e"
             ],
             [
              0.4444444444444444,
              "#bd3786"
             ],
             [
              0.5555555555555556,
              "#d8576b"
             ],
             [
              0.6666666666666666,
              "#ed7953"
             ],
             [
              0.7777777777777778,
              "#fb9f3a"
             ],
             [
              0.8888888888888888,
              "#fdca26"
             ],
             [
              1,
              "#f0f921"
             ]
            ],
            "type": "histogram2d"
           }
          ],
          "histogram2dcontour": [
           {
            "colorbar": {
             "outlinewidth": 0,
             "ticks": ""
            },
            "colorscale": [
             [
              0,
              "#0d0887"
             ],
             [
              0.1111111111111111,
              "#46039f"
             ],
             [
              0.2222222222222222,
              "#7201a8"
             ],
             [
              0.3333333333333333,
              "#9c179e"
             ],
             [
              0.4444444444444444,
              "#bd3786"
             ],
             [
              0.5555555555555556,
              "#d8576b"
             ],
             [
              0.6666666666666666,
              "#ed7953"
             ],
             [
              0.7777777777777778,
              "#fb9f3a"
             ],
             [
              0.8888888888888888,
              "#fdca26"
             ],
             [
              1,
              "#f0f921"
             ]
            ],
            "type": "histogram2dcontour"
           }
          ],
          "mesh3d": [
           {
            "colorbar": {
             "outlinewidth": 0,
             "ticks": ""
            },
            "type": "mesh3d"
           }
          ],
          "parcoords": [
           {
            "line": {
             "colorbar": {
              "outlinewidth": 0,
              "ticks": ""
             }
            },
            "type": "parcoords"
           }
          ],
          "pie": [
           {
            "automargin": true,
            "type": "pie"
           }
          ],
          "scatter": [
           {
            "fillpattern": {
             "fillmode": "overlay",
             "size": 10,
             "solidity": 0.2
            },
            "type": "scatter"
           }
          ],
          "scatter3d": [
           {
            "line": {
             "colorbar": {
              "outlinewidth": 0,
              "ticks": ""
             }
            },
            "marker": {
             "colorbar": {
              "outlinewidth": 0,
              "ticks": ""
             }
            },
            "type": "scatter3d"
           }
          ],
          "scattercarpet": [
           {
            "marker": {
             "colorbar": {
              "outlinewidth": 0,
              "ticks": ""
             }
            },
            "type": "scattercarpet"
           }
          ],
          "scattergeo": [
           {
            "marker": {
             "colorbar": {
              "outlinewidth": 0,
              "ticks": ""
             }
            },
            "type": "scattergeo"
           }
          ],
          "scattergl": [
           {
            "marker": {
             "colorbar": {
              "outlinewidth": 0,
              "ticks": ""
             }
            },
            "type": "scattergl"
           }
          ],
          "scattermapbox": [
           {
            "marker": {
             "colorbar": {
              "outlinewidth": 0,
              "ticks": ""
             }
            },
            "type": "scattermapbox"
           }
          ],
          "scatterpolar": [
           {
            "marker": {
             "colorbar": {
              "outlinewidth": 0,
              "ticks": ""
             }
            },
            "type": "scatterpolar"
           }
          ],
          "scatterpolargl": [
           {
            "marker": {
             "colorbar": {
              "outlinewidth": 0,
              "ticks": ""
             }
            },
            "type": "scatterpolargl"
           }
          ],
          "scatterternary": [
           {
            "marker": {
             "colorbar": {
              "outlinewidth": 0,
              "ticks": ""
             }
            },
            "type": "scatterternary"
           }
          ],
          "surface": [
           {
            "colorbar": {
             "outlinewidth": 0,
             "ticks": ""
            },
            "colorscale": [
             [
              0,
              "#0d0887"
             ],
             [
              0.1111111111111111,
              "#46039f"
             ],
             [
              0.2222222222222222,
              "#7201a8"
             ],
             [
              0.3333333333333333,
              "#9c179e"
             ],
             [
              0.4444444444444444,
              "#bd3786"
             ],
             [
              0.5555555555555556,
              "#d8576b"
             ],
             [
              0.6666666666666666,
              "#ed7953"
             ],
             [
              0.7777777777777778,
              "#fb9f3a"
             ],
             [
              0.8888888888888888,
              "#fdca26"
             ],
             [
              1,
              "#f0f921"
             ]
            ],
            "type": "surface"
           }
          ],
          "table": [
           {
            "cells": {
             "fill": {
              "color": "#EBF0F8"
             },
             "line": {
              "color": "white"
             }
            },
            "header": {
             "fill": {
              "color": "#C8D4E3"
             },
             "line": {
              "color": "white"
             }
            },
            "type": "table"
           }
          ]
         },
         "layout": {
          "annotationdefaults": {
           "arrowcolor": "#2a3f5f",
           "arrowhead": 0,
           "arrowwidth": 1
          },
          "autotypenumbers": "strict",
          "coloraxis": {
           "colorbar": {
            "outlinewidth": 0,
            "ticks": ""
           }
          },
          "colorscale": {
           "diverging": [
            [
             0,
             "#8e0152"
            ],
            [
             0.1,
             "#c51b7d"
            ],
            [
             0.2,
             "#de77ae"
            ],
            [
             0.3,
             "#f1b6da"
            ],
            [
             0.4,
             "#fde0ef"
            ],
            [
             0.5,
             "#f7f7f7"
            ],
            [
             0.6,
             "#e6f5d0"
            ],
            [
             0.7,
             "#b8e186"
            ],
            [
             0.8,
             "#7fbc41"
            ],
            [
             0.9,
             "#4d9221"
            ],
            [
             1,
             "#276419"
            ]
           ],
           "sequential": [
            [
             0,
             "#0d0887"
            ],
            [
             0.1111111111111111,
             "#46039f"
            ],
            [
             0.2222222222222222,
             "#7201a8"
            ],
            [
             0.3333333333333333,
             "#9c179e"
            ],
            [
             0.4444444444444444,
             "#bd3786"
            ],
            [
             0.5555555555555556,
             "#d8576b"
            ],
            [
             0.6666666666666666,
             "#ed7953"
            ],
            [
             0.7777777777777778,
             "#fb9f3a"
            ],
            [
             0.8888888888888888,
             "#fdca26"
            ],
            [
             1,
             "#f0f921"
            ]
           ],
           "sequentialminus": [
            [
             0,
             "#0d0887"
            ],
            [
             0.1111111111111111,
             "#46039f"
            ],
            [
             0.2222222222222222,
             "#7201a8"
            ],
            [
             0.3333333333333333,
             "#9c179e"
            ],
            [
             0.4444444444444444,
             "#bd3786"
            ],
            [
             0.5555555555555556,
             "#d8576b"
            ],
            [
             0.6666666666666666,
             "#ed7953"
            ],
            [
             0.7777777777777778,
             "#fb9f3a"
            ],
            [
             0.8888888888888888,
             "#fdca26"
            ],
            [
             1,
             "#f0f921"
            ]
           ]
          },
          "colorway": [
           "#636efa",
           "#EF553B",
           "#00cc96",
           "#ab63fa",
           "#FFA15A",
           "#19d3f3",
           "#FF6692",
           "#B6E880",
           "#FF97FF",
           "#FECB52"
          ],
          "font": {
           "color": "#2a3f5f"
          },
          "geo": {
           "bgcolor": "white",
           "lakecolor": "white",
           "landcolor": "#E5ECF6",
           "showlakes": true,
           "showland": true,
           "subunitcolor": "white"
          },
          "hoverlabel": {
           "align": "left"
          },
          "hovermode": "closest",
          "mapbox": {
           "style": "light"
          },
          "paper_bgcolor": "white",
          "plot_bgcolor": "#E5ECF6",
          "polar": {
           "angularaxis": {
            "gridcolor": "white",
            "linecolor": "white",
            "ticks": ""
           },
           "bgcolor": "#E5ECF6",
           "radialaxis": {
            "gridcolor": "white",
            "linecolor": "white",
            "ticks": ""
           }
          },
          "scene": {
           "xaxis": {
            "backgroundcolor": "#E5ECF6",
            "gridcolor": "white",
            "gridwidth": 2,
            "linecolor": "white",
            "showbackground": true,
            "ticks": "",
            "zerolinecolor": "white"
           },
           "yaxis": {
            "backgroundcolor": "#E5ECF6",
            "gridcolor": "white",
            "gridwidth": 2,
            "linecolor": "white",
            "showbackground": true,
            "ticks": "",
            "zerolinecolor": "white"
           },
           "zaxis": {
            "backgroundcolor": "#E5ECF6",
            "gridcolor": "white",
            "gridwidth": 2,
            "linecolor": "white",
            "showbackground": true,
            "ticks": "",
            "zerolinecolor": "white"
           }
          },
          "shapedefaults": {
           "line": {
            "color": "#2a3f5f"
           }
          },
          "ternary": {
           "aaxis": {
            "gridcolor": "white",
            "linecolor": "white",
            "ticks": ""
           },
           "baxis": {
            "gridcolor": "white",
            "linecolor": "white",
            "ticks": ""
           },
           "bgcolor": "#E5ECF6",
           "caxis": {
            "gridcolor": "white",
            "linecolor": "white",
            "ticks": ""
           }
          },
          "title": {
           "x": 0.05
          },
          "xaxis": {
           "automargin": true,
           "gridcolor": "white",
           "linecolor": "white",
           "ticks": "",
           "title": {
            "standoff": 15
           },
           "zerolinecolor": "white",
           "zerolinewidth": 2
          },
          "yaxis": {
           "automargin": true,
           "gridcolor": "white",
           "linecolor": "white",
           "ticks": "",
           "title": {
            "standoff": 15
           },
           "zerolinecolor": "white",
           "zerolinewidth": 2
          }
         }
        },
        "title": {
         "text": "Day 02/12/2024"
        },
        "xaxis": {
         "anchor": "y",
         "domain": [
          0,
          1
         ],
         "title": {
          "text": "hour"
         }
        },
        "yaxis": {
         "anchor": "x",
         "domain": [
          0,
          1
         ],
         "title": {
          "text": "count"
         }
        }
       }
      }
     },
     "metadata": {},
     "output_type": "display_data"
    },
    {
     "name": "stderr",
     "output_type": "stream",
     "text": [
      "/Users/hamzatriki/opt/anaconda3/lib/python3.9/site-packages/pandas/core/dtypes/cast.py:1841: DeprecationWarning:\n",
      "\n",
      "np.find_common_type is deprecated.  Please use `np.result_type` or `np.promote_types`.\n",
      "See https://numpy.org/devdocs/release/1.25.0-notes.html and the docs for more information.  (Deprecated NumPy 1.25)\n",
      "\n"
     ]
    },
    {
     "data": {
      "application/vnd.plotly.v1+json": {
       "config": {
        "plotlyServerURL": "https://plot.ly"
       },
       "data": [
        {
         "alignmentgroup": "True",
         "hovertemplate": "OnGround=In Air<br>hour=%{x}<br>count=%{y}<extra></extra>",
         "legendgroup": "In Air",
         "marker": {
          "color": "#636efa",
          "pattern": {
           "shape": ""
          }
         },
         "name": "In Air",
         "offsetgroup": "In Air",
         "orientation": "v",
         "showlegend": true,
         "textposition": "auto",
         "type": "bar",
         "x": [
          5,
          8,
          10,
          12,
          15,
          17,
          19
         ],
         "xaxis": "x",
         "y": [
          13,
          99,
          109,
          146,
          112,
          121,
          105
         ],
         "yaxis": "y"
        },
        {
         "alignmentgroup": "True",
         "hovertemplate": "OnGround=On Ground<br>hour=%{x}<br>count=%{y}<extra></extra>",
         "legendgroup": "On Ground",
         "marker": {
          "color": "#EF553B",
          "pattern": {
           "shape": ""
          }
         },
         "name": "On Ground",
         "offsetgroup": "On Ground",
         "orientation": "v",
         "showlegend": true,
         "textposition": "auto",
         "type": "bar",
         "x": [
          5,
          8,
          10,
          12,
          15,
          17,
          19
         ],
         "xaxis": "x",
         "y": [
          6,
          7,
          5,
          8,
          4,
          4,
          4
         ],
         "yaxis": "y"
        }
       ],
       "layout": {
        "barmode": "relative",
        "legend": {
         "title": {
          "text": "OnGround"
         },
         "tracegroupgap": 0
        },
        "template": {
         "data": {
          "bar": [
           {
            "error_x": {
             "color": "#2a3f5f"
            },
            "error_y": {
             "color": "#2a3f5f"
            },
            "marker": {
             "line": {
              "color": "#E5ECF6",
              "width": 0.5
             },
             "pattern": {
              "fillmode": "overlay",
              "size": 10,
              "solidity": 0.2
             }
            },
            "type": "bar"
           }
          ],
          "barpolar": [
           {
            "marker": {
             "line": {
              "color": "#E5ECF6",
              "width": 0.5
             },
             "pattern": {
              "fillmode": "overlay",
              "size": 10,
              "solidity": 0.2
             }
            },
            "type": "barpolar"
           }
          ],
          "carpet": [
           {
            "aaxis": {
             "endlinecolor": "#2a3f5f",
             "gridcolor": "white",
             "linecolor": "white",
             "minorgridcolor": "white",
             "startlinecolor": "#2a3f5f"
            },
            "baxis": {
             "endlinecolor": "#2a3f5f",
             "gridcolor": "white",
             "linecolor": "white",
             "minorgridcolor": "white",
             "startlinecolor": "#2a3f5f"
            },
            "type": "carpet"
           }
          ],
          "choropleth": [
           {
            "colorbar": {
             "outlinewidth": 0,
             "ticks": ""
            },
            "type": "choropleth"
           }
          ],
          "contour": [
           {
            "colorbar": {
             "outlinewidth": 0,
             "ticks": ""
            },
            "colorscale": [
             [
              0,
              "#0d0887"
             ],
             [
              0.1111111111111111,
              "#46039f"
             ],
             [
              0.2222222222222222,
              "#7201a8"
             ],
             [
              0.3333333333333333,
              "#9c179e"
             ],
             [
              0.4444444444444444,
              "#bd3786"
             ],
             [
              0.5555555555555556,
              "#d8576b"
             ],
             [
              0.6666666666666666,
              "#ed7953"
             ],
             [
              0.7777777777777778,
              "#fb9f3a"
             ],
             [
              0.8888888888888888,
              "#fdca26"
             ],
             [
              1,
              "#f0f921"
             ]
            ],
            "type": "contour"
           }
          ],
          "contourcarpet": [
           {
            "colorbar": {
             "outlinewidth": 0,
             "ticks": ""
            },
            "type": "contourcarpet"
           }
          ],
          "heatmap": [
           {
            "colorbar": {
             "outlinewidth": 0,
             "ticks": ""
            },
            "colorscale": [
             [
              0,
              "#0d0887"
             ],
             [
              0.1111111111111111,
              "#46039f"
             ],
             [
              0.2222222222222222,
              "#7201a8"
             ],
             [
              0.3333333333333333,
              "#9c179e"
             ],
             [
              0.4444444444444444,
              "#bd3786"
             ],
             [
              0.5555555555555556,
              "#d8576b"
             ],
             [
              0.6666666666666666,
              "#ed7953"
             ],
             [
              0.7777777777777778,
              "#fb9f3a"
             ],
             [
              0.8888888888888888,
              "#fdca26"
             ],
             [
              1,
              "#f0f921"
             ]
            ],
            "type": "heatmap"
           }
          ],
          "heatmapgl": [
           {
            "colorbar": {
             "outlinewidth": 0,
             "ticks": ""
            },
            "colorscale": [
             [
              0,
              "#0d0887"
             ],
             [
              0.1111111111111111,
              "#46039f"
             ],
             [
              0.2222222222222222,
              "#7201a8"
             ],
             [
              0.3333333333333333,
              "#9c179e"
             ],
             [
              0.4444444444444444,
              "#bd3786"
             ],
             [
              0.5555555555555556,
              "#d8576b"
             ],
             [
              0.6666666666666666,
              "#ed7953"
             ],
             [
              0.7777777777777778,
              "#fb9f3a"
             ],
             [
              0.8888888888888888,
              "#fdca26"
             ],
             [
              1,
              "#f0f921"
             ]
            ],
            "type": "heatmapgl"
           }
          ],
          "histogram": [
           {
            "marker": {
             "pattern": {
              "fillmode": "overlay",
              "size": 10,
              "solidity": 0.2
             }
            },
            "type": "histogram"
           }
          ],
          "histogram2d": [
           {
            "colorbar": {
             "outlinewidth": 0,
             "ticks": ""
            },
            "colorscale": [
             [
              0,
              "#0d0887"
             ],
             [
              0.1111111111111111,
              "#46039f"
             ],
             [
              0.2222222222222222,
              "#7201a8"
             ],
             [
              0.3333333333333333,
              "#9c179e"
             ],
             [
              0.4444444444444444,
              "#bd3786"
             ],
             [
              0.5555555555555556,
              "#d8576b"
             ],
             [
              0.6666666666666666,
              "#ed7953"
             ],
             [
              0.7777777777777778,
              "#fb9f3a"
             ],
             [
              0.8888888888888888,
              "#fdca26"
             ],
             [
              1,
              "#f0f921"
             ]
            ],
            "type": "histogram2d"
           }
          ],
          "histogram2dcontour": [
           {
            "colorbar": {
             "outlinewidth": 0,
             "ticks": ""
            },
            "colorscale": [
             [
              0,
              "#0d0887"
             ],
             [
              0.1111111111111111,
              "#46039f"
             ],
             [
              0.2222222222222222,
              "#7201a8"
             ],
             [
              0.3333333333333333,
              "#9c179e"
             ],
             [
              0.4444444444444444,
              "#bd3786"
             ],
             [
              0.5555555555555556,
              "#d8576b"
             ],
             [
              0.6666666666666666,
              "#ed7953"
             ],
             [
              0.7777777777777778,
              "#fb9f3a"
             ],
             [
              0.8888888888888888,
              "#fdca26"
             ],
             [
              1,
              "#f0f921"
             ]
            ],
            "type": "histogram2dcontour"
           }
          ],
          "mesh3d": [
           {
            "colorbar": {
             "outlinewidth": 0,
             "ticks": ""
            },
            "type": "mesh3d"
           }
          ],
          "parcoords": [
           {
            "line": {
             "colorbar": {
              "outlinewidth": 0,
              "ticks": ""
             }
            },
            "type": "parcoords"
           }
          ],
          "pie": [
           {
            "automargin": true,
            "type": "pie"
           }
          ],
          "scatter": [
           {
            "fillpattern": {
             "fillmode": "overlay",
             "size": 10,
             "solidity": 0.2
            },
            "type": "scatter"
           }
          ],
          "scatter3d": [
           {
            "line": {
             "colorbar": {
              "outlinewidth": 0,
              "ticks": ""
             }
            },
            "marker": {
             "colorbar": {
              "outlinewidth": 0,
              "ticks": ""
             }
            },
            "type": "scatter3d"
           }
          ],
          "scattercarpet": [
           {
            "marker": {
             "colorbar": {
              "outlinewidth": 0,
              "ticks": ""
             }
            },
            "type": "scattercarpet"
           }
          ],
          "scattergeo": [
           {
            "marker": {
             "colorbar": {
              "outlinewidth": 0,
              "ticks": ""
             }
            },
            "type": "scattergeo"
           }
          ],
          "scattergl": [
           {
            "marker": {
             "colorbar": {
              "outlinewidth": 0,
              "ticks": ""
             }
            },
            "type": "scattergl"
           }
          ],
          "scattermapbox": [
           {
            "marker": {
             "colorbar": {
              "outlinewidth": 0,
              "ticks": ""
             }
            },
            "type": "scattermapbox"
           }
          ],
          "scatterpolar": [
           {
            "marker": {
             "colorbar": {
              "outlinewidth": 0,
              "ticks": ""
             }
            },
            "type": "scatterpolar"
           }
          ],
          "scatterpolargl": [
           {
            "marker": {
             "colorbar": {
              "outlinewidth": 0,
              "ticks": ""
             }
            },
            "type": "scatterpolargl"
           }
          ],
          "scatterternary": [
           {
            "marker": {
             "colorbar": {
              "outlinewidth": 0,
              "ticks": ""
             }
            },
            "type": "scatterternary"
           }
          ],
          "surface": [
           {
            "colorbar": {
             "outlinewidth": 0,
             "ticks": ""
            },
            "colorscale": [
             [
              0,
              "#0d0887"
             ],
             [
              0.1111111111111111,
              "#46039f"
             ],
             [
              0.2222222222222222,
              "#7201a8"
             ],
             [
              0.3333333333333333,
              "#9c179e"
             ],
             [
              0.4444444444444444,
              "#bd3786"
             ],
             [
              0.5555555555555556,
              "#d8576b"
             ],
             [
              0.6666666666666666,
              "#ed7953"
             ],
             [
              0.7777777777777778,
              "#fb9f3a"
             ],
             [
              0.8888888888888888,
              "#fdca26"
             ],
             [
              1,
              "#f0f921"
             ]
            ],
            "type": "surface"
           }
          ],
          "table": [
           {
            "cells": {
             "fill": {
              "color": "#EBF0F8"
             },
             "line": {
              "color": "white"
             }
            },
            "header": {
             "fill": {
              "color": "#C8D4E3"
             },
             "line": {
              "color": "white"
             }
            },
            "type": "table"
           }
          ]
         },
         "layout": {
          "annotationdefaults": {
           "arrowcolor": "#2a3f5f",
           "arrowhead": 0,
           "arrowwidth": 1
          },
          "autotypenumbers": "strict",
          "coloraxis": {
           "colorbar": {
            "outlinewidth": 0,
            "ticks": ""
           }
          },
          "colorscale": {
           "diverging": [
            [
             0,
             "#8e0152"
            ],
            [
             0.1,
             "#c51b7d"
            ],
            [
             0.2,
             "#de77ae"
            ],
            [
             0.3,
             "#f1b6da"
            ],
            [
             0.4,
             "#fde0ef"
            ],
            [
             0.5,
             "#f7f7f7"
            ],
            [
             0.6,
             "#e6f5d0"
            ],
            [
             0.7,
             "#b8e186"
            ],
            [
             0.8,
             "#7fbc41"
            ],
            [
             0.9,
             "#4d9221"
            ],
            [
             1,
             "#276419"
            ]
           ],
           "sequential": [
            [
             0,
             "#0d0887"
            ],
            [
             0.1111111111111111,
             "#46039f"
            ],
            [
             0.2222222222222222,
             "#7201a8"
            ],
            [
             0.3333333333333333,
             "#9c179e"
            ],
            [
             0.4444444444444444,
             "#bd3786"
            ],
            [
             0.5555555555555556,
             "#d8576b"
            ],
            [
             0.6666666666666666,
             "#ed7953"
            ],
            [
             0.7777777777777778,
             "#fb9f3a"
            ],
            [
             0.8888888888888888,
             "#fdca26"
            ],
            [
             1,
             "#f0f921"
            ]
           ],
           "sequentialminus": [
            [
             0,
             "#0d0887"
            ],
            [
             0.1111111111111111,
             "#46039f"
            ],
            [
             0.2222222222222222,
             "#7201a8"
            ],
            [
             0.3333333333333333,
             "#9c179e"
            ],
            [
             0.4444444444444444,
             "#bd3786"
            ],
            [
             0.5555555555555556,
             "#d8576b"
            ],
            [
             0.6666666666666666,
             "#ed7953"
            ],
            [
             0.7777777777777778,
             "#fb9f3a"
            ],
            [
             0.8888888888888888,
             "#fdca26"
            ],
            [
             1,
             "#f0f921"
            ]
           ]
          },
          "colorway": [
           "#636efa",
           "#EF553B",
           "#00cc96",
           "#ab63fa",
           "#FFA15A",
           "#19d3f3",
           "#FF6692",
           "#B6E880",
           "#FF97FF",
           "#FECB52"
          ],
          "font": {
           "color": "#2a3f5f"
          },
          "geo": {
           "bgcolor": "white",
           "lakecolor": "white",
           "landcolor": "#E5ECF6",
           "showlakes": true,
           "showland": true,
           "subunitcolor": "white"
          },
          "hoverlabel": {
           "align": "left"
          },
          "hovermode": "closest",
          "mapbox": {
           "style": "light"
          },
          "paper_bgcolor": "white",
          "plot_bgcolor": "#E5ECF6",
          "polar": {
           "angularaxis": {
            "gridcolor": "white",
            "linecolor": "white",
            "ticks": ""
           },
           "bgcolor": "#E5ECF6",
           "radialaxis": {
            "gridcolor": "white",
            "linecolor": "white",
            "ticks": ""
           }
          },
          "scene": {
           "xaxis": {
            "backgroundcolor": "#E5ECF6",
            "gridcolor": "white",
            "gridwidth": 2,
            "linecolor": "white",
            "showbackground": true,
            "ticks": "",
            "zerolinecolor": "white"
           },
           "yaxis": {
            "backgroundcolor": "#E5ECF6",
            "gridcolor": "white",
            "gridwidth": 2,
            "linecolor": "white",
            "showbackground": true,
            "ticks": "",
            "zerolinecolor": "white"
           },
           "zaxis": {
            "backgroundcolor": "#E5ECF6",
            "gridcolor": "white",
            "gridwidth": 2,
            "linecolor": "white",
            "showbackground": true,
            "ticks": "",
            "zerolinecolor": "white"
           }
          },
          "shapedefaults": {
           "line": {
            "color": "#2a3f5f"
           }
          },
          "ternary": {
           "aaxis": {
            "gridcolor": "white",
            "linecolor": "white",
            "ticks": ""
           },
           "baxis": {
            "gridcolor": "white",
            "linecolor": "white",
            "ticks": ""
           },
           "bgcolor": "#E5ECF6",
           "caxis": {
            "gridcolor": "white",
            "linecolor": "white",
            "ticks": ""
           }
          },
          "title": {
           "x": 0.05
          },
          "xaxis": {
           "automargin": true,
           "gridcolor": "white",
           "linecolor": "white",
           "ticks": "",
           "title": {
            "standoff": 15
           },
           "zerolinecolor": "white",
           "zerolinewidth": 2
          },
          "yaxis": {
           "automargin": true,
           "gridcolor": "white",
           "linecolor": "white",
           "ticks": "",
           "title": {
            "standoff": 15
           },
           "zerolinecolor": "white",
           "zerolinewidth": 2
          }
         }
        },
        "title": {
         "text": "Day 03/12/2024"
        },
        "xaxis": {
         "anchor": "y",
         "domain": [
          0,
          1
         ],
         "title": {
          "text": "hour"
         }
        },
        "yaxis": {
         "anchor": "x",
         "domain": [
          0,
          1
         ],
         "title": {
          "text": "count"
         }
        }
       }
      }
     },
     "metadata": {},
     "output_type": "display_data"
    },
    {
     "name": "stderr",
     "output_type": "stream",
     "text": [
      "/Users/hamzatriki/opt/anaconda3/lib/python3.9/site-packages/pandas/core/dtypes/cast.py:1841: DeprecationWarning:\n",
      "\n",
      "np.find_common_type is deprecated.  Please use `np.result_type` or `np.promote_types`.\n",
      "See https://numpy.org/devdocs/release/1.25.0-notes.html and the docs for more information.  (Deprecated NumPy 1.25)\n",
      "\n"
     ]
    },
    {
     "data": {
      "application/vnd.plotly.v1+json": {
       "config": {
        "plotlyServerURL": "https://plot.ly"
       },
       "data": [
        {
         "alignmentgroup": "True",
         "hovertemplate": "OnGround=In Air<br>hour=%{x}<br>count=%{y}<extra></extra>",
         "legendgroup": "In Air",
         "marker": {
          "color": "#636efa",
          "pattern": {
           "shape": ""
          }
         },
         "name": "In Air",
         "offsetgroup": "In Air",
         "orientation": "v",
         "showlegend": true,
         "textposition": "auto",
         "type": "bar",
         "x": [
          0,
          1,
          7,
          9,
          11,
          12,
          14,
          16,
          19,
          21
         ],
         "xaxis": "x",
         "y": [
          5,
          5,
          103,
          121,
          101,
          126,
          106,
          110,
          93,
          61
         ],
         "yaxis": "y"
        },
        {
         "alignmentgroup": "True",
         "hovertemplate": "OnGround=On Ground<br>hour=%{x}<br>count=%{y}<extra></extra>",
         "legendgroup": "On Ground",
         "marker": {
          "color": "#EF553B",
          "pattern": {
           "shape": ""
          }
         },
         "name": "On Ground",
         "offsetgroup": "On Ground",
         "orientation": "v",
         "showlegend": true,
         "textposition": "auto",
         "type": "bar",
         "x": [
          0,
          1,
          7,
          9,
          11,
          12,
          14,
          16,
          19,
          21
         ],
         "xaxis": "x",
         "y": [
          4,
          3,
          6,
          3,
          3,
          3,
          6,
          3,
          4,
          5
         ],
         "yaxis": "y"
        }
       ],
       "layout": {
        "barmode": "relative",
        "legend": {
         "title": {
          "text": "OnGround"
         },
         "tracegroupgap": 0
        },
        "template": {
         "data": {
          "bar": [
           {
            "error_x": {
             "color": "#2a3f5f"
            },
            "error_y": {
             "color": "#2a3f5f"
            },
            "marker": {
             "line": {
              "color": "#E5ECF6",
              "width": 0.5
             },
             "pattern": {
              "fillmode": "overlay",
              "size": 10,
              "solidity": 0.2
             }
            },
            "type": "bar"
           }
          ],
          "barpolar": [
           {
            "marker": {
             "line": {
              "color": "#E5ECF6",
              "width": 0.5
             },
             "pattern": {
              "fillmode": "overlay",
              "size": 10,
              "solidity": 0.2
             }
            },
            "type": "barpolar"
           }
          ],
          "carpet": [
           {
            "aaxis": {
             "endlinecolor": "#2a3f5f",
             "gridcolor": "white",
             "linecolor": "white",
             "minorgridcolor": "white",
             "startlinecolor": "#2a3f5f"
            },
            "baxis": {
             "endlinecolor": "#2a3f5f",
             "gridcolor": "white",
             "linecolor": "white",
             "minorgridcolor": "white",
             "startlinecolor": "#2a3f5f"
            },
            "type": "carpet"
           }
          ],
          "choropleth": [
           {
            "colorbar": {
             "outlinewidth": 0,
             "ticks": ""
            },
            "type": "choropleth"
           }
          ],
          "contour": [
           {
            "colorbar": {
             "outlinewidth": 0,
             "ticks": ""
            },
            "colorscale": [
             [
              0,
              "#0d0887"
             ],
             [
              0.1111111111111111,
              "#46039f"
             ],
             [
              0.2222222222222222,
              "#7201a8"
             ],
             [
              0.3333333333333333,
              "#9c179e"
             ],
             [
              0.4444444444444444,
              "#bd3786"
             ],
             [
              0.5555555555555556,
              "#d8576b"
             ],
             [
              0.6666666666666666,
              "#ed7953"
             ],
             [
              0.7777777777777778,
              "#fb9f3a"
             ],
             [
              0.8888888888888888,
              "#fdca26"
             ],
             [
              1,
              "#f0f921"
             ]
            ],
            "type": "contour"
           }
          ],
          "contourcarpet": [
           {
            "colorbar": {
             "outlinewidth": 0,
             "ticks": ""
            },
            "type": "contourcarpet"
           }
          ],
          "heatmap": [
           {
            "colorbar": {
             "outlinewidth": 0,
             "ticks": ""
            },
            "colorscale": [
             [
              0,
              "#0d0887"
             ],
             [
              0.1111111111111111,
              "#46039f"
             ],
             [
              0.2222222222222222,
              "#7201a8"
             ],
             [
              0.3333333333333333,
              "#9c179e"
             ],
             [
              0.4444444444444444,
              "#bd3786"
             ],
             [
              0.5555555555555556,
              "#d8576b"
             ],
             [
              0.6666666666666666,
              "#ed7953"
             ],
             [
              0.7777777777777778,
              "#fb9f3a"
             ],
             [
              0.8888888888888888,
              "#fdca26"
             ],
             [
              1,
              "#f0f921"
             ]
            ],
            "type": "heatmap"
           }
          ],
          "heatmapgl": [
           {
            "colorbar": {
             "outlinewidth": 0,
             "ticks": ""
            },
            "colorscale": [
             [
              0,
              "#0d0887"
             ],
             [
              0.1111111111111111,
              "#46039f"
             ],
             [
              0.2222222222222222,
              "#7201a8"
             ],
             [
              0.3333333333333333,
              "#9c179e"
             ],
             [
              0.4444444444444444,
              "#bd3786"
             ],
             [
              0.5555555555555556,
              "#d8576b"
             ],
             [
              0.6666666666666666,
              "#ed7953"
             ],
             [
              0.7777777777777778,
              "#fb9f3a"
             ],
             [
              0.8888888888888888,
              "#fdca26"
             ],
             [
              1,
              "#f0f921"
             ]
            ],
            "type": "heatmapgl"
           }
          ],
          "histogram": [
           {
            "marker": {
             "pattern": {
              "fillmode": "overlay",
              "size": 10,
              "solidity": 0.2
             }
            },
            "type": "histogram"
           }
          ],
          "histogram2d": [
           {
            "colorbar": {
             "outlinewidth": 0,
             "ticks": ""
            },
            "colorscale": [
             [
              0,
              "#0d0887"
             ],
             [
              0.1111111111111111,
              "#46039f"
             ],
             [
              0.2222222222222222,
              "#7201a8"
             ],
             [
              0.3333333333333333,
              "#9c179e"
             ],
             [
              0.4444444444444444,
              "#bd3786"
             ],
             [
              0.5555555555555556,
              "#d8576b"
             ],
             [
              0.6666666666666666,
              "#ed7953"
             ],
             [
              0.7777777777777778,
              "#fb9f3a"
             ],
             [
              0.8888888888888888,
              "#fdca26"
             ],
             [
              1,
              "#f0f921"
             ]
            ],
            "type": "histogram2d"
           }
          ],
          "histogram2dcontour": [
           {
            "colorbar": {
             "outlinewidth": 0,
             "ticks": ""
            },
            "colorscale": [
             [
              0,
              "#0d0887"
             ],
             [
              0.1111111111111111,
              "#46039f"
             ],
             [
              0.2222222222222222,
              "#7201a8"
             ],
             [
              0.3333333333333333,
              "#9c179e"
             ],
             [
              0.4444444444444444,
              "#bd3786"
             ],
             [
              0.5555555555555556,
              "#d8576b"
             ],
             [
              0.6666666666666666,
              "#ed7953"
             ],
             [
              0.7777777777777778,
              "#fb9f3a"
             ],
             [
              0.8888888888888888,
              "#fdca26"
             ],
             [
              1,
              "#f0f921"
             ]
            ],
            "type": "histogram2dcontour"
           }
          ],
          "mesh3d": [
           {
            "colorbar": {
             "outlinewidth": 0,
             "ticks": ""
            },
            "type": "mesh3d"
           }
          ],
          "parcoords": [
           {
            "line": {
             "colorbar": {
              "outlinewidth": 0,
              "ticks": ""
             }
            },
            "type": "parcoords"
           }
          ],
          "pie": [
           {
            "automargin": true,
            "type": "pie"
           }
          ],
          "scatter": [
           {
            "fillpattern": {
             "fillmode": "overlay",
             "size": 10,
             "solidity": 0.2
            },
            "type": "scatter"
           }
          ],
          "scatter3d": [
           {
            "line": {
             "colorbar": {
              "outlinewidth": 0,
              "ticks": ""
             }
            },
            "marker": {
             "colorbar": {
              "outlinewidth": 0,
              "ticks": ""
             }
            },
            "type": "scatter3d"
           }
          ],
          "scattercarpet": [
           {
            "marker": {
             "colorbar": {
              "outlinewidth": 0,
              "ticks": ""
             }
            },
            "type": "scattercarpet"
           }
          ],
          "scattergeo": [
           {
            "marker": {
             "colorbar": {
              "outlinewidth": 0,
              "ticks": ""
             }
            },
            "type": "scattergeo"
           }
          ],
          "scattergl": [
           {
            "marker": {
             "colorbar": {
              "outlinewidth": 0,
              "ticks": ""
             }
            },
            "type": "scattergl"
           }
          ],
          "scattermapbox": [
           {
            "marker": {
             "colorbar": {
              "outlinewidth": 0,
              "ticks": ""
             }
            },
            "type": "scattermapbox"
           }
          ],
          "scatterpolar": [
           {
            "marker": {
             "colorbar": {
              "outlinewidth": 0,
              "ticks": ""
             }
            },
            "type": "scatterpolar"
           }
          ],
          "scatterpolargl": [
           {
            "marker": {
             "colorbar": {
              "outlinewidth": 0,
              "ticks": ""
             }
            },
            "type": "scatterpolargl"
           }
          ],
          "scatterternary": [
           {
            "marker": {
             "colorbar": {
              "outlinewidth": 0,
              "ticks": ""
             }
            },
            "type": "scatterternary"
           }
          ],
          "surface": [
           {
            "colorbar": {
             "outlinewidth": 0,
             "ticks": ""
            },
            "colorscale": [
             [
              0,
              "#0d0887"
             ],
             [
              0.1111111111111111,
              "#46039f"
             ],
             [
              0.2222222222222222,
              "#7201a8"
             ],
             [
              0.3333333333333333,
              "#9c179e"
             ],
             [
              0.4444444444444444,
              "#bd3786"
             ],
             [
              0.5555555555555556,
              "#d8576b"
             ],
             [
              0.6666666666666666,
              "#ed7953"
             ],
             [
              0.7777777777777778,
              "#fb9f3a"
             ],
             [
              0.8888888888888888,
              "#fdca26"
             ],
             [
              1,
              "#f0f921"
             ]
            ],
            "type": "surface"
           }
          ],
          "table": [
           {
            "cells": {
             "fill": {
              "color": "#EBF0F8"
             },
             "line": {
              "color": "white"
             }
            },
            "header": {
             "fill": {
              "color": "#C8D4E3"
             },
             "line": {
              "color": "white"
             }
            },
            "type": "table"
           }
          ]
         },
         "layout": {
          "annotationdefaults": {
           "arrowcolor": "#2a3f5f",
           "arrowhead": 0,
           "arrowwidth": 1
          },
          "autotypenumbers": "strict",
          "coloraxis": {
           "colorbar": {
            "outlinewidth": 0,
            "ticks": ""
           }
          },
          "colorscale": {
           "diverging": [
            [
             0,
             "#8e0152"
            ],
            [
             0.1,
             "#c51b7d"
            ],
            [
             0.2,
             "#de77ae"
            ],
            [
             0.3,
             "#f1b6da"
            ],
            [
             0.4,
             "#fde0ef"
            ],
            [
             0.5,
             "#f7f7f7"
            ],
            [
             0.6,
             "#e6f5d0"
            ],
            [
             0.7,
             "#b8e186"
            ],
            [
             0.8,
             "#7fbc41"
            ],
            [
             0.9,
             "#4d9221"
            ],
            [
             1,
             "#276419"
            ]
           ],
           "sequential": [
            [
             0,
             "#0d0887"
            ],
            [
             0.1111111111111111,
             "#46039f"
            ],
            [
             0.2222222222222222,
             "#7201a8"
            ],
            [
             0.3333333333333333,
             "#9c179e"
            ],
            [
             0.4444444444444444,
             "#bd3786"
            ],
            [
             0.5555555555555556,
             "#d8576b"
            ],
            [
             0.6666666666666666,
             "#ed7953"
            ],
            [
             0.7777777777777778,
             "#fb9f3a"
            ],
            [
             0.8888888888888888,
             "#fdca26"
            ],
            [
             1,
             "#f0f921"
            ]
           ],
           "sequentialminus": [
            [
             0,
             "#0d0887"
            ],
            [
             0.1111111111111111,
             "#46039f"
            ],
            [
             0.2222222222222222,
             "#7201a8"
            ],
            [
             0.3333333333333333,
             "#9c179e"
            ],
            [
             0.4444444444444444,
             "#bd3786"
            ],
            [
             0.5555555555555556,
             "#d8576b"
            ],
            [
             0.6666666666666666,
             "#ed7953"
            ],
            [
             0.7777777777777778,
             "#fb9f3a"
            ],
            [
             0.8888888888888888,
             "#fdca26"
            ],
            [
             1,
             "#f0f921"
            ]
           ]
          },
          "colorway": [
           "#636efa",
           "#EF553B",
           "#00cc96",
           "#ab63fa",
           "#FFA15A",
           "#19d3f3",
           "#FF6692",
           "#B6E880",
           "#FF97FF",
           "#FECB52"
          ],
          "font": {
           "color": "#2a3f5f"
          },
          "geo": {
           "bgcolor": "white",
           "lakecolor": "white",
           "landcolor": "#E5ECF6",
           "showlakes": true,
           "showland": true,
           "subunitcolor": "white"
          },
          "hoverlabel": {
           "align": "left"
          },
          "hovermode": "closest",
          "mapbox": {
           "style": "light"
          },
          "paper_bgcolor": "white",
          "plot_bgcolor": "#E5ECF6",
          "polar": {
           "angularaxis": {
            "gridcolor": "white",
            "linecolor": "white",
            "ticks": ""
           },
           "bgcolor": "#E5ECF6",
           "radialaxis": {
            "gridcolor": "white",
            "linecolor": "white",
            "ticks": ""
           }
          },
          "scene": {
           "xaxis": {
            "backgroundcolor": "#E5ECF6",
            "gridcolor": "white",
            "gridwidth": 2,
            "linecolor": "white",
            "showbackground": true,
            "ticks": "",
            "zerolinecolor": "white"
           },
           "yaxis": {
            "backgroundcolor": "#E5ECF6",
            "gridcolor": "white",
            "gridwidth": 2,
            "linecolor": "white",
            "showbackground": true,
            "ticks": "",
            "zerolinecolor": "white"
           },
           "zaxis": {
            "backgroundcolor": "#E5ECF6",
            "gridcolor": "white",
            "gridwidth": 2,
            "linecolor": "white",
            "showbackground": true,
            "ticks": "",
            "zerolinecolor": "white"
           }
          },
          "shapedefaults": {
           "line": {
            "color": "#2a3f5f"
           }
          },
          "ternary": {
           "aaxis": {
            "gridcolor": "white",
            "linecolor": "white",
            "ticks": ""
           },
           "baxis": {
            "gridcolor": "white",
            "linecolor": "white",
            "ticks": ""
           },
           "bgcolor": "#E5ECF6",
           "caxis": {
            "gridcolor": "white",
            "linecolor": "white",
            "ticks": ""
           }
          },
          "title": {
           "x": 0.05
          },
          "xaxis": {
           "automargin": true,
           "gridcolor": "white",
           "linecolor": "white",
           "ticks": "",
           "title": {
            "standoff": 15
           },
           "zerolinecolor": "white",
           "zerolinewidth": 2
          },
          "yaxis": {
           "automargin": true,
           "gridcolor": "white",
           "linecolor": "white",
           "ticks": "",
           "title": {
            "standoff": 15
           },
           "zerolinecolor": "white",
           "zerolinewidth": 2
          }
         }
        },
        "title": {
         "text": "Day 04/12/2024"
        },
        "xaxis": {
         "anchor": "y",
         "domain": [
          0,
          1
         ],
         "title": {
          "text": "hour"
         }
        },
        "yaxis": {
         "anchor": "x",
         "domain": [
          0,
          1
         ],
         "title": {
          "text": "count"
         }
        }
       }
      }
     },
     "metadata": {},
     "output_type": "display_data"
    },
    {
     "name": "stderr",
     "output_type": "stream",
     "text": [
      "/Users/hamzatriki/opt/anaconda3/lib/python3.9/site-packages/pandas/core/dtypes/cast.py:1841: DeprecationWarning:\n",
      "\n",
      "np.find_common_type is deprecated.  Please use `np.result_type` or `np.promote_types`.\n",
      "See https://numpy.org/devdocs/release/1.25.0-notes.html and the docs for more information.  (Deprecated NumPy 1.25)\n",
      "\n"
     ]
    },
    {
     "data": {
      "application/vnd.plotly.v1+json": {
       "config": {
        "plotlyServerURL": "https://plot.ly"
       },
       "data": [
        {
         "alignmentgroup": "True",
         "hovertemplate": "OnGround=In Air<br>hour=%{x}<br>count=%{y}<extra></extra>",
         "legendgroup": "In Air",
         "marker": {
          "color": "#636efa",
          "pattern": {
           "shape": ""
          }
         },
         "name": "In Air",
         "offsetgroup": "In Air",
         "orientation": "v",
         "showlegend": true,
         "textposition": "auto",
         "type": "bar",
         "x": [
          6,
          8,
          11,
          13,
          15,
          17,
          20,
          23
         ],
         "xaxis": "x",
         "y": [
          68,
          114,
          131,
          136,
          117,
          96,
          92,
          28
         ],
         "yaxis": "y"
        },
        {
         "alignmentgroup": "True",
         "hovertemplate": "OnGround=On Ground<br>hour=%{x}<br>count=%{y}<extra></extra>",
         "legendgroup": "On Ground",
         "marker": {
          "color": "#EF553B",
          "pattern": {
           "shape": ""
          }
         },
         "name": "On Ground",
         "offsetgroup": "On Ground",
         "orientation": "v",
         "showlegend": true,
         "textposition": "auto",
         "type": "bar",
         "x": [
          6,
          8,
          11,
          13,
          15,
          17,
          20,
          23
         ],
         "xaxis": "x",
         "y": [
          3,
          6,
          5,
          5,
          4,
          3,
          5,
          3
         ],
         "yaxis": "y"
        }
       ],
       "layout": {
        "barmode": "relative",
        "legend": {
         "title": {
          "text": "OnGround"
         },
         "tracegroupgap": 0
        },
        "template": {
         "data": {
          "bar": [
           {
            "error_x": {
             "color": "#2a3f5f"
            },
            "error_y": {
             "color": "#2a3f5f"
            },
            "marker": {
             "line": {
              "color": "#E5ECF6",
              "width": 0.5
             },
             "pattern": {
              "fillmode": "overlay",
              "size": 10,
              "solidity": 0.2
             }
            },
            "type": "bar"
           }
          ],
          "barpolar": [
           {
            "marker": {
             "line": {
              "color": "#E5ECF6",
              "width": 0.5
             },
             "pattern": {
              "fillmode": "overlay",
              "size": 10,
              "solidity": 0.2
             }
            },
            "type": "barpolar"
           }
          ],
          "carpet": [
           {
            "aaxis": {
             "endlinecolor": "#2a3f5f",
             "gridcolor": "white",
             "linecolor": "white",
             "minorgridcolor": "white",
             "startlinecolor": "#2a3f5f"
            },
            "baxis": {
             "endlinecolor": "#2a3f5f",
             "gridcolor": "white",
             "linecolor": "white",
             "minorgridcolor": "white",
             "startlinecolor": "#2a3f5f"
            },
            "type": "carpet"
           }
          ],
          "choropleth": [
           {
            "colorbar": {
             "outlinewidth": 0,
             "ticks": ""
            },
            "type": "choropleth"
           }
          ],
          "contour": [
           {
            "colorbar": {
             "outlinewidth": 0,
             "ticks": ""
            },
            "colorscale": [
             [
              0,
              "#0d0887"
             ],
             [
              0.1111111111111111,
              "#46039f"
             ],
             [
              0.2222222222222222,
              "#7201a8"
             ],
             [
              0.3333333333333333,
              "#9c179e"
             ],
             [
              0.4444444444444444,
              "#bd3786"
             ],
             [
              0.5555555555555556,
              "#d8576b"
             ],
             [
              0.6666666666666666,
              "#ed7953"
             ],
             [
              0.7777777777777778,
              "#fb9f3a"
             ],
             [
              0.8888888888888888,
              "#fdca26"
             ],
             [
              1,
              "#f0f921"
             ]
            ],
            "type": "contour"
           }
          ],
          "contourcarpet": [
           {
            "colorbar": {
             "outlinewidth": 0,
             "ticks": ""
            },
            "type": "contourcarpet"
           }
          ],
          "heatmap": [
           {
            "colorbar": {
             "outlinewidth": 0,
             "ticks": ""
            },
            "colorscale": [
             [
              0,
              "#0d0887"
             ],
             [
              0.1111111111111111,
              "#46039f"
             ],
             [
              0.2222222222222222,
              "#7201a8"
             ],
             [
              0.3333333333333333,
              "#9c179e"
             ],
             [
              0.4444444444444444,
              "#bd3786"
             ],
             [
              0.5555555555555556,
              "#d8576b"
             ],
             [
              0.6666666666666666,
              "#ed7953"
             ],
             [
              0.7777777777777778,
              "#fb9f3a"
             ],
             [
              0.8888888888888888,
              "#fdca26"
             ],
             [
              1,
              "#f0f921"
             ]
            ],
            "type": "heatmap"
           }
          ],
          "heatmapgl": [
           {
            "colorbar": {
             "outlinewidth": 0,
             "ticks": ""
            },
            "colorscale": [
             [
              0,
              "#0d0887"
             ],
             [
              0.1111111111111111,
              "#46039f"
             ],
             [
              0.2222222222222222,
              "#7201a8"
             ],
             [
              0.3333333333333333,
              "#9c179e"
             ],
             [
              0.4444444444444444,
              "#bd3786"
             ],
             [
              0.5555555555555556,
              "#d8576b"
             ],
             [
              0.6666666666666666,
              "#ed7953"
             ],
             [
              0.7777777777777778,
              "#fb9f3a"
             ],
             [
              0.8888888888888888,
              "#fdca26"
             ],
             [
              1,
              "#f0f921"
             ]
            ],
            "type": "heatmapgl"
           }
          ],
          "histogram": [
           {
            "marker": {
             "pattern": {
              "fillmode": "overlay",
              "size": 10,
              "solidity": 0.2
             }
            },
            "type": "histogram"
           }
          ],
          "histogram2d": [
           {
            "colorbar": {
             "outlinewidth": 0,
             "ticks": ""
            },
            "colorscale": [
             [
              0,
              "#0d0887"
             ],
             [
              0.1111111111111111,
              "#46039f"
             ],
             [
              0.2222222222222222,
              "#7201a8"
             ],
             [
              0.3333333333333333,
              "#9c179e"
             ],
             [
              0.4444444444444444,
              "#bd3786"
             ],
             [
              0.5555555555555556,
              "#d8576b"
             ],
             [
              0.6666666666666666,
              "#ed7953"
             ],
             [
              0.7777777777777778,
              "#fb9f3a"
             ],
             [
              0.8888888888888888,
              "#fdca26"
             ],
             [
              1,
              "#f0f921"
             ]
            ],
            "type": "histogram2d"
           }
          ],
          "histogram2dcontour": [
           {
            "colorbar": {
             "outlinewidth": 0,
             "ticks": ""
            },
            "colorscale": [
             [
              0,
              "#0d0887"
             ],
             [
              0.1111111111111111,
              "#46039f"
             ],
             [
              0.2222222222222222,
              "#7201a8"
             ],
             [
              0.3333333333333333,
              "#9c179e"
             ],
             [
              0.4444444444444444,
              "#bd3786"
             ],
             [
              0.5555555555555556,
              "#d8576b"
             ],
             [
              0.6666666666666666,
              "#ed7953"
             ],
             [
              0.7777777777777778,
              "#fb9f3a"
             ],
             [
              0.8888888888888888,
              "#fdca26"
             ],
             [
              1,
              "#f0f921"
             ]
            ],
            "type": "histogram2dcontour"
           }
          ],
          "mesh3d": [
           {
            "colorbar": {
             "outlinewidth": 0,
             "ticks": ""
            },
            "type": "mesh3d"
           }
          ],
          "parcoords": [
           {
            "line": {
             "colorbar": {
              "outlinewidth": 0,
              "ticks": ""
             }
            },
            "type": "parcoords"
           }
          ],
          "pie": [
           {
            "automargin": true,
            "type": "pie"
           }
          ],
          "scatter": [
           {
            "fillpattern": {
             "fillmode": "overlay",
             "size": 10,
             "solidity": 0.2
            },
            "type": "scatter"
           }
          ],
          "scatter3d": [
           {
            "line": {
             "colorbar": {
              "outlinewidth": 0,
              "ticks": ""
             }
            },
            "marker": {
             "colorbar": {
              "outlinewidth": 0,
              "ticks": ""
             }
            },
            "type": "scatter3d"
           }
          ],
          "scattercarpet": [
           {
            "marker": {
             "colorbar": {
              "outlinewidth": 0,
              "ticks": ""
             }
            },
            "type": "scattercarpet"
           }
          ],
          "scattergeo": [
           {
            "marker": {
             "colorbar": {
              "outlinewidth": 0,
              "ticks": ""
             }
            },
            "type": "scattergeo"
           }
          ],
          "scattergl": [
           {
            "marker": {
             "colorbar": {
              "outlinewidth": 0,
              "ticks": ""
             }
            },
            "type": "scattergl"
           }
          ],
          "scattermapbox": [
           {
            "marker": {
             "colorbar": {
              "outlinewidth": 0,
              "ticks": ""
             }
            },
            "type": "scattermapbox"
           }
          ],
          "scatterpolar": [
           {
            "marker": {
             "colorbar": {
              "outlinewidth": 0,
              "ticks": ""
             }
            },
            "type": "scatterpolar"
           }
          ],
          "scatterpolargl": [
           {
            "marker": {
             "colorbar": {
              "outlinewidth": 0,
              "ticks": ""
             }
            },
            "type": "scatterpolargl"
           }
          ],
          "scatterternary": [
           {
            "marker": {
             "colorbar": {
              "outlinewidth": 0,
              "ticks": ""
             }
            },
            "type": "scatterternary"
           }
          ],
          "surface": [
           {
            "colorbar": {
             "outlinewidth": 0,
             "ticks": ""
            },
            "colorscale": [
             [
              0,
              "#0d0887"
             ],
             [
              0.1111111111111111,
              "#46039f"
             ],
             [
              0.2222222222222222,
              "#7201a8"
             ],
             [
              0.3333333333333333,
              "#9c179e"
             ],
             [
              0.4444444444444444,
              "#bd3786"
             ],
             [
              0.5555555555555556,
              "#d8576b"
             ],
             [
              0.6666666666666666,
              "#ed7953"
             ],
             [
              0.7777777777777778,
              "#fb9f3a"
             ],
             [
              0.8888888888888888,
              "#fdca26"
             ],
             [
              1,
              "#f0f921"
             ]
            ],
            "type": "surface"
           }
          ],
          "table": [
           {
            "cells": {
             "fill": {
              "color": "#EBF0F8"
             },
             "line": {
              "color": "white"
             }
            },
            "header": {
             "fill": {
              "color": "#C8D4E3"
             },
             "line": {
              "color": "white"
             }
            },
            "type": "table"
           }
          ]
         },
         "layout": {
          "annotationdefaults": {
           "arrowcolor": "#2a3f5f",
           "arrowhead": 0,
           "arrowwidth": 1
          },
          "autotypenumbers": "strict",
          "coloraxis": {
           "colorbar": {
            "outlinewidth": 0,
            "ticks": ""
           }
          },
          "colorscale": {
           "diverging": [
            [
             0,
             "#8e0152"
            ],
            [
             0.1,
             "#c51b7d"
            ],
            [
             0.2,
             "#de77ae"
            ],
            [
             0.3,
             "#f1b6da"
            ],
            [
             0.4,
             "#fde0ef"
            ],
            [
             0.5,
             "#f7f7f7"
            ],
            [
             0.6,
             "#e6f5d0"
            ],
            [
             0.7,
             "#b8e186"
            ],
            [
             0.8,
             "#7fbc41"
            ],
            [
             0.9,
             "#4d9221"
            ],
            [
             1,
             "#276419"
            ]
           ],
           "sequential": [
            [
             0,
             "#0d0887"
            ],
            [
             0.1111111111111111,
             "#46039f"
            ],
            [
             0.2222222222222222,
             "#7201a8"
            ],
            [
             0.3333333333333333,
             "#9c179e"
            ],
            [
             0.4444444444444444,
             "#bd3786"
            ],
            [
             0.5555555555555556,
             "#d8576b"
            ],
            [
             0.6666666666666666,
             "#ed7953"
            ],
            [
             0.7777777777777778,
             "#fb9f3a"
            ],
            [
             0.8888888888888888,
             "#fdca26"
            ],
            [
             1,
             "#f0f921"
            ]
           ],
           "sequentialminus": [
            [
             0,
             "#0d0887"
            ],
            [
             0.1111111111111111,
             "#46039f"
            ],
            [
             0.2222222222222222,
             "#7201a8"
            ],
            [
             0.3333333333333333,
             "#9c179e"
            ],
            [
             0.4444444444444444,
             "#bd3786"
            ],
            [
             0.5555555555555556,
             "#d8576b"
            ],
            [
             0.6666666666666666,
             "#ed7953"
            ],
            [
             0.7777777777777778,
             "#fb9f3a"
            ],
            [
             0.8888888888888888,
             "#fdca26"
            ],
            [
             1,
             "#f0f921"
            ]
           ]
          },
          "colorway": [
           "#636efa",
           "#EF553B",
           "#00cc96",
           "#ab63fa",
           "#FFA15A",
           "#19d3f3",
           "#FF6692",
           "#B6E880",
           "#FF97FF",
           "#FECB52"
          ],
          "font": {
           "color": "#2a3f5f"
          },
          "geo": {
           "bgcolor": "white",
           "lakecolor": "white",
           "landcolor": "#E5ECF6",
           "showlakes": true,
           "showland": true,
           "subunitcolor": "white"
          },
          "hoverlabel": {
           "align": "left"
          },
          "hovermode": "closest",
          "mapbox": {
           "style": "light"
          },
          "paper_bgcolor": "white",
          "plot_bgcolor": "#E5ECF6",
          "polar": {
           "angularaxis": {
            "gridcolor": "white",
            "linecolor": "white",
            "ticks": ""
           },
           "bgcolor": "#E5ECF6",
           "radialaxis": {
            "gridcolor": "white",
            "linecolor": "white",
            "ticks": ""
           }
          },
          "scene": {
           "xaxis": {
            "backgroundcolor": "#E5ECF6",
            "gridcolor": "white",
            "gridwidth": 2,
            "linecolor": "white",
            "showbackground": true,
            "ticks": "",
            "zerolinecolor": "white"
           },
           "yaxis": {
            "backgroundcolor": "#E5ECF6",
            "gridcolor": "white",
            "gridwidth": 2,
            "linecolor": "white",
            "showbackground": true,
            "ticks": "",
            "zerolinecolor": "white"
           },
           "zaxis": {
            "backgroundcolor": "#E5ECF6",
            "gridcolor": "white",
            "gridwidth": 2,
            "linecolor": "white",
            "showbackground": true,
            "ticks": "",
            "zerolinecolor": "white"
           }
          },
          "shapedefaults": {
           "line": {
            "color": "#2a3f5f"
           }
          },
          "ternary": {
           "aaxis": {
            "gridcolor": "white",
            "linecolor": "white",
            "ticks": ""
           },
           "baxis": {
            "gridcolor": "white",
            "linecolor": "white",
            "ticks": ""
           },
           "bgcolor": "#E5ECF6",
           "caxis": {
            "gridcolor": "white",
            "linecolor": "white",
            "ticks": ""
           }
          },
          "title": {
           "x": 0.05
          },
          "xaxis": {
           "automargin": true,
           "gridcolor": "white",
           "linecolor": "white",
           "ticks": "",
           "title": {
            "standoff": 15
           },
           "zerolinecolor": "white",
           "zerolinewidth": 2
          },
          "yaxis": {
           "automargin": true,
           "gridcolor": "white",
           "linecolor": "white",
           "ticks": "",
           "title": {
            "standoff": 15
           },
           "zerolinecolor": "white",
           "zerolinewidth": 2
          }
         }
        },
        "title": {
         "text": "Day 05/12/2024"
        },
        "xaxis": {
         "anchor": "y",
         "domain": [
          0,
          1
         ],
         "title": {
          "text": "hour"
         }
        },
        "yaxis": {
         "anchor": "x",
         "domain": [
          0,
          1
         ],
         "title": {
          "text": "count"
         }
        }
       }
      }
     },
     "metadata": {},
     "output_type": "display_data"
    },
    {
     "name": "stderr",
     "output_type": "stream",
     "text": [
      "/Users/hamzatriki/opt/anaconda3/lib/python3.9/site-packages/pandas/core/dtypes/cast.py:1841: DeprecationWarning:\n",
      "\n",
      "np.find_common_type is deprecated.  Please use `np.result_type` or `np.promote_types`.\n",
      "See https://numpy.org/devdocs/release/1.25.0-notes.html and the docs for more information.  (Deprecated NumPy 1.25)\n",
      "\n"
     ]
    },
    {
     "data": {
      "application/vnd.plotly.v1+json": {
       "config": {
        "plotlyServerURL": "https://plot.ly"
       },
       "data": [
        {
         "alignmentgroup": "True",
         "hovertemplate": "OnGround=In Air<br>hour=%{x}<br>count=%{y}<extra></extra>",
         "legendgroup": "In Air",
         "marker": {
          "color": "#636efa",
          "pattern": {
           "shape": ""
          }
         },
         "name": "In Air",
         "offsetgroup": "In Air",
         "orientation": "v",
         "showlegend": true,
         "textposition": "auto",
         "type": "bar",
         "x": [
          7,
          9,
          11,
          13,
          15,
          18,
          20
         ],
         "xaxis": "x",
         "y": [
          107,
          141,
          145,
          147,
          117,
          94,
          91
         ],
         "yaxis": "y"
        },
        {
         "alignmentgroup": "True",
         "hovertemplate": "OnGround=On Ground<br>hour=%{x}<br>count=%{y}<extra></extra>",
         "legendgroup": "On Ground",
         "marker": {
          "color": "#EF553B",
          "pattern": {
           "shape": ""
          }
         },
         "name": "On Ground",
         "offsetgroup": "On Ground",
         "orientation": "v",
         "showlegend": true,
         "textposition": "auto",
         "type": "bar",
         "x": [
          7,
          9,
          11,
          13,
          15,
          18,
          20
         ],
         "xaxis": "x",
         "y": [
          5,
          5,
          6,
          2,
          4,
          3,
          4
         ],
         "yaxis": "y"
        }
       ],
       "layout": {
        "barmode": "relative",
        "legend": {
         "title": {
          "text": "OnGround"
         },
         "tracegroupgap": 0
        },
        "template": {
         "data": {
          "bar": [
           {
            "error_x": {
             "color": "#2a3f5f"
            },
            "error_y": {
             "color": "#2a3f5f"
            },
            "marker": {
             "line": {
              "color": "#E5ECF6",
              "width": 0.5
             },
             "pattern": {
              "fillmode": "overlay",
              "size": 10,
              "solidity": 0.2
             }
            },
            "type": "bar"
           }
          ],
          "barpolar": [
           {
            "marker": {
             "line": {
              "color": "#E5ECF6",
              "width": 0.5
             },
             "pattern": {
              "fillmode": "overlay",
              "size": 10,
              "solidity": 0.2
             }
            },
            "type": "barpolar"
           }
          ],
          "carpet": [
           {
            "aaxis": {
             "endlinecolor": "#2a3f5f",
             "gridcolor": "white",
             "linecolor": "white",
             "minorgridcolor": "white",
             "startlinecolor": "#2a3f5f"
            },
            "baxis": {
             "endlinecolor": "#2a3f5f",
             "gridcolor": "white",
             "linecolor": "white",
             "minorgridcolor": "white",
             "startlinecolor": "#2a3f5f"
            },
            "type": "carpet"
           }
          ],
          "choropleth": [
           {
            "colorbar": {
             "outlinewidth": 0,
             "ticks": ""
            },
            "type": "choropleth"
           }
          ],
          "contour": [
           {
            "colorbar": {
             "outlinewidth": 0,
             "ticks": ""
            },
            "colorscale": [
             [
              0,
              "#0d0887"
             ],
             [
              0.1111111111111111,
              "#46039f"
             ],
             [
              0.2222222222222222,
              "#7201a8"
             ],
             [
              0.3333333333333333,
              "#9c179e"
             ],
             [
              0.4444444444444444,
              "#bd3786"
             ],
             [
              0.5555555555555556,
              "#d8576b"
             ],
             [
              0.6666666666666666,
              "#ed7953"
             ],
             [
              0.7777777777777778,
              "#fb9f3a"
             ],
             [
              0.8888888888888888,
              "#fdca26"
             ],
             [
              1,
              "#f0f921"
             ]
            ],
            "type": "contour"
           }
          ],
          "contourcarpet": [
           {
            "colorbar": {
             "outlinewidth": 0,
             "ticks": ""
            },
            "type": "contourcarpet"
           }
          ],
          "heatmap": [
           {
            "colorbar": {
             "outlinewidth": 0,
             "ticks": ""
            },
            "colorscale": [
             [
              0,
              "#0d0887"
             ],
             [
              0.1111111111111111,
              "#46039f"
             ],
             [
              0.2222222222222222,
              "#7201a8"
             ],
             [
              0.3333333333333333,
              "#9c179e"
             ],
             [
              0.4444444444444444,
              "#bd3786"
             ],
             [
              0.5555555555555556,
              "#d8576b"
             ],
             [
              0.6666666666666666,
              "#ed7953"
             ],
             [
              0.7777777777777778,
              "#fb9f3a"
             ],
             [
              0.8888888888888888,
              "#fdca26"
             ],
             [
              1,
              "#f0f921"
             ]
            ],
            "type": "heatmap"
           }
          ],
          "heatmapgl": [
           {
            "colorbar": {
             "outlinewidth": 0,
             "ticks": ""
            },
            "colorscale": [
             [
              0,
              "#0d0887"
             ],
             [
              0.1111111111111111,
              "#46039f"
             ],
             [
              0.2222222222222222,
              "#7201a8"
             ],
             [
              0.3333333333333333,
              "#9c179e"
             ],
             [
              0.4444444444444444,
              "#bd3786"
             ],
             [
              0.5555555555555556,
              "#d8576b"
             ],
             [
              0.6666666666666666,
              "#ed7953"
             ],
             [
              0.7777777777777778,
              "#fb9f3a"
             ],
             [
              0.8888888888888888,
              "#fdca26"
             ],
             [
              1,
              "#f0f921"
             ]
            ],
            "type": "heatmapgl"
           }
          ],
          "histogram": [
           {
            "marker": {
             "pattern": {
              "fillmode": "overlay",
              "size": 10,
              "solidity": 0.2
             }
            },
            "type": "histogram"
           }
          ],
          "histogram2d": [
           {
            "colorbar": {
             "outlinewidth": 0,
             "ticks": ""
            },
            "colorscale": [
             [
              0,
              "#0d0887"
             ],
             [
              0.1111111111111111,
              "#46039f"
             ],
             [
              0.2222222222222222,
              "#7201a8"
             ],
             [
              0.3333333333333333,
              "#9c179e"
             ],
             [
              0.4444444444444444,
              "#bd3786"
             ],
             [
              0.5555555555555556,
              "#d8576b"
             ],
             [
              0.6666666666666666,
              "#ed7953"
             ],
             [
              0.7777777777777778,
              "#fb9f3a"
             ],
             [
              0.8888888888888888,
              "#fdca26"
             ],
             [
              1,
              "#f0f921"
             ]
            ],
            "type": "histogram2d"
           }
          ],
          "histogram2dcontour": [
           {
            "colorbar": {
             "outlinewidth": 0,
             "ticks": ""
            },
            "colorscale": [
             [
              0,
              "#0d0887"
             ],
             [
              0.1111111111111111,
              "#46039f"
             ],
             [
              0.2222222222222222,
              "#7201a8"
             ],
             [
              0.3333333333333333,
              "#9c179e"
             ],
             [
              0.4444444444444444,
              "#bd3786"
             ],
             [
              0.5555555555555556,
              "#d8576b"
             ],
             [
              0.6666666666666666,
              "#ed7953"
             ],
             [
              0.7777777777777778,
              "#fb9f3a"
             ],
             [
              0.8888888888888888,
              "#fdca26"
             ],
             [
              1,
              "#f0f921"
             ]
            ],
            "type": "histogram2dcontour"
           }
          ],
          "mesh3d": [
           {
            "colorbar": {
             "outlinewidth": 0,
             "ticks": ""
            },
            "type": "mesh3d"
           }
          ],
          "parcoords": [
           {
            "line": {
             "colorbar": {
              "outlinewidth": 0,
              "ticks": ""
             }
            },
            "type": "parcoords"
           }
          ],
          "pie": [
           {
            "automargin": true,
            "type": "pie"
           }
          ],
          "scatter": [
           {
            "fillpattern": {
             "fillmode": "overlay",
             "size": 10,
             "solidity": 0.2
            },
            "type": "scatter"
           }
          ],
          "scatter3d": [
           {
            "line": {
             "colorbar": {
              "outlinewidth": 0,
              "ticks": ""
             }
            },
            "marker": {
             "colorbar": {
              "outlinewidth": 0,
              "ticks": ""
             }
            },
            "type": "scatter3d"
           }
          ],
          "scattercarpet": [
           {
            "marker": {
             "colorbar": {
              "outlinewidth": 0,
              "ticks": ""
             }
            },
            "type": "scattercarpet"
           }
          ],
          "scattergeo": [
           {
            "marker": {
             "colorbar": {
              "outlinewidth": 0,
              "ticks": ""
             }
            },
            "type": "scattergeo"
           }
          ],
          "scattergl": [
           {
            "marker": {
             "colorbar": {
              "outlinewidth": 0,
              "ticks": ""
             }
            },
            "type": "scattergl"
           }
          ],
          "scattermapbox": [
           {
            "marker": {
             "colorbar": {
              "outlinewidth": 0,
              "ticks": ""
             }
            },
            "type": "scattermapbox"
           }
          ],
          "scatterpolar": [
           {
            "marker": {
             "colorbar": {
              "outlinewidth": 0,
              "ticks": ""
             }
            },
            "type": "scatterpolar"
           }
          ],
          "scatterpolargl": [
           {
            "marker": {
             "colorbar": {
              "outlinewidth": 0,
              "ticks": ""
             }
            },
            "type": "scatterpolargl"
           }
          ],
          "scatterternary": [
           {
            "marker": {
             "colorbar": {
              "outlinewidth": 0,
              "ticks": ""
             }
            },
            "type": "scatterternary"
           }
          ],
          "surface": [
           {
            "colorbar": {
             "outlinewidth": 0,
             "ticks": ""
            },
            "colorscale": [
             [
              0,
              "#0d0887"
             ],
             [
              0.1111111111111111,
              "#46039f"
             ],
             [
              0.2222222222222222,
              "#7201a8"
             ],
             [
              0.3333333333333333,
              "#9c179e"
             ],
             [
              0.4444444444444444,
              "#bd3786"
             ],
             [
              0.5555555555555556,
              "#d8576b"
             ],
             [
              0.6666666666666666,
              "#ed7953"
             ],
             [
              0.7777777777777778,
              "#fb9f3a"
             ],
             [
              0.8888888888888888,
              "#fdca26"
             ],
             [
              1,
              "#f0f921"
             ]
            ],
            "type": "surface"
           }
          ],
          "table": [
           {
            "cells": {
             "fill": {
              "color": "#EBF0F8"
             },
             "line": {
              "color": "white"
             }
            },
            "header": {
             "fill": {
              "color": "#C8D4E3"
             },
             "line": {
              "color": "white"
             }
            },
            "type": "table"
           }
          ]
         },
         "layout": {
          "annotationdefaults": {
           "arrowcolor": "#2a3f5f",
           "arrowhead": 0,
           "arrowwidth": 1
          },
          "autotypenumbers": "strict",
          "coloraxis": {
           "colorbar": {
            "outlinewidth": 0,
            "ticks": ""
           }
          },
          "colorscale": {
           "diverging": [
            [
             0,
             "#8e0152"
            ],
            [
             0.1,
             "#c51b7d"
            ],
            [
             0.2,
             "#de77ae"
            ],
            [
             0.3,
             "#f1b6da"
            ],
            [
             0.4,
             "#fde0ef"
            ],
            [
             0.5,
             "#f7f7f7"
            ],
            [
             0.6,
             "#e6f5d0"
            ],
            [
             0.7,
             "#b8e186"
            ],
            [
             0.8,
             "#7fbc41"
            ],
            [
             0.9,
             "#4d9221"
            ],
            [
             1,
             "#276419"
            ]
           ],
           "sequential": [
            [
             0,
             "#0d0887"
            ],
            [
             0.1111111111111111,
             "#46039f"
            ],
            [
             0.2222222222222222,
             "#7201a8"
            ],
            [
             0.3333333333333333,
             "#9c179e"
            ],
            [
             0.4444444444444444,
             "#bd3786"
            ],
            [
             0.5555555555555556,
             "#d8576b"
            ],
            [
             0.6666666666666666,
             "#ed7953"
            ],
            [
             0.7777777777777778,
             "#fb9f3a"
            ],
            [
             0.8888888888888888,
             "#fdca26"
            ],
            [
             1,
             "#f0f921"
            ]
           ],
           "sequentialminus": [
            [
             0,
             "#0d0887"
            ],
            [
             0.1111111111111111,
             "#46039f"
            ],
            [
             0.2222222222222222,
             "#7201a8"
            ],
            [
             0.3333333333333333,
             "#9c179e"
            ],
            [
             0.4444444444444444,
             "#bd3786"
            ],
            [
             0.5555555555555556,
             "#d8576b"
            ],
            [
             0.6666666666666666,
             "#ed7953"
            ],
            [
             0.7777777777777778,
             "#fb9f3a"
            ],
            [
             0.8888888888888888,
             "#fdca26"
            ],
            [
             1,
             "#f0f921"
            ]
           ]
          },
          "colorway": [
           "#636efa",
           "#EF553B",
           "#00cc96",
           "#ab63fa",
           "#FFA15A",
           "#19d3f3",
           "#FF6692",
           "#B6E880",
           "#FF97FF",
           "#FECB52"
          ],
          "font": {
           "color": "#2a3f5f"
          },
          "geo": {
           "bgcolor": "white",
           "lakecolor": "white",
           "landcolor": "#E5ECF6",
           "showlakes": true,
           "showland": true,
           "subunitcolor": "white"
          },
          "hoverlabel": {
           "align": "left"
          },
          "hovermode": "closest",
          "mapbox": {
           "style": "light"
          },
          "paper_bgcolor": "white",
          "plot_bgcolor": "#E5ECF6",
          "polar": {
           "angularaxis": {
            "gridcolor": "white",
            "linecolor": "white",
            "ticks": ""
           },
           "bgcolor": "#E5ECF6",
           "radialaxis": {
            "gridcolor": "white",
            "linecolor": "white",
            "ticks": ""
           }
          },
          "scene": {
           "xaxis": {
            "backgroundcolor": "#E5ECF6",
            "gridcolor": "white",
            "gridwidth": 2,
            "linecolor": "white",
            "showbackground": true,
            "ticks": "",
            "zerolinecolor": "white"
           },
           "yaxis": {
            "backgroundcolor": "#E5ECF6",
            "gridcolor": "white",
            "gridwidth": 2,
            "linecolor": "white",
            "showbackground": true,
            "ticks": "",
            "zerolinecolor": "white"
           },
           "zaxis": {
            "backgroundcolor": "#E5ECF6",
            "gridcolor": "white",
            "gridwidth": 2,
            "linecolor": "white",
            "showbackground": true,
            "ticks": "",
            "zerolinecolor": "white"
           }
          },
          "shapedefaults": {
           "line": {
            "color": "#2a3f5f"
           }
          },
          "ternary": {
           "aaxis": {
            "gridcolor": "white",
            "linecolor": "white",
            "ticks": ""
           },
           "baxis": {
            "gridcolor": "white",
            "linecolor": "white",
            "ticks": ""
           },
           "bgcolor": "#E5ECF6",
           "caxis": {
            "gridcolor": "white",
            "linecolor": "white",
            "ticks": ""
           }
          },
          "title": {
           "x": 0.05
          },
          "xaxis": {
           "automargin": true,
           "gridcolor": "white",
           "linecolor": "white",
           "ticks": "",
           "title": {
            "standoff": 15
           },
           "zerolinecolor": "white",
           "zerolinewidth": 2
          },
          "yaxis": {
           "automargin": true,
           "gridcolor": "white",
           "linecolor": "white",
           "ticks": "",
           "title": {
            "standoff": 15
           },
           "zerolinecolor": "white",
           "zerolinewidth": 2
          }
         }
        },
        "title": {
         "text": "Day 06/12/2024"
        },
        "xaxis": {
         "anchor": "y",
         "domain": [
          0,
          1
         ],
         "title": {
          "text": "hour"
         }
        },
        "yaxis": {
         "anchor": "x",
         "domain": [
          0,
          1
         ],
         "title": {
          "text": "count"
         }
        }
       }
      }
     },
     "metadata": {},
     "output_type": "display_data"
    },
    {
     "name": "stderr",
     "output_type": "stream",
     "text": [
      "/Users/hamzatriki/opt/anaconda3/lib/python3.9/site-packages/pandas/core/dtypes/cast.py:1841: DeprecationWarning:\n",
      "\n",
      "np.find_common_type is deprecated.  Please use `np.result_type` or `np.promote_types`.\n",
      "See https://numpy.org/devdocs/release/1.25.0-notes.html and the docs for more information.  (Deprecated NumPy 1.25)\n",
      "\n"
     ]
    },
    {
     "data": {
      "application/vnd.plotly.v1+json": {
       "config": {
        "plotlyServerURL": "https://plot.ly"
       },
       "data": [
        {
         "alignmentgroup": "True",
         "hovertemplate": "OnGround=In Air<br>hour=%{x}<br>count=%{y}<extra></extra>",
         "legendgroup": "In Air",
         "marker": {
          "color": "#636efa",
          "pattern": {
           "shape": ""
          }
         },
         "name": "In Air",
         "offsetgroup": "In Air",
         "orientation": "v",
         "showlegend": true,
         "textposition": "auto",
         "type": "bar",
         "x": [
          0,
          1,
          7,
          9,
          11,
          14,
          16,
          18,
          20
         ],
         "xaxis": "x",
         "y": [
          5,
          4,
          120,
          110,
          130,
          131,
          143,
          99,
          96
         ],
         "yaxis": "y"
        },
        {
         "alignmentgroup": "True",
         "hovertemplate": "OnGround=On Ground<br>hour=%{x}<br>count=%{y}<extra></extra>",
         "legendgroup": "On Ground",
         "marker": {
          "color": "#EF553B",
          "pattern": {
           "shape": ""
          }
         },
         "name": "On Ground",
         "offsetgroup": "On Ground",
         "orientation": "v",
         "showlegend": true,
         "textposition": "auto",
         "type": "bar",
         "x": [
          0,
          1,
          7,
          9,
          11,
          14,
          16,
          18,
          20
         ],
         "xaxis": "x",
         "y": [
          5,
          4,
          4,
          5,
          4,
          4,
          2,
          3,
          3
         ],
         "yaxis": "y"
        }
       ],
       "layout": {
        "barmode": "relative",
        "legend": {
         "title": {
          "text": "OnGround"
         },
         "tracegroupgap": 0
        },
        "template": {
         "data": {
          "bar": [
           {
            "error_x": {
             "color": "#2a3f5f"
            },
            "error_y": {
             "color": "#2a3f5f"
            },
            "marker": {
             "line": {
              "color": "#E5ECF6",
              "width": 0.5
             },
             "pattern": {
              "fillmode": "overlay",
              "size": 10,
              "solidity": 0.2
             }
            },
            "type": "bar"
           }
          ],
          "barpolar": [
           {
            "marker": {
             "line": {
              "color": "#E5ECF6",
              "width": 0.5
             },
             "pattern": {
              "fillmode": "overlay",
              "size": 10,
              "solidity": 0.2
             }
            },
            "type": "barpolar"
           }
          ],
          "carpet": [
           {
            "aaxis": {
             "endlinecolor": "#2a3f5f",
             "gridcolor": "white",
             "linecolor": "white",
             "minorgridcolor": "white",
             "startlinecolor": "#2a3f5f"
            },
            "baxis": {
             "endlinecolor": "#2a3f5f",
             "gridcolor": "white",
             "linecolor": "white",
             "minorgridcolor": "white",
             "startlinecolor": "#2a3f5f"
            },
            "type": "carpet"
           }
          ],
          "choropleth": [
           {
            "colorbar": {
             "outlinewidth": 0,
             "ticks": ""
            },
            "type": "choropleth"
           }
          ],
          "contour": [
           {
            "colorbar": {
             "outlinewidth": 0,
             "ticks": ""
            },
            "colorscale": [
             [
              0,
              "#0d0887"
             ],
             [
              0.1111111111111111,
              "#46039f"
             ],
             [
              0.2222222222222222,
              "#7201a8"
             ],
             [
              0.3333333333333333,
              "#9c179e"
             ],
             [
              0.4444444444444444,
              "#bd3786"
             ],
             [
              0.5555555555555556,
              "#d8576b"
             ],
             [
              0.6666666666666666,
              "#ed7953"
             ],
             [
              0.7777777777777778,
              "#fb9f3a"
             ],
             [
              0.8888888888888888,
              "#fdca26"
             ],
             [
              1,
              "#f0f921"
             ]
            ],
            "type": "contour"
           }
          ],
          "contourcarpet": [
           {
            "colorbar": {
             "outlinewidth": 0,
             "ticks": ""
            },
            "type": "contourcarpet"
           }
          ],
          "heatmap": [
           {
            "colorbar": {
             "outlinewidth": 0,
             "ticks": ""
            },
            "colorscale": [
             [
              0,
              "#0d0887"
             ],
             [
              0.1111111111111111,
              "#46039f"
             ],
             [
              0.2222222222222222,
              "#7201a8"
             ],
             [
              0.3333333333333333,
              "#9c179e"
             ],
             [
              0.4444444444444444,
              "#bd3786"
             ],
             [
              0.5555555555555556,
              "#d8576b"
             ],
             [
              0.6666666666666666,
              "#ed7953"
             ],
             [
              0.7777777777777778,
              "#fb9f3a"
             ],
             [
              0.8888888888888888,
              "#fdca26"
             ],
             [
              1,
              "#f0f921"
             ]
            ],
            "type": "heatmap"
           }
          ],
          "heatmapgl": [
           {
            "colorbar": {
             "outlinewidth": 0,
             "ticks": ""
            },
            "colorscale": [
             [
              0,
              "#0d0887"
             ],
             [
              0.1111111111111111,
              "#46039f"
             ],
             [
              0.2222222222222222,
              "#7201a8"
             ],
             [
              0.3333333333333333,
              "#9c179e"
             ],
             [
              0.4444444444444444,
              "#bd3786"
             ],
             [
              0.5555555555555556,
              "#d8576b"
             ],
             [
              0.6666666666666666,
              "#ed7953"
             ],
             [
              0.7777777777777778,
              "#fb9f3a"
             ],
             [
              0.8888888888888888,
              "#fdca26"
             ],
             [
              1,
              "#f0f921"
             ]
            ],
            "type": "heatmapgl"
           }
          ],
          "histogram": [
           {
            "marker": {
             "pattern": {
              "fillmode": "overlay",
              "size": 10,
              "solidity": 0.2
             }
            },
            "type": "histogram"
           }
          ],
          "histogram2d": [
           {
            "colorbar": {
             "outlinewidth": 0,
             "ticks": ""
            },
            "colorscale": [
             [
              0,
              "#0d0887"
             ],
             [
              0.1111111111111111,
              "#46039f"
             ],
             [
              0.2222222222222222,
              "#7201a8"
             ],
             [
              0.3333333333333333,
              "#9c179e"
             ],
             [
              0.4444444444444444,
              "#bd3786"
             ],
             [
              0.5555555555555556,
              "#d8576b"
             ],
             [
              0.6666666666666666,
              "#ed7953"
             ],
             [
              0.7777777777777778,
              "#fb9f3a"
             ],
             [
              0.8888888888888888,
              "#fdca26"
             ],
             [
              1,
              "#f0f921"
             ]
            ],
            "type": "histogram2d"
           }
          ],
          "histogram2dcontour": [
           {
            "colorbar": {
             "outlinewidth": 0,
             "ticks": ""
            },
            "colorscale": [
             [
              0,
              "#0d0887"
             ],
             [
              0.1111111111111111,
              "#46039f"
             ],
             [
              0.2222222222222222,
              "#7201a8"
             ],
             [
              0.3333333333333333,
              "#9c179e"
             ],
             [
              0.4444444444444444,
              "#bd3786"
             ],
             [
              0.5555555555555556,
              "#d8576b"
             ],
             [
              0.6666666666666666,
              "#ed7953"
             ],
             [
              0.7777777777777778,
              "#fb9f3a"
             ],
             [
              0.8888888888888888,
              "#fdca26"
             ],
             [
              1,
              "#f0f921"
             ]
            ],
            "type": "histogram2dcontour"
           }
          ],
          "mesh3d": [
           {
            "colorbar": {
             "outlinewidth": 0,
             "ticks": ""
            },
            "type": "mesh3d"
           }
          ],
          "parcoords": [
           {
            "line": {
             "colorbar": {
              "outlinewidth": 0,
              "ticks": ""
             }
            },
            "type": "parcoords"
           }
          ],
          "pie": [
           {
            "automargin": true,
            "type": "pie"
           }
          ],
          "scatter": [
           {
            "fillpattern": {
             "fillmode": "overlay",
             "size": 10,
             "solidity": 0.2
            },
            "type": "scatter"
           }
          ],
          "scatter3d": [
           {
            "line": {
             "colorbar": {
              "outlinewidth": 0,
              "ticks": ""
             }
            },
            "marker": {
             "colorbar": {
              "outlinewidth": 0,
              "ticks": ""
             }
            },
            "type": "scatter3d"
           }
          ],
          "scattercarpet": [
           {
            "marker": {
             "colorbar": {
              "outlinewidth": 0,
              "ticks": ""
             }
            },
            "type": "scattercarpet"
           }
          ],
          "scattergeo": [
           {
            "marker": {
             "colorbar": {
              "outlinewidth": 0,
              "ticks": ""
             }
            },
            "type": "scattergeo"
           }
          ],
          "scattergl": [
           {
            "marker": {
             "colorbar": {
              "outlinewidth": 0,
              "ticks": ""
             }
            },
            "type": "scattergl"
           }
          ],
          "scattermapbox": [
           {
            "marker": {
             "colorbar": {
              "outlinewidth": 0,
              "ticks": ""
             }
            },
            "type": "scattermapbox"
           }
          ],
          "scatterpolar": [
           {
            "marker": {
             "colorbar": {
              "outlinewidth": 0,
              "ticks": ""
             }
            },
            "type": "scatterpolar"
           }
          ],
          "scatterpolargl": [
           {
            "marker": {
             "colorbar": {
              "outlinewidth": 0,
              "ticks": ""
             }
            },
            "type": "scatterpolargl"
           }
          ],
          "scatterternary": [
           {
            "marker": {
             "colorbar": {
              "outlinewidth": 0,
              "ticks": ""
             }
            },
            "type": "scatterternary"
           }
          ],
          "surface": [
           {
            "colorbar": {
             "outlinewidth": 0,
             "ticks": ""
            },
            "colorscale": [
             [
              0,
              "#0d0887"
             ],
             [
              0.1111111111111111,
              "#46039f"
             ],
             [
              0.2222222222222222,
              "#7201a8"
             ],
             [
              0.3333333333333333,
              "#9c179e"
             ],
             [
              0.4444444444444444,
              "#bd3786"
             ],
             [
              0.5555555555555556,
              "#d8576b"
             ],
             [
              0.6666666666666666,
              "#ed7953"
             ],
             [
              0.7777777777777778,
              "#fb9f3a"
             ],
             [
              0.8888888888888888,
              "#fdca26"
             ],
             [
              1,
              "#f0f921"
             ]
            ],
            "type": "surface"
           }
          ],
          "table": [
           {
            "cells": {
             "fill": {
              "color": "#EBF0F8"
             },
             "line": {
              "color": "white"
             }
            },
            "header": {
             "fill": {
              "color": "#C8D4E3"
             },
             "line": {
              "color": "white"
             }
            },
            "type": "table"
           }
          ]
         },
         "layout": {
          "annotationdefaults": {
           "arrowcolor": "#2a3f5f",
           "arrowhead": 0,
           "arrowwidth": 1
          },
          "autotypenumbers": "strict",
          "coloraxis": {
           "colorbar": {
            "outlinewidth": 0,
            "ticks": ""
           }
          },
          "colorscale": {
           "diverging": [
            [
             0,
             "#8e0152"
            ],
            [
             0.1,
             "#c51b7d"
            ],
            [
             0.2,
             "#de77ae"
            ],
            [
             0.3,
             "#f1b6da"
            ],
            [
             0.4,
             "#fde0ef"
            ],
            [
             0.5,
             "#f7f7f7"
            ],
            [
             0.6,
             "#e6f5d0"
            ],
            [
             0.7,
             "#b8e186"
            ],
            [
             0.8,
             "#7fbc41"
            ],
            [
             0.9,
             "#4d9221"
            ],
            [
             1,
             "#276419"
            ]
           ],
           "sequential": [
            [
             0,
             "#0d0887"
            ],
            [
             0.1111111111111111,
             "#46039f"
            ],
            [
             0.2222222222222222,
             "#7201a8"
            ],
            [
             0.3333333333333333,
             "#9c179e"
            ],
            [
             0.4444444444444444,
             "#bd3786"
            ],
            [
             0.5555555555555556,
             "#d8576b"
            ],
            [
             0.6666666666666666,
             "#ed7953"
            ],
            [
             0.7777777777777778,
             "#fb9f3a"
            ],
            [
             0.8888888888888888,
             "#fdca26"
            ],
            [
             1,
             "#f0f921"
            ]
           ],
           "sequentialminus": [
            [
             0,
             "#0d0887"
            ],
            [
             0.1111111111111111,
             "#46039f"
            ],
            [
             0.2222222222222222,
             "#7201a8"
            ],
            [
             0.3333333333333333,
             "#9c179e"
            ],
            [
             0.4444444444444444,
             "#bd3786"
            ],
            [
             0.5555555555555556,
             "#d8576b"
            ],
            [
             0.6666666666666666,
             "#ed7953"
            ],
            [
             0.7777777777777778,
             "#fb9f3a"
            ],
            [
             0.8888888888888888,
             "#fdca26"
            ],
            [
             1,
             "#f0f921"
            ]
           ]
          },
          "colorway": [
           "#636efa",
           "#EF553B",
           "#00cc96",
           "#ab63fa",
           "#FFA15A",
           "#19d3f3",
           "#FF6692",
           "#B6E880",
           "#FF97FF",
           "#FECB52"
          ],
          "font": {
           "color": "#2a3f5f"
          },
          "geo": {
           "bgcolor": "white",
           "lakecolor": "white",
           "landcolor": "#E5ECF6",
           "showlakes": true,
           "showland": true,
           "subunitcolor": "white"
          },
          "hoverlabel": {
           "align": "left"
          },
          "hovermode": "closest",
          "mapbox": {
           "style": "light"
          },
          "paper_bgcolor": "white",
          "plot_bgcolor": "#E5ECF6",
          "polar": {
           "angularaxis": {
            "gridcolor": "white",
            "linecolor": "white",
            "ticks": ""
           },
           "bgcolor": "#E5ECF6",
           "radialaxis": {
            "gridcolor": "white",
            "linecolor": "white",
            "ticks": ""
           }
          },
          "scene": {
           "xaxis": {
            "backgroundcolor": "#E5ECF6",
            "gridcolor": "white",
            "gridwidth": 2,
            "linecolor": "white",
            "showbackground": true,
            "ticks": "",
            "zerolinecolor": "white"
           },
           "yaxis": {
            "backgroundcolor": "#E5ECF6",
            "gridcolor": "white",
            "gridwidth": 2,
            "linecolor": "white",
            "showbackground": true,
            "ticks": "",
            "zerolinecolor": "white"
           },
           "zaxis": {
            "backgroundcolor": "#E5ECF6",
            "gridcolor": "white",
            "gridwidth": 2,
            "linecolor": "white",
            "showbackground": true,
            "ticks": "",
            "zerolinecolor": "white"
           }
          },
          "shapedefaults": {
           "line": {
            "color": "#2a3f5f"
           }
          },
          "ternary": {
           "aaxis": {
            "gridcolor": "white",
            "linecolor": "white",
            "ticks": ""
           },
           "baxis": {
            "gridcolor": "white",
            "linecolor": "white",
            "ticks": ""
           },
           "bgcolor": "#E5ECF6",
           "caxis": {
            "gridcolor": "white",
            "linecolor": "white",
            "ticks": ""
           }
          },
          "title": {
           "x": 0.05
          },
          "xaxis": {
           "automargin": true,
           "gridcolor": "white",
           "linecolor": "white",
           "ticks": "",
           "title": {
            "standoff": 15
           },
           "zerolinecolor": "white",
           "zerolinewidth": 2
          },
          "yaxis": {
           "automargin": true,
           "gridcolor": "white",
           "linecolor": "white",
           "ticks": "",
           "title": {
            "standoff": 15
           },
           "zerolinecolor": "white",
           "zerolinewidth": 2
          }
         }
        },
        "title": {
         "text": "Day 07/12/2024"
        },
        "xaxis": {
         "anchor": "y",
         "domain": [
          0,
          1
         ],
         "title": {
          "text": "hour"
         }
        },
        "yaxis": {
         "anchor": "x",
         "domain": [
          0,
          1
         ],
         "title": {
          "text": "count"
         }
        }
       }
      }
     },
     "metadata": {},
     "output_type": "display_data"
    }
   ],
   "source": [
    "import plotly.express as px\n",
    "days = df_11_grouped[\"day\"].unique()\n",
    "for day in days:\n",
    "    df = df_11_grouped[df_11_grouped[\"day\"] ==day]\n",
    "    df =df.groupby([\"hour\",\"OnGround\"])[\"OnGround\"].size().reset_index(name=\"count\")\n",
    "    df[\"OnGround\"] = df[\"OnGround\"].replace({1: \"On Ground\", 0: \"In Air\"})\n",
    "    \n",
    "    fig = px.bar(df, x=\"hour\", y=\"count\", color=\"OnGround\", title=f\"Day {day}\")\n",
    "\n",
    "    fig.show()\n",
    "    \n"
   ]
  },
  {
   "cell_type": "code",
   "execution_count": null,
   "metadata": {},
   "outputs": [],
   "source": []
  }
 ],
 "metadata": {
  "kernelspec": {
   "display_name": "base",
   "language": "python",
   "name": "python3"
  },
  "language_info": {
   "codemirror_mode": {
    "name": "ipython",
    "version": 3
   },
   "file_extension": ".py",
   "mimetype": "text/x-python",
   "name": "python",
   "nbconvert_exporter": "python",
   "pygments_lexer": "ipython3",
   "version": "3.9.19"
  }
 },
 "nbformat": 4,
 "nbformat_minor": 2
}
